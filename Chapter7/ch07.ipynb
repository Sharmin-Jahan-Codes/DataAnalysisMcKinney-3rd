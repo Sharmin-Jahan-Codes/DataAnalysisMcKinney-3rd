{
 "cells": [
  {
   "cell_type": "code",
   "execution_count": 271,
   "id": "c6a07229-cb24-4c71-a36a-5df102301715",
   "metadata": {},
   "outputs": [],
   "source": [
    "# 7.1 Handling Missing Data"
   ]
  },
  {
   "cell_type": "code",
   "execution_count": 3,
   "id": "f812e2f8-8bd8-4db1-a9fa-1b6c3160008a",
   "metadata": {},
   "outputs": [],
   "source": [
    "import pandas as pd\n",
    "import numpy as np"
   ]
  },
  {
   "cell_type": "code",
   "execution_count": 273,
   "id": "bf1bd405-922f-4a2a-9508-5058fc71e985",
   "metadata": {},
   "outputs": [
    {
     "data": {
      "text/plain": [
       "0    1.2\n",
       "1   -3.5\n",
       "2    NaN\n",
       "3    0.0\n",
       "dtype: float64"
      ]
     },
     "execution_count": 273,
     "metadata": {},
     "output_type": "execute_result"
    }
   ],
   "source": [
    "In [14]: float_data = pd.Series([1.2, -3.5, np.nan, 0])\n",
    "\n",
    "In [15]: float_data"
   ]
  },
  {
   "cell_type": "code",
   "execution_count": 274,
   "id": "b24342cf-03d1-4565-8b1e-d6d786214c4f",
   "metadata": {},
   "outputs": [
    {
     "data": {
      "text/plain": [
       "0    False\n",
       "1    False\n",
       "2     True\n",
       "3    False\n",
       "dtype: bool"
      ]
     },
     "execution_count": 274,
     "metadata": {},
     "output_type": "execute_result"
    }
   ],
   "source": [
    "In [16]: float_data.isna()"
   ]
  },
  {
   "cell_type": "code",
   "execution_count": 275,
   "id": "d37c9ab5-8609-4269-81cd-56816fbca411",
   "metadata": {},
   "outputs": [
    {
     "data": {
      "text/plain": [
       "0    aardvark\n",
       "1         NaN\n",
       "2        None\n",
       "3     avocado\n",
       "dtype: object"
      ]
     },
     "execution_count": 275,
     "metadata": {},
     "output_type": "execute_result"
    }
   ],
   "source": [
    "In [17]: string_data = pd.Series([\"aardvark\", np.nan, None, \"avocado\"])\n",
    "\n",
    "In [18]: string_data"
   ]
  },
  {
   "cell_type": "code",
   "execution_count": 276,
   "id": "83161780-2b2d-4877-82a1-272363ac4f0e",
   "metadata": {},
   "outputs": [
    {
     "data": {
      "text/plain": [
       "0    False\n",
       "1     True\n",
       "2     True\n",
       "3    False\n",
       "dtype: bool"
      ]
     },
     "execution_count": 276,
     "metadata": {},
     "output_type": "execute_result"
    }
   ],
   "source": [
    "In [19]: string_data.isna()"
   ]
  },
  {
   "cell_type": "code",
   "execution_count": 277,
   "id": "ad9e7a6e-e3ec-4302-a5db-473110633fff",
   "metadata": {},
   "outputs": [
    {
     "data": {
      "text/plain": [
       "0    1.0\n",
       "1    2.0\n",
       "2    NaN\n",
       "dtype: float64"
      ]
     },
     "execution_count": 277,
     "metadata": {},
     "output_type": "execute_result"
    }
   ],
   "source": [
    "In [20]: float_data = pd.Series([1, 2, None], dtype='float64')\n",
    "\n",
    "In [21]: float_data"
   ]
  },
  {
   "cell_type": "code",
   "execution_count": 278,
   "id": "86bec28e-4032-48c6-8a2d-2047c5e3177d",
   "metadata": {},
   "outputs": [
    {
     "data": {
      "text/plain": [
       "0    False\n",
       "1    False\n",
       "2     True\n",
       "dtype: bool"
      ]
     },
     "execution_count": 278,
     "metadata": {},
     "output_type": "execute_result"
    }
   ],
   "source": [
    "In [22]: float_data.isna()"
   ]
  },
  {
   "cell_type": "code",
   "execution_count": 279,
   "id": "28a30160-e8e3-41d0-975f-1033c3b83639",
   "metadata": {},
   "outputs": [
    {
     "data": {
      "text/plain": [
       "0    1.0\n",
       "2    3.5\n",
       "4    7.0\n",
       "dtype: float64"
      ]
     },
     "execution_count": 279,
     "metadata": {},
     "output_type": "execute_result"
    }
   ],
   "source": [
    "In [23]: data = pd.Series([1, np.nan, 3.5, np.nan, 7])\n",
    "\n",
    "In [24]: data.dropna()"
   ]
  },
  {
   "cell_type": "code",
   "execution_count": 280,
   "id": "e12e7952-6ee1-4417-b04d-f2f40433f9c1",
   "metadata": {},
   "outputs": [
    {
     "data": {
      "text/plain": [
       "0    1.0\n",
       "2    3.5\n",
       "4    7.0\n",
       "dtype: float64"
      ]
     },
     "execution_count": 280,
     "metadata": {},
     "output_type": "execute_result"
    }
   ],
   "source": [
    "In [25]: data[data.notna()]"
   ]
  },
  {
   "cell_type": "code",
   "execution_count": 281,
   "id": "baebc7ac-73e3-4196-9465-2722137937ed",
   "metadata": {},
   "outputs": [
    {
     "data": {
      "text/html": [
       "<div>\n",
       "<style scoped>\n",
       "    .dataframe tbody tr th:only-of-type {\n",
       "        vertical-align: middle;\n",
       "    }\n",
       "\n",
       "    .dataframe tbody tr th {\n",
       "        vertical-align: top;\n",
       "    }\n",
       "\n",
       "    .dataframe thead th {\n",
       "        text-align: right;\n",
       "    }\n",
       "</style>\n",
       "<table border=\"1\" class=\"dataframe\">\n",
       "  <thead>\n",
       "    <tr style=\"text-align: right;\">\n",
       "      <th></th>\n",
       "      <th>0</th>\n",
       "      <th>1</th>\n",
       "      <th>2</th>\n",
       "    </tr>\n",
       "  </thead>\n",
       "  <tbody>\n",
       "    <tr>\n",
       "      <th>0</th>\n",
       "      <td>1.0</td>\n",
       "      <td>6.5</td>\n",
       "      <td>3.0</td>\n",
       "    </tr>\n",
       "    <tr>\n",
       "      <th>1</th>\n",
       "      <td>1.0</td>\n",
       "      <td>NaN</td>\n",
       "      <td>NaN</td>\n",
       "    </tr>\n",
       "    <tr>\n",
       "      <th>2</th>\n",
       "      <td>NaN</td>\n",
       "      <td>NaN</td>\n",
       "      <td>NaN</td>\n",
       "    </tr>\n",
       "    <tr>\n",
       "      <th>3</th>\n",
       "      <td>NaN</td>\n",
       "      <td>6.5</td>\n",
       "      <td>3.0</td>\n",
       "    </tr>\n",
       "  </tbody>\n",
       "</table>\n",
       "</div>"
      ],
      "text/plain": [
       "     0    1    2\n",
       "0  1.0  6.5  3.0\n",
       "1  1.0  NaN  NaN\n",
       "2  NaN  NaN  NaN\n",
       "3  NaN  6.5  3.0"
      ]
     },
     "execution_count": 281,
     "metadata": {},
     "output_type": "execute_result"
    }
   ],
   "source": [
    "In [26]: data = pd.DataFrame([[1., 6.5, 3.], [1., np.nan, np.nan],\n",
    "   ....:                      [np.nan, np.nan, np.nan], [np.nan, 6.5, 3.]])\n",
    "\n",
    "In [27]: data"
   ]
  },
  {
   "cell_type": "code",
   "execution_count": 282,
   "id": "cf2d0fda-a633-4cb6-81cf-c60ebf810eb8",
   "metadata": {},
   "outputs": [
    {
     "data": {
      "text/html": [
       "<div>\n",
       "<style scoped>\n",
       "    .dataframe tbody tr th:only-of-type {\n",
       "        vertical-align: middle;\n",
       "    }\n",
       "\n",
       "    .dataframe tbody tr th {\n",
       "        vertical-align: top;\n",
       "    }\n",
       "\n",
       "    .dataframe thead th {\n",
       "        text-align: right;\n",
       "    }\n",
       "</style>\n",
       "<table border=\"1\" class=\"dataframe\">\n",
       "  <thead>\n",
       "    <tr style=\"text-align: right;\">\n",
       "      <th></th>\n",
       "      <th>0</th>\n",
       "      <th>1</th>\n",
       "      <th>2</th>\n",
       "    </tr>\n",
       "  </thead>\n",
       "  <tbody>\n",
       "    <tr>\n",
       "      <th>0</th>\n",
       "      <td>1.0</td>\n",
       "      <td>6.5</td>\n",
       "      <td>3.0</td>\n",
       "    </tr>\n",
       "  </tbody>\n",
       "</table>\n",
       "</div>"
      ],
      "text/plain": [
       "     0    1    2\n",
       "0  1.0  6.5  3.0"
      ]
     },
     "execution_count": 282,
     "metadata": {},
     "output_type": "execute_result"
    }
   ],
   "source": [
    "In [28]: data.dropna()"
   ]
  },
  {
   "cell_type": "code",
   "execution_count": 283,
   "id": "3699d9eb-33c9-4923-9c6a-f33478bcf501",
   "metadata": {},
   "outputs": [
    {
     "data": {
      "text/html": [
       "<div>\n",
       "<style scoped>\n",
       "    .dataframe tbody tr th:only-of-type {\n",
       "        vertical-align: middle;\n",
       "    }\n",
       "\n",
       "    .dataframe tbody tr th {\n",
       "        vertical-align: top;\n",
       "    }\n",
       "\n",
       "    .dataframe thead th {\n",
       "        text-align: right;\n",
       "    }\n",
       "</style>\n",
       "<table border=\"1\" class=\"dataframe\">\n",
       "  <thead>\n",
       "    <tr style=\"text-align: right;\">\n",
       "      <th></th>\n",
       "      <th>0</th>\n",
       "      <th>1</th>\n",
       "      <th>2</th>\n",
       "    </tr>\n",
       "  </thead>\n",
       "  <tbody>\n",
       "    <tr>\n",
       "      <th>0</th>\n",
       "      <td>1.0</td>\n",
       "      <td>6.5</td>\n",
       "      <td>3.0</td>\n",
       "    </tr>\n",
       "    <tr>\n",
       "      <th>1</th>\n",
       "      <td>1.0</td>\n",
       "      <td>NaN</td>\n",
       "      <td>NaN</td>\n",
       "    </tr>\n",
       "    <tr>\n",
       "      <th>3</th>\n",
       "      <td>NaN</td>\n",
       "      <td>6.5</td>\n",
       "      <td>3.0</td>\n",
       "    </tr>\n",
       "  </tbody>\n",
       "</table>\n",
       "</div>"
      ],
      "text/plain": [
       "     0    1    2\n",
       "0  1.0  6.5  3.0\n",
       "1  1.0  NaN  NaN\n",
       "3  NaN  6.5  3.0"
      ]
     },
     "execution_count": 283,
     "metadata": {},
     "output_type": "execute_result"
    }
   ],
   "source": [
    "In [29]: data.dropna(how=\"all\")"
   ]
  },
  {
   "cell_type": "code",
   "execution_count": 284,
   "id": "58cfc96d-0495-490e-8ef9-9eec062ffb5a",
   "metadata": {},
   "outputs": [
    {
     "data": {
      "text/html": [
       "<div>\n",
       "<style scoped>\n",
       "    .dataframe tbody tr th:only-of-type {\n",
       "        vertical-align: middle;\n",
       "    }\n",
       "\n",
       "    .dataframe tbody tr th {\n",
       "        vertical-align: top;\n",
       "    }\n",
       "\n",
       "    .dataframe thead th {\n",
       "        text-align: right;\n",
       "    }\n",
       "</style>\n",
       "<table border=\"1\" class=\"dataframe\">\n",
       "  <thead>\n",
       "    <tr style=\"text-align: right;\">\n",
       "      <th></th>\n",
       "      <th>0</th>\n",
       "      <th>1</th>\n",
       "      <th>2</th>\n",
       "      <th>4</th>\n",
       "    </tr>\n",
       "  </thead>\n",
       "  <tbody>\n",
       "    <tr>\n",
       "      <th>0</th>\n",
       "      <td>1.0</td>\n",
       "      <td>6.5</td>\n",
       "      <td>3.0</td>\n",
       "      <td>NaN</td>\n",
       "    </tr>\n",
       "    <tr>\n",
       "      <th>1</th>\n",
       "      <td>1.0</td>\n",
       "      <td>NaN</td>\n",
       "      <td>NaN</td>\n",
       "      <td>NaN</td>\n",
       "    </tr>\n",
       "    <tr>\n",
       "      <th>2</th>\n",
       "      <td>NaN</td>\n",
       "      <td>NaN</td>\n",
       "      <td>NaN</td>\n",
       "      <td>NaN</td>\n",
       "    </tr>\n",
       "    <tr>\n",
       "      <th>3</th>\n",
       "      <td>NaN</td>\n",
       "      <td>6.5</td>\n",
       "      <td>3.0</td>\n",
       "      <td>NaN</td>\n",
       "    </tr>\n",
       "  </tbody>\n",
       "</table>\n",
       "</div>"
      ],
      "text/plain": [
       "     0    1    2   4\n",
       "0  1.0  6.5  3.0 NaN\n",
       "1  1.0  NaN  NaN NaN\n",
       "2  NaN  NaN  NaN NaN\n",
       "3  NaN  6.5  3.0 NaN"
      ]
     },
     "execution_count": 284,
     "metadata": {},
     "output_type": "execute_result"
    }
   ],
   "source": [
    "In [30]: data[4] = np.nan\n",
    "\n",
    "In [31]: data"
   ]
  },
  {
   "cell_type": "code",
   "execution_count": 285,
   "id": "297f6d3e-fe08-4507-b62c-3659ba3816d7",
   "metadata": {},
   "outputs": [
    {
     "data": {
      "text/html": [
       "<div>\n",
       "<style scoped>\n",
       "    .dataframe tbody tr th:only-of-type {\n",
       "        vertical-align: middle;\n",
       "    }\n",
       "\n",
       "    .dataframe tbody tr th {\n",
       "        vertical-align: top;\n",
       "    }\n",
       "\n",
       "    .dataframe thead th {\n",
       "        text-align: right;\n",
       "    }\n",
       "</style>\n",
       "<table border=\"1\" class=\"dataframe\">\n",
       "  <thead>\n",
       "    <tr style=\"text-align: right;\">\n",
       "      <th></th>\n",
       "      <th>0</th>\n",
       "      <th>1</th>\n",
       "      <th>2</th>\n",
       "    </tr>\n",
       "  </thead>\n",
       "  <tbody>\n",
       "    <tr>\n",
       "      <th>0</th>\n",
       "      <td>1.0</td>\n",
       "      <td>6.5</td>\n",
       "      <td>3.0</td>\n",
       "    </tr>\n",
       "    <tr>\n",
       "      <th>1</th>\n",
       "      <td>1.0</td>\n",
       "      <td>NaN</td>\n",
       "      <td>NaN</td>\n",
       "    </tr>\n",
       "    <tr>\n",
       "      <th>2</th>\n",
       "      <td>NaN</td>\n",
       "      <td>NaN</td>\n",
       "      <td>NaN</td>\n",
       "    </tr>\n",
       "    <tr>\n",
       "      <th>3</th>\n",
       "      <td>NaN</td>\n",
       "      <td>6.5</td>\n",
       "      <td>3.0</td>\n",
       "    </tr>\n",
       "  </tbody>\n",
       "</table>\n",
       "</div>"
      ],
      "text/plain": [
       "     0    1    2\n",
       "0  1.0  6.5  3.0\n",
       "1  1.0  NaN  NaN\n",
       "2  NaN  NaN  NaN\n",
       "3  NaN  6.5  3.0"
      ]
     },
     "execution_count": 285,
     "metadata": {},
     "output_type": "execute_result"
    }
   ],
   "source": [
    "In [32]: data.dropna(axis=\"columns\", how=\"all\")"
   ]
  },
  {
   "cell_type": "code",
   "execution_count": 286,
   "id": "0ee3a0d7-64ae-4b0a-b0c4-cebe91d8c700",
   "metadata": {},
   "outputs": [
    {
     "data": {
      "text/html": [
       "<div>\n",
       "<style scoped>\n",
       "    .dataframe tbody tr th:only-of-type {\n",
       "        vertical-align: middle;\n",
       "    }\n",
       "\n",
       "    .dataframe tbody tr th {\n",
       "        vertical-align: top;\n",
       "    }\n",
       "\n",
       "    .dataframe thead th {\n",
       "        text-align: right;\n",
       "    }\n",
       "</style>\n",
       "<table border=\"1\" class=\"dataframe\">\n",
       "  <thead>\n",
       "    <tr style=\"text-align: right;\">\n",
       "      <th></th>\n",
       "      <th>0</th>\n",
       "      <th>1</th>\n",
       "      <th>2</th>\n",
       "    </tr>\n",
       "  </thead>\n",
       "  <tbody>\n",
       "    <tr>\n",
       "      <th>0</th>\n",
       "      <td>-2.230206</td>\n",
       "      <td>NaN</td>\n",
       "      <td>NaN</td>\n",
       "    </tr>\n",
       "    <tr>\n",
       "      <th>1</th>\n",
       "      <td>0.108137</td>\n",
       "      <td>NaN</td>\n",
       "      <td>NaN</td>\n",
       "    </tr>\n",
       "    <tr>\n",
       "      <th>2</th>\n",
       "      <td>1.631312</td>\n",
       "      <td>NaN</td>\n",
       "      <td>1.023040</td>\n",
       "    </tr>\n",
       "    <tr>\n",
       "      <th>3</th>\n",
       "      <td>-1.241426</td>\n",
       "      <td>NaN</td>\n",
       "      <td>-0.498380</td>\n",
       "    </tr>\n",
       "    <tr>\n",
       "      <th>4</th>\n",
       "      <td>0.105425</td>\n",
       "      <td>2.091290</td>\n",
       "      <td>0.945499</td>\n",
       "    </tr>\n",
       "    <tr>\n",
       "      <th>5</th>\n",
       "      <td>0.569430</td>\n",
       "      <td>0.543451</td>\n",
       "      <td>0.620540</td>\n",
       "    </tr>\n",
       "    <tr>\n",
       "      <th>6</th>\n",
       "      <td>0.021871</td>\n",
       "      <td>2.594796</td>\n",
       "      <td>0.474243</td>\n",
       "    </tr>\n",
       "  </tbody>\n",
       "</table>\n",
       "</div>"
      ],
      "text/plain": [
       "          0         1         2\n",
       "0 -2.230206       NaN       NaN\n",
       "1  0.108137       NaN       NaN\n",
       "2  1.631312       NaN  1.023040\n",
       "3 -1.241426       NaN -0.498380\n",
       "4  0.105425  2.091290  0.945499\n",
       "5  0.569430  0.543451  0.620540\n",
       "6  0.021871  2.594796  0.474243"
      ]
     },
     "execution_count": 286,
     "metadata": {},
     "output_type": "execute_result"
    }
   ],
   "source": [
    "In [33]: df = pd.DataFrame(np.random.standard_normal((7, 3)))\n",
    "\n",
    "In [34]: df.iloc[:4, 1] = np.nan\n",
    "\n",
    "In [35]: df.iloc[:2, 2] = np.nan\n",
    "\n",
    "In [36]: df"
   ]
  },
  {
   "cell_type": "code",
   "execution_count": 287,
   "id": "1db5aaab-536e-45c8-8071-d2e924082640",
   "metadata": {},
   "outputs": [
    {
     "data": {
      "text/html": [
       "<div>\n",
       "<style scoped>\n",
       "    .dataframe tbody tr th:only-of-type {\n",
       "        vertical-align: middle;\n",
       "    }\n",
       "\n",
       "    .dataframe tbody tr th {\n",
       "        vertical-align: top;\n",
       "    }\n",
       "\n",
       "    .dataframe thead th {\n",
       "        text-align: right;\n",
       "    }\n",
       "</style>\n",
       "<table border=\"1\" class=\"dataframe\">\n",
       "  <thead>\n",
       "    <tr style=\"text-align: right;\">\n",
       "      <th></th>\n",
       "      <th>0</th>\n",
       "      <th>1</th>\n",
       "      <th>2</th>\n",
       "    </tr>\n",
       "  </thead>\n",
       "  <tbody>\n",
       "    <tr>\n",
       "      <th>4</th>\n",
       "      <td>0.105425</td>\n",
       "      <td>2.091290</td>\n",
       "      <td>0.945499</td>\n",
       "    </tr>\n",
       "    <tr>\n",
       "      <th>5</th>\n",
       "      <td>0.569430</td>\n",
       "      <td>0.543451</td>\n",
       "      <td>0.620540</td>\n",
       "    </tr>\n",
       "    <tr>\n",
       "      <th>6</th>\n",
       "      <td>0.021871</td>\n",
       "      <td>2.594796</td>\n",
       "      <td>0.474243</td>\n",
       "    </tr>\n",
       "  </tbody>\n",
       "</table>\n",
       "</div>"
      ],
      "text/plain": [
       "          0         1         2\n",
       "4  0.105425  2.091290  0.945499\n",
       "5  0.569430  0.543451  0.620540\n",
       "6  0.021871  2.594796  0.474243"
      ]
     },
     "execution_count": 287,
     "metadata": {},
     "output_type": "execute_result"
    }
   ],
   "source": [
    "In [37]: df.dropna()"
   ]
  },
  {
   "cell_type": "code",
   "execution_count": 288,
   "id": "195d0319-5b4e-48a6-b6ed-a958957eab5c",
   "metadata": {},
   "outputs": [
    {
     "data": {
      "text/html": [
       "<div>\n",
       "<style scoped>\n",
       "    .dataframe tbody tr th:only-of-type {\n",
       "        vertical-align: middle;\n",
       "    }\n",
       "\n",
       "    .dataframe tbody tr th {\n",
       "        vertical-align: top;\n",
       "    }\n",
       "\n",
       "    .dataframe thead th {\n",
       "        text-align: right;\n",
       "    }\n",
       "</style>\n",
       "<table border=\"1\" class=\"dataframe\">\n",
       "  <thead>\n",
       "    <tr style=\"text-align: right;\">\n",
       "      <th></th>\n",
       "      <th>0</th>\n",
       "      <th>1</th>\n",
       "      <th>2</th>\n",
       "    </tr>\n",
       "  </thead>\n",
       "  <tbody>\n",
       "    <tr>\n",
       "      <th>2</th>\n",
       "      <td>1.631312</td>\n",
       "      <td>NaN</td>\n",
       "      <td>1.023040</td>\n",
       "    </tr>\n",
       "    <tr>\n",
       "      <th>3</th>\n",
       "      <td>-1.241426</td>\n",
       "      <td>NaN</td>\n",
       "      <td>-0.498380</td>\n",
       "    </tr>\n",
       "    <tr>\n",
       "      <th>4</th>\n",
       "      <td>0.105425</td>\n",
       "      <td>2.091290</td>\n",
       "      <td>0.945499</td>\n",
       "    </tr>\n",
       "    <tr>\n",
       "      <th>5</th>\n",
       "      <td>0.569430</td>\n",
       "      <td>0.543451</td>\n",
       "      <td>0.620540</td>\n",
       "    </tr>\n",
       "    <tr>\n",
       "      <th>6</th>\n",
       "      <td>0.021871</td>\n",
       "      <td>2.594796</td>\n",
       "      <td>0.474243</td>\n",
       "    </tr>\n",
       "  </tbody>\n",
       "</table>\n",
       "</div>"
      ],
      "text/plain": [
       "          0         1         2\n",
       "2  1.631312       NaN  1.023040\n",
       "3 -1.241426       NaN -0.498380\n",
       "4  0.105425  2.091290  0.945499\n",
       "5  0.569430  0.543451  0.620540\n",
       "6  0.021871  2.594796  0.474243"
      ]
     },
     "execution_count": 288,
     "metadata": {},
     "output_type": "execute_result"
    }
   ],
   "source": [
    "In [38]: df.dropna(thresh=2)"
   ]
  },
  {
   "cell_type": "code",
   "execution_count": 289,
   "id": "8ad24c23-455c-483d-b130-340272d424ae",
   "metadata": {},
   "outputs": [
    {
     "data": {
      "text/html": [
       "<div>\n",
       "<style scoped>\n",
       "    .dataframe tbody tr th:only-of-type {\n",
       "        vertical-align: middle;\n",
       "    }\n",
       "\n",
       "    .dataframe tbody tr th {\n",
       "        vertical-align: top;\n",
       "    }\n",
       "\n",
       "    .dataframe thead th {\n",
       "        text-align: right;\n",
       "    }\n",
       "</style>\n",
       "<table border=\"1\" class=\"dataframe\">\n",
       "  <thead>\n",
       "    <tr style=\"text-align: right;\">\n",
       "      <th></th>\n",
       "      <th>0</th>\n",
       "      <th>1</th>\n",
       "      <th>2</th>\n",
       "    </tr>\n",
       "  </thead>\n",
       "  <tbody>\n",
       "    <tr>\n",
       "      <th>0</th>\n",
       "      <td>-2.230206</td>\n",
       "      <td>0.000000</td>\n",
       "      <td>0.000000</td>\n",
       "    </tr>\n",
       "    <tr>\n",
       "      <th>1</th>\n",
       "      <td>0.108137</td>\n",
       "      <td>0.000000</td>\n",
       "      <td>0.000000</td>\n",
       "    </tr>\n",
       "    <tr>\n",
       "      <th>2</th>\n",
       "      <td>1.631312</td>\n",
       "      <td>0.000000</td>\n",
       "      <td>1.023040</td>\n",
       "    </tr>\n",
       "    <tr>\n",
       "      <th>3</th>\n",
       "      <td>-1.241426</td>\n",
       "      <td>0.000000</td>\n",
       "      <td>-0.498380</td>\n",
       "    </tr>\n",
       "    <tr>\n",
       "      <th>4</th>\n",
       "      <td>0.105425</td>\n",
       "      <td>2.091290</td>\n",
       "      <td>0.945499</td>\n",
       "    </tr>\n",
       "    <tr>\n",
       "      <th>5</th>\n",
       "      <td>0.569430</td>\n",
       "      <td>0.543451</td>\n",
       "      <td>0.620540</td>\n",
       "    </tr>\n",
       "    <tr>\n",
       "      <th>6</th>\n",
       "      <td>0.021871</td>\n",
       "      <td>2.594796</td>\n",
       "      <td>0.474243</td>\n",
       "    </tr>\n",
       "  </tbody>\n",
       "</table>\n",
       "</div>"
      ],
      "text/plain": [
       "          0         1         2\n",
       "0 -2.230206  0.000000  0.000000\n",
       "1  0.108137  0.000000  0.000000\n",
       "2  1.631312  0.000000  1.023040\n",
       "3 -1.241426  0.000000 -0.498380\n",
       "4  0.105425  2.091290  0.945499\n",
       "5  0.569430  0.543451  0.620540\n",
       "6  0.021871  2.594796  0.474243"
      ]
     },
     "execution_count": 289,
     "metadata": {},
     "output_type": "execute_result"
    }
   ],
   "source": [
    "In [39]: df.fillna(0)"
   ]
  },
  {
   "cell_type": "code",
   "execution_count": 290,
   "id": "240c39b7-61ea-43e1-a4bd-61aff8a83b25",
   "metadata": {},
   "outputs": [
    {
     "data": {
      "text/html": [
       "<div>\n",
       "<style scoped>\n",
       "    .dataframe tbody tr th:only-of-type {\n",
       "        vertical-align: middle;\n",
       "    }\n",
       "\n",
       "    .dataframe tbody tr th {\n",
       "        vertical-align: top;\n",
       "    }\n",
       "\n",
       "    .dataframe thead th {\n",
       "        text-align: right;\n",
       "    }\n",
       "</style>\n",
       "<table border=\"1\" class=\"dataframe\">\n",
       "  <thead>\n",
       "    <tr style=\"text-align: right;\">\n",
       "      <th></th>\n",
       "      <th>0</th>\n",
       "      <th>1</th>\n",
       "      <th>2</th>\n",
       "    </tr>\n",
       "  </thead>\n",
       "  <tbody>\n",
       "    <tr>\n",
       "      <th>0</th>\n",
       "      <td>-2.230206</td>\n",
       "      <td>0.500000</td>\n",
       "      <td>0.000000</td>\n",
       "    </tr>\n",
       "    <tr>\n",
       "      <th>1</th>\n",
       "      <td>0.108137</td>\n",
       "      <td>0.500000</td>\n",
       "      <td>0.000000</td>\n",
       "    </tr>\n",
       "    <tr>\n",
       "      <th>2</th>\n",
       "      <td>1.631312</td>\n",
       "      <td>0.500000</td>\n",
       "      <td>1.023040</td>\n",
       "    </tr>\n",
       "    <tr>\n",
       "      <th>3</th>\n",
       "      <td>-1.241426</td>\n",
       "      <td>0.500000</td>\n",
       "      <td>-0.498380</td>\n",
       "    </tr>\n",
       "    <tr>\n",
       "      <th>4</th>\n",
       "      <td>0.105425</td>\n",
       "      <td>2.091290</td>\n",
       "      <td>0.945499</td>\n",
       "    </tr>\n",
       "    <tr>\n",
       "      <th>5</th>\n",
       "      <td>0.569430</td>\n",
       "      <td>0.543451</td>\n",
       "      <td>0.620540</td>\n",
       "    </tr>\n",
       "    <tr>\n",
       "      <th>6</th>\n",
       "      <td>0.021871</td>\n",
       "      <td>2.594796</td>\n",
       "      <td>0.474243</td>\n",
       "    </tr>\n",
       "  </tbody>\n",
       "</table>\n",
       "</div>"
      ],
      "text/plain": [
       "          0         1         2\n",
       "0 -2.230206  0.500000  0.000000\n",
       "1  0.108137  0.500000  0.000000\n",
       "2  1.631312  0.500000  1.023040\n",
       "3 -1.241426  0.500000 -0.498380\n",
       "4  0.105425  2.091290  0.945499\n",
       "5  0.569430  0.543451  0.620540\n",
       "6  0.021871  2.594796  0.474243"
      ]
     },
     "execution_count": 290,
     "metadata": {},
     "output_type": "execute_result"
    }
   ],
   "source": [
    "In [40]: df.fillna({1: 0.5, 2: 0})"
   ]
  },
  {
   "cell_type": "code",
   "execution_count": 291,
   "id": "a7fd3e40-b8e6-4c0d-8528-aa0fdf84d951",
   "metadata": {},
   "outputs": [
    {
     "data": {
      "text/html": [
       "<div>\n",
       "<style scoped>\n",
       "    .dataframe tbody tr th:only-of-type {\n",
       "        vertical-align: middle;\n",
       "    }\n",
       "\n",
       "    .dataframe tbody tr th {\n",
       "        vertical-align: top;\n",
       "    }\n",
       "\n",
       "    .dataframe thead th {\n",
       "        text-align: right;\n",
       "    }\n",
       "</style>\n",
       "<table border=\"1\" class=\"dataframe\">\n",
       "  <thead>\n",
       "    <tr style=\"text-align: right;\">\n",
       "      <th></th>\n",
       "      <th>0</th>\n",
       "      <th>1</th>\n",
       "      <th>2</th>\n",
       "    </tr>\n",
       "  </thead>\n",
       "  <tbody>\n",
       "    <tr>\n",
       "      <th>0</th>\n",
       "      <td>-0.406258</td>\n",
       "      <td>-1.439047</td>\n",
       "      <td>-0.394655</td>\n",
       "    </tr>\n",
       "    <tr>\n",
       "      <th>1</th>\n",
       "      <td>0.601585</td>\n",
       "      <td>-0.010305</td>\n",
       "      <td>1.811869</td>\n",
       "    </tr>\n",
       "    <tr>\n",
       "      <th>2</th>\n",
       "      <td>-0.134312</td>\n",
       "      <td>NaN</td>\n",
       "      <td>0.271141</td>\n",
       "    </tr>\n",
       "    <tr>\n",
       "      <th>3</th>\n",
       "      <td>0.848442</td>\n",
       "      <td>NaN</td>\n",
       "      <td>-0.191932</td>\n",
       "    </tr>\n",
       "    <tr>\n",
       "      <th>4</th>\n",
       "      <td>0.488196</td>\n",
       "      <td>NaN</td>\n",
       "      <td>NaN</td>\n",
       "    </tr>\n",
       "    <tr>\n",
       "      <th>5</th>\n",
       "      <td>0.009411</td>\n",
       "      <td>NaN</td>\n",
       "      <td>NaN</td>\n",
       "    </tr>\n",
       "  </tbody>\n",
       "</table>\n",
       "</div>"
      ],
      "text/plain": [
       "          0         1         2\n",
       "0 -0.406258 -1.439047 -0.394655\n",
       "1  0.601585 -0.010305  1.811869\n",
       "2 -0.134312       NaN  0.271141\n",
       "3  0.848442       NaN -0.191932\n",
       "4  0.488196       NaN       NaN\n",
       "5  0.009411       NaN       NaN"
      ]
     },
     "execution_count": 291,
     "metadata": {},
     "output_type": "execute_result"
    }
   ],
   "source": [
    "In [41]: df = pd.DataFrame(np.random.standard_normal((6, 3)))\n",
    "\n",
    "In [42]: df.iloc[2:, 1] = np.nan\n",
    "\n",
    "In [43]: df.iloc[4:, 2] = np.nan\n",
    "\n",
    "In [44]: df"
   ]
  },
  {
   "cell_type": "code",
   "execution_count": 292,
   "id": "c0b58cbc-94f0-4a5f-92fb-7f884a964ba8",
   "metadata": {},
   "outputs": [
    {
     "name": "stderr",
     "output_type": "stream",
     "text": [
      "/var/folders/nf/zm9hb0654b163bnmw_ts6bwh0000gp/T/ipykernel_98992/3613593599.py:1: FutureWarning: DataFrame.fillna with 'method' is deprecated and will raise in a future version. Use obj.ffill() or obj.bfill() instead.\n",
      "  df.fillna(method=\"ffill\")\n"
     ]
    },
    {
     "data": {
      "text/html": [
       "<div>\n",
       "<style scoped>\n",
       "    .dataframe tbody tr th:only-of-type {\n",
       "        vertical-align: middle;\n",
       "    }\n",
       "\n",
       "    .dataframe tbody tr th {\n",
       "        vertical-align: top;\n",
       "    }\n",
       "\n",
       "    .dataframe thead th {\n",
       "        text-align: right;\n",
       "    }\n",
       "</style>\n",
       "<table border=\"1\" class=\"dataframe\">\n",
       "  <thead>\n",
       "    <tr style=\"text-align: right;\">\n",
       "      <th></th>\n",
       "      <th>0</th>\n",
       "      <th>1</th>\n",
       "      <th>2</th>\n",
       "    </tr>\n",
       "  </thead>\n",
       "  <tbody>\n",
       "    <tr>\n",
       "      <th>0</th>\n",
       "      <td>-0.406258</td>\n",
       "      <td>-1.439047</td>\n",
       "      <td>-0.394655</td>\n",
       "    </tr>\n",
       "    <tr>\n",
       "      <th>1</th>\n",
       "      <td>0.601585</td>\n",
       "      <td>-0.010305</td>\n",
       "      <td>1.811869</td>\n",
       "    </tr>\n",
       "    <tr>\n",
       "      <th>2</th>\n",
       "      <td>-0.134312</td>\n",
       "      <td>-0.010305</td>\n",
       "      <td>0.271141</td>\n",
       "    </tr>\n",
       "    <tr>\n",
       "      <th>3</th>\n",
       "      <td>0.848442</td>\n",
       "      <td>-0.010305</td>\n",
       "      <td>-0.191932</td>\n",
       "    </tr>\n",
       "    <tr>\n",
       "      <th>4</th>\n",
       "      <td>0.488196</td>\n",
       "      <td>-0.010305</td>\n",
       "      <td>-0.191932</td>\n",
       "    </tr>\n",
       "    <tr>\n",
       "      <th>5</th>\n",
       "      <td>0.009411</td>\n",
       "      <td>-0.010305</td>\n",
       "      <td>-0.191932</td>\n",
       "    </tr>\n",
       "  </tbody>\n",
       "</table>\n",
       "</div>"
      ],
      "text/plain": [
       "          0         1         2\n",
       "0 -0.406258 -1.439047 -0.394655\n",
       "1  0.601585 -0.010305  1.811869\n",
       "2 -0.134312 -0.010305  0.271141\n",
       "3  0.848442 -0.010305 -0.191932\n",
       "4  0.488196 -0.010305 -0.191932\n",
       "5  0.009411 -0.010305 -0.191932"
      ]
     },
     "execution_count": 292,
     "metadata": {},
     "output_type": "execute_result"
    }
   ],
   "source": [
    "In [45]: df.fillna(method=\"ffill\")"
   ]
  },
  {
   "cell_type": "code",
   "execution_count": 293,
   "id": "017634be-84df-4cd6-b2de-1a4a6ae2d789",
   "metadata": {},
   "outputs": [
    {
     "name": "stderr",
     "output_type": "stream",
     "text": [
      "/var/folders/nf/zm9hb0654b163bnmw_ts6bwh0000gp/T/ipykernel_98992/630807030.py:1: FutureWarning: DataFrame.fillna with 'method' is deprecated and will raise in a future version. Use obj.ffill() or obj.bfill() instead.\n",
      "  df.fillna(method=\"ffill\", limit=2)\n"
     ]
    },
    {
     "data": {
      "text/html": [
       "<div>\n",
       "<style scoped>\n",
       "    .dataframe tbody tr th:only-of-type {\n",
       "        vertical-align: middle;\n",
       "    }\n",
       "\n",
       "    .dataframe tbody tr th {\n",
       "        vertical-align: top;\n",
       "    }\n",
       "\n",
       "    .dataframe thead th {\n",
       "        text-align: right;\n",
       "    }\n",
       "</style>\n",
       "<table border=\"1\" class=\"dataframe\">\n",
       "  <thead>\n",
       "    <tr style=\"text-align: right;\">\n",
       "      <th></th>\n",
       "      <th>0</th>\n",
       "      <th>1</th>\n",
       "      <th>2</th>\n",
       "    </tr>\n",
       "  </thead>\n",
       "  <tbody>\n",
       "    <tr>\n",
       "      <th>0</th>\n",
       "      <td>-0.406258</td>\n",
       "      <td>-1.439047</td>\n",
       "      <td>-0.394655</td>\n",
       "    </tr>\n",
       "    <tr>\n",
       "      <th>1</th>\n",
       "      <td>0.601585</td>\n",
       "      <td>-0.010305</td>\n",
       "      <td>1.811869</td>\n",
       "    </tr>\n",
       "    <tr>\n",
       "      <th>2</th>\n",
       "      <td>-0.134312</td>\n",
       "      <td>-0.010305</td>\n",
       "      <td>0.271141</td>\n",
       "    </tr>\n",
       "    <tr>\n",
       "      <th>3</th>\n",
       "      <td>0.848442</td>\n",
       "      <td>-0.010305</td>\n",
       "      <td>-0.191932</td>\n",
       "    </tr>\n",
       "    <tr>\n",
       "      <th>4</th>\n",
       "      <td>0.488196</td>\n",
       "      <td>NaN</td>\n",
       "      <td>-0.191932</td>\n",
       "    </tr>\n",
       "    <tr>\n",
       "      <th>5</th>\n",
       "      <td>0.009411</td>\n",
       "      <td>NaN</td>\n",
       "      <td>-0.191932</td>\n",
       "    </tr>\n",
       "  </tbody>\n",
       "</table>\n",
       "</div>"
      ],
      "text/plain": [
       "          0         1         2\n",
       "0 -0.406258 -1.439047 -0.394655\n",
       "1  0.601585 -0.010305  1.811869\n",
       "2 -0.134312 -0.010305  0.271141\n",
       "3  0.848442 -0.010305 -0.191932\n",
       "4  0.488196       NaN -0.191932\n",
       "5  0.009411       NaN -0.191932"
      ]
     },
     "execution_count": 293,
     "metadata": {},
     "output_type": "execute_result"
    }
   ],
   "source": [
    "In [46]: df.fillna(method=\"ffill\", limit=2)"
   ]
  },
  {
   "cell_type": "code",
   "execution_count": 294,
   "id": "19c26495-41a9-4e89-8f2d-3b922b3964d2",
   "metadata": {},
   "outputs": [
    {
     "data": {
      "text/plain": [
       "0    1.000000\n",
       "1    3.833333\n",
       "2    3.500000\n",
       "3    3.833333\n",
       "4    7.000000\n",
       "dtype: float64"
      ]
     },
     "execution_count": 294,
     "metadata": {},
     "output_type": "execute_result"
    }
   ],
   "source": [
    "In [47]: data = pd.Series([1., np.nan, 3.5, np.nan, 7])\n",
    "\n",
    "In [48]: data.fillna(data.mean())"
   ]
  },
  {
   "cell_type": "code",
   "execution_count": null,
   "id": "27744246-c968-48b1-a71c-e6bd4a083e24",
   "metadata": {},
   "outputs": [],
   "source": []
  },
  {
   "cell_type": "code",
   "execution_count": 295,
   "id": "a4956fcd-f4d7-4f64-999d-143aad20e8ed",
   "metadata": {},
   "outputs": [],
   "source": [
    "# 7.2 Data Transformation"
   ]
  },
  {
   "cell_type": "code",
   "execution_count": 296,
   "id": "3208e17c-da69-4669-98be-2579196071f2",
   "metadata": {},
   "outputs": [
    {
     "data": {
      "text/html": [
       "<div>\n",
       "<style scoped>\n",
       "    .dataframe tbody tr th:only-of-type {\n",
       "        vertical-align: middle;\n",
       "    }\n",
       "\n",
       "    .dataframe tbody tr th {\n",
       "        vertical-align: top;\n",
       "    }\n",
       "\n",
       "    .dataframe thead th {\n",
       "        text-align: right;\n",
       "    }\n",
       "</style>\n",
       "<table border=\"1\" class=\"dataframe\">\n",
       "  <thead>\n",
       "    <tr style=\"text-align: right;\">\n",
       "      <th></th>\n",
       "      <th>k1</th>\n",
       "      <th>k2</th>\n",
       "    </tr>\n",
       "  </thead>\n",
       "  <tbody>\n",
       "    <tr>\n",
       "      <th>0</th>\n",
       "      <td>one</td>\n",
       "      <td>1</td>\n",
       "    </tr>\n",
       "    <tr>\n",
       "      <th>1</th>\n",
       "      <td>two</td>\n",
       "      <td>1</td>\n",
       "    </tr>\n",
       "    <tr>\n",
       "      <th>2</th>\n",
       "      <td>one</td>\n",
       "      <td>2</td>\n",
       "    </tr>\n",
       "    <tr>\n",
       "      <th>3</th>\n",
       "      <td>two</td>\n",
       "      <td>3</td>\n",
       "    </tr>\n",
       "    <tr>\n",
       "      <th>4</th>\n",
       "      <td>one</td>\n",
       "      <td>3</td>\n",
       "    </tr>\n",
       "    <tr>\n",
       "      <th>5</th>\n",
       "      <td>two</td>\n",
       "      <td>4</td>\n",
       "    </tr>\n",
       "    <tr>\n",
       "      <th>6</th>\n",
       "      <td>two</td>\n",
       "      <td>4</td>\n",
       "    </tr>\n",
       "  </tbody>\n",
       "</table>\n",
       "</div>"
      ],
      "text/plain": [
       "    k1  k2\n",
       "0  one   1\n",
       "1  two   1\n",
       "2  one   2\n",
       "3  two   3\n",
       "4  one   3\n",
       "5  two   4\n",
       "6  two   4"
      ]
     },
     "execution_count": 296,
     "metadata": {},
     "output_type": "execute_result"
    }
   ],
   "source": [
    "In [49]: data = pd.DataFrame({\"k1\": [\"one\", \"two\"] * 3 + [\"two\"],\n",
    "   ....:                      \"k2\": [1, 1, 2, 3, 3, 4, 4]})\n",
    "\n",
    "In [50]: data"
   ]
  },
  {
   "cell_type": "code",
   "execution_count": 297,
   "id": "c865a88b-7cf8-45a8-b838-69f9882551ef",
   "metadata": {},
   "outputs": [
    {
     "data": {
      "text/plain": [
       "0    False\n",
       "1    False\n",
       "2    False\n",
       "3    False\n",
       "4    False\n",
       "5    False\n",
       "6     True\n",
       "dtype: bool"
      ]
     },
     "execution_count": 297,
     "metadata": {},
     "output_type": "execute_result"
    }
   ],
   "source": [
    "In [51]: data.duplicated()"
   ]
  },
  {
   "cell_type": "code",
   "execution_count": 298,
   "id": "0fa11b12-b870-424b-962a-a8fa768fe192",
   "metadata": {},
   "outputs": [
    {
     "data": {
      "text/html": [
       "<div>\n",
       "<style scoped>\n",
       "    .dataframe tbody tr th:only-of-type {\n",
       "        vertical-align: middle;\n",
       "    }\n",
       "\n",
       "    .dataframe tbody tr th {\n",
       "        vertical-align: top;\n",
       "    }\n",
       "\n",
       "    .dataframe thead th {\n",
       "        text-align: right;\n",
       "    }\n",
       "</style>\n",
       "<table border=\"1\" class=\"dataframe\">\n",
       "  <thead>\n",
       "    <tr style=\"text-align: right;\">\n",
       "      <th></th>\n",
       "      <th>k1</th>\n",
       "      <th>k2</th>\n",
       "    </tr>\n",
       "  </thead>\n",
       "  <tbody>\n",
       "    <tr>\n",
       "      <th>0</th>\n",
       "      <td>one</td>\n",
       "      <td>1</td>\n",
       "    </tr>\n",
       "    <tr>\n",
       "      <th>1</th>\n",
       "      <td>two</td>\n",
       "      <td>1</td>\n",
       "    </tr>\n",
       "    <tr>\n",
       "      <th>2</th>\n",
       "      <td>one</td>\n",
       "      <td>2</td>\n",
       "    </tr>\n",
       "    <tr>\n",
       "      <th>3</th>\n",
       "      <td>two</td>\n",
       "      <td>3</td>\n",
       "    </tr>\n",
       "    <tr>\n",
       "      <th>4</th>\n",
       "      <td>one</td>\n",
       "      <td>3</td>\n",
       "    </tr>\n",
       "    <tr>\n",
       "      <th>5</th>\n",
       "      <td>two</td>\n",
       "      <td>4</td>\n",
       "    </tr>\n",
       "  </tbody>\n",
       "</table>\n",
       "</div>"
      ],
      "text/plain": [
       "    k1  k2\n",
       "0  one   1\n",
       "1  two   1\n",
       "2  one   2\n",
       "3  two   3\n",
       "4  one   3\n",
       "5  two   4"
      ]
     },
     "execution_count": 298,
     "metadata": {},
     "output_type": "execute_result"
    }
   ],
   "source": [
    "In [52]: data.drop_duplicates()"
   ]
  },
  {
   "cell_type": "code",
   "execution_count": 299,
   "id": "a86a8c16-980f-4892-b358-0faaa5df680c",
   "metadata": {},
   "outputs": [
    {
     "data": {
      "text/html": [
       "<div>\n",
       "<style scoped>\n",
       "    .dataframe tbody tr th:only-of-type {\n",
       "        vertical-align: middle;\n",
       "    }\n",
       "\n",
       "    .dataframe tbody tr th {\n",
       "        vertical-align: top;\n",
       "    }\n",
       "\n",
       "    .dataframe thead th {\n",
       "        text-align: right;\n",
       "    }\n",
       "</style>\n",
       "<table border=\"1\" class=\"dataframe\">\n",
       "  <thead>\n",
       "    <tr style=\"text-align: right;\">\n",
       "      <th></th>\n",
       "      <th>k1</th>\n",
       "      <th>k2</th>\n",
       "      <th>v1</th>\n",
       "    </tr>\n",
       "  </thead>\n",
       "  <tbody>\n",
       "    <tr>\n",
       "      <th>0</th>\n",
       "      <td>one</td>\n",
       "      <td>1</td>\n",
       "      <td>0</td>\n",
       "    </tr>\n",
       "    <tr>\n",
       "      <th>1</th>\n",
       "      <td>two</td>\n",
       "      <td>1</td>\n",
       "      <td>1</td>\n",
       "    </tr>\n",
       "    <tr>\n",
       "      <th>2</th>\n",
       "      <td>one</td>\n",
       "      <td>2</td>\n",
       "      <td>2</td>\n",
       "    </tr>\n",
       "    <tr>\n",
       "      <th>3</th>\n",
       "      <td>two</td>\n",
       "      <td>3</td>\n",
       "      <td>3</td>\n",
       "    </tr>\n",
       "    <tr>\n",
       "      <th>4</th>\n",
       "      <td>one</td>\n",
       "      <td>3</td>\n",
       "      <td>4</td>\n",
       "    </tr>\n",
       "    <tr>\n",
       "      <th>5</th>\n",
       "      <td>two</td>\n",
       "      <td>4</td>\n",
       "      <td>5</td>\n",
       "    </tr>\n",
       "    <tr>\n",
       "      <th>6</th>\n",
       "      <td>two</td>\n",
       "      <td>4</td>\n",
       "      <td>6</td>\n",
       "    </tr>\n",
       "  </tbody>\n",
       "</table>\n",
       "</div>"
      ],
      "text/plain": [
       "    k1  k2  v1\n",
       "0  one   1   0\n",
       "1  two   1   1\n",
       "2  one   2   2\n",
       "3  two   3   3\n",
       "4  one   3   4\n",
       "5  two   4   5\n",
       "6  two   4   6"
      ]
     },
     "execution_count": 299,
     "metadata": {},
     "output_type": "execute_result"
    }
   ],
   "source": [
    "In [53]: data[\"v1\"] = range(7)\n",
    "\n",
    "In [54]: data"
   ]
  },
  {
   "cell_type": "code",
   "execution_count": 300,
   "id": "15657c17-0127-4c16-9bf8-58abee35988d",
   "metadata": {},
   "outputs": [
    {
     "data": {
      "text/html": [
       "<div>\n",
       "<style scoped>\n",
       "    .dataframe tbody tr th:only-of-type {\n",
       "        vertical-align: middle;\n",
       "    }\n",
       "\n",
       "    .dataframe tbody tr th {\n",
       "        vertical-align: top;\n",
       "    }\n",
       "\n",
       "    .dataframe thead th {\n",
       "        text-align: right;\n",
       "    }\n",
       "</style>\n",
       "<table border=\"1\" class=\"dataframe\">\n",
       "  <thead>\n",
       "    <tr style=\"text-align: right;\">\n",
       "      <th></th>\n",
       "      <th>k1</th>\n",
       "      <th>k2</th>\n",
       "      <th>v1</th>\n",
       "    </tr>\n",
       "  </thead>\n",
       "  <tbody>\n",
       "    <tr>\n",
       "      <th>0</th>\n",
       "      <td>one</td>\n",
       "      <td>1</td>\n",
       "      <td>0</td>\n",
       "    </tr>\n",
       "    <tr>\n",
       "      <th>1</th>\n",
       "      <td>two</td>\n",
       "      <td>1</td>\n",
       "      <td>1</td>\n",
       "    </tr>\n",
       "  </tbody>\n",
       "</table>\n",
       "</div>"
      ],
      "text/plain": [
       "    k1  k2  v1\n",
       "0  one   1   0\n",
       "1  two   1   1"
      ]
     },
     "execution_count": 300,
     "metadata": {},
     "output_type": "execute_result"
    }
   ],
   "source": [
    "In [55]: data.drop_duplicates(subset=[\"k1\"])"
   ]
  },
  {
   "cell_type": "code",
   "execution_count": 301,
   "id": "73f9737a-d43d-4a78-a067-271f9bcc91e4",
   "metadata": {},
   "outputs": [
    {
     "data": {
      "text/html": [
       "<div>\n",
       "<style scoped>\n",
       "    .dataframe tbody tr th:only-of-type {\n",
       "        vertical-align: middle;\n",
       "    }\n",
       "\n",
       "    .dataframe tbody tr th {\n",
       "        vertical-align: top;\n",
       "    }\n",
       "\n",
       "    .dataframe thead th {\n",
       "        text-align: right;\n",
       "    }\n",
       "</style>\n",
       "<table border=\"1\" class=\"dataframe\">\n",
       "  <thead>\n",
       "    <tr style=\"text-align: right;\">\n",
       "      <th></th>\n",
       "      <th>k1</th>\n",
       "      <th>k2</th>\n",
       "      <th>v1</th>\n",
       "    </tr>\n",
       "  </thead>\n",
       "  <tbody>\n",
       "    <tr>\n",
       "      <th>0</th>\n",
       "      <td>one</td>\n",
       "      <td>1</td>\n",
       "      <td>0</td>\n",
       "    </tr>\n",
       "    <tr>\n",
       "      <th>1</th>\n",
       "      <td>two</td>\n",
       "      <td>1</td>\n",
       "      <td>1</td>\n",
       "    </tr>\n",
       "    <tr>\n",
       "      <th>2</th>\n",
       "      <td>one</td>\n",
       "      <td>2</td>\n",
       "      <td>2</td>\n",
       "    </tr>\n",
       "    <tr>\n",
       "      <th>3</th>\n",
       "      <td>two</td>\n",
       "      <td>3</td>\n",
       "      <td>3</td>\n",
       "    </tr>\n",
       "    <tr>\n",
       "      <th>4</th>\n",
       "      <td>one</td>\n",
       "      <td>3</td>\n",
       "      <td>4</td>\n",
       "    </tr>\n",
       "    <tr>\n",
       "      <th>6</th>\n",
       "      <td>two</td>\n",
       "      <td>4</td>\n",
       "      <td>6</td>\n",
       "    </tr>\n",
       "  </tbody>\n",
       "</table>\n",
       "</div>"
      ],
      "text/plain": [
       "    k1  k2  v1\n",
       "0  one   1   0\n",
       "1  two   1   1\n",
       "2  one   2   2\n",
       "3  two   3   3\n",
       "4  one   3   4\n",
       "6  two   4   6"
      ]
     },
     "execution_count": 301,
     "metadata": {},
     "output_type": "execute_result"
    }
   ],
   "source": [
    "In [56]: data.drop_duplicates([\"k1\", \"k2\"], keep=\"last\")"
   ]
  },
  {
   "cell_type": "code",
   "execution_count": 302,
   "id": "a9f6b467-bbd5-4cf6-8b8d-c918467eaf78",
   "metadata": {},
   "outputs": [
    {
     "data": {
      "text/html": [
       "<div>\n",
       "<style scoped>\n",
       "    .dataframe tbody tr th:only-of-type {\n",
       "        vertical-align: middle;\n",
       "    }\n",
       "\n",
       "    .dataframe tbody tr th {\n",
       "        vertical-align: top;\n",
       "    }\n",
       "\n",
       "    .dataframe thead th {\n",
       "        text-align: right;\n",
       "    }\n",
       "</style>\n",
       "<table border=\"1\" class=\"dataframe\">\n",
       "  <thead>\n",
       "    <tr style=\"text-align: right;\">\n",
       "      <th></th>\n",
       "      <th>food</th>\n",
       "      <th>ounces</th>\n",
       "    </tr>\n",
       "  </thead>\n",
       "  <tbody>\n",
       "    <tr>\n",
       "      <th>0</th>\n",
       "      <td>bacon</td>\n",
       "      <td>4.0</td>\n",
       "    </tr>\n",
       "    <tr>\n",
       "      <th>1</th>\n",
       "      <td>pulled pork</td>\n",
       "      <td>3.0</td>\n",
       "    </tr>\n",
       "    <tr>\n",
       "      <th>2</th>\n",
       "      <td>bacon</td>\n",
       "      <td>12.0</td>\n",
       "    </tr>\n",
       "    <tr>\n",
       "      <th>3</th>\n",
       "      <td>pastrami</td>\n",
       "      <td>6.0</td>\n",
       "    </tr>\n",
       "    <tr>\n",
       "      <th>4</th>\n",
       "      <td>corned beef</td>\n",
       "      <td>7.5</td>\n",
       "    </tr>\n",
       "    <tr>\n",
       "      <th>5</th>\n",
       "      <td>bacon</td>\n",
       "      <td>8.0</td>\n",
       "    </tr>\n",
       "    <tr>\n",
       "      <th>6</th>\n",
       "      <td>pastrami</td>\n",
       "      <td>3.0</td>\n",
       "    </tr>\n",
       "    <tr>\n",
       "      <th>7</th>\n",
       "      <td>honey ham</td>\n",
       "      <td>5.0</td>\n",
       "    </tr>\n",
       "    <tr>\n",
       "      <th>8</th>\n",
       "      <td>nova lox</td>\n",
       "      <td>6.0</td>\n",
       "    </tr>\n",
       "  </tbody>\n",
       "</table>\n",
       "</div>"
      ],
      "text/plain": [
       "          food  ounces\n",
       "0        bacon     4.0\n",
       "1  pulled pork     3.0\n",
       "2        bacon    12.0\n",
       "3     pastrami     6.0\n",
       "4  corned beef     7.5\n",
       "5        bacon     8.0\n",
       "6     pastrami     3.0\n",
       "7    honey ham     5.0\n",
       "8     nova lox     6.0"
      ]
     },
     "execution_count": 302,
     "metadata": {},
     "output_type": "execute_result"
    }
   ],
   "source": [
    "In [57]: data = pd.DataFrame({\"food\": [\"bacon\", \"pulled pork\", \"bacon\",\n",
    "   ....:                               \"pastrami\", \"corned beef\", \"bacon\",\n",
    "   ....:                               \"pastrami\", \"honey ham\", \"nova lox\"],\n",
    "   ....:                      \"ounces\": [4, 3, 12, 6, 7.5, 8, 3, 5, 6]})\n",
    "\n",
    "In [58]: data"
   ]
  },
  {
   "cell_type": "code",
   "execution_count": 303,
   "id": "fa36cde6-0622-4ea7-9717-3af4d43e6152",
   "metadata": {},
   "outputs": [],
   "source": [
    "meat_to_animal = {\n",
    "  \"bacon\": \"pig\",\n",
    "  \"pulled pork\": \"pig\",\n",
    "  \"pastrami\": \"cow\",\n",
    "  \"corned beef\": \"cow\",\n",
    "  \"honey ham\": \"pig\",\n",
    "  \"nova lox\": \"salmon\"\n",
    "}"
   ]
  },
  {
   "cell_type": "code",
   "execution_count": 304,
   "id": "fd49cce4-eb21-479b-95b6-f80e31b8c2bc",
   "metadata": {},
   "outputs": [
    {
     "data": {
      "text/html": [
       "<div>\n",
       "<style scoped>\n",
       "    .dataframe tbody tr th:only-of-type {\n",
       "        vertical-align: middle;\n",
       "    }\n",
       "\n",
       "    .dataframe tbody tr th {\n",
       "        vertical-align: top;\n",
       "    }\n",
       "\n",
       "    .dataframe thead th {\n",
       "        text-align: right;\n",
       "    }\n",
       "</style>\n",
       "<table border=\"1\" class=\"dataframe\">\n",
       "  <thead>\n",
       "    <tr style=\"text-align: right;\">\n",
       "      <th></th>\n",
       "      <th>food</th>\n",
       "      <th>ounces</th>\n",
       "      <th>animal</th>\n",
       "    </tr>\n",
       "  </thead>\n",
       "  <tbody>\n",
       "    <tr>\n",
       "      <th>0</th>\n",
       "      <td>bacon</td>\n",
       "      <td>4.0</td>\n",
       "      <td>pig</td>\n",
       "    </tr>\n",
       "    <tr>\n",
       "      <th>1</th>\n",
       "      <td>pulled pork</td>\n",
       "      <td>3.0</td>\n",
       "      <td>pig</td>\n",
       "    </tr>\n",
       "    <tr>\n",
       "      <th>2</th>\n",
       "      <td>bacon</td>\n",
       "      <td>12.0</td>\n",
       "      <td>pig</td>\n",
       "    </tr>\n",
       "    <tr>\n",
       "      <th>3</th>\n",
       "      <td>pastrami</td>\n",
       "      <td>6.0</td>\n",
       "      <td>cow</td>\n",
       "    </tr>\n",
       "    <tr>\n",
       "      <th>4</th>\n",
       "      <td>corned beef</td>\n",
       "      <td>7.5</td>\n",
       "      <td>cow</td>\n",
       "    </tr>\n",
       "    <tr>\n",
       "      <th>5</th>\n",
       "      <td>bacon</td>\n",
       "      <td>8.0</td>\n",
       "      <td>pig</td>\n",
       "    </tr>\n",
       "    <tr>\n",
       "      <th>6</th>\n",
       "      <td>pastrami</td>\n",
       "      <td>3.0</td>\n",
       "      <td>cow</td>\n",
       "    </tr>\n",
       "    <tr>\n",
       "      <th>7</th>\n",
       "      <td>honey ham</td>\n",
       "      <td>5.0</td>\n",
       "      <td>pig</td>\n",
       "    </tr>\n",
       "    <tr>\n",
       "      <th>8</th>\n",
       "      <td>nova lox</td>\n",
       "      <td>6.0</td>\n",
       "      <td>salmon</td>\n",
       "    </tr>\n",
       "  </tbody>\n",
       "</table>\n",
       "</div>"
      ],
      "text/plain": [
       "          food  ounces  animal\n",
       "0        bacon     4.0     pig\n",
       "1  pulled pork     3.0     pig\n",
       "2        bacon    12.0     pig\n",
       "3     pastrami     6.0     cow\n",
       "4  corned beef     7.5     cow\n",
       "5        bacon     8.0     pig\n",
       "6     pastrami     3.0     cow\n",
       "7    honey ham     5.0     pig\n",
       "8     nova lox     6.0  salmon"
      ]
     },
     "execution_count": 304,
     "metadata": {},
     "output_type": "execute_result"
    }
   ],
   "source": [
    "In [60]: data[\"animal\"] = data[\"food\"].map(meat_to_animal)\n",
    "\n",
    "In [61]: data"
   ]
  },
  {
   "cell_type": "code",
   "execution_count": 305,
   "id": "069d776b-a0a3-44a4-8819-ffae549f9b9c",
   "metadata": {},
   "outputs": [
    {
     "data": {
      "text/plain": [
       "0       pig\n",
       "1       pig\n",
       "2       pig\n",
       "3       cow\n",
       "4       cow\n",
       "5       pig\n",
       "6       cow\n",
       "7       pig\n",
       "8    salmon\n",
       "Name: food, dtype: object"
      ]
     },
     "execution_count": 305,
     "metadata": {},
     "output_type": "execute_result"
    }
   ],
   "source": [
    "In [62]: def get_animal(x):\n",
    "   ....:     return meat_to_animal[x]\n",
    "\n",
    "In [63]: data[\"food\"].map(get_animal)"
   ]
  },
  {
   "cell_type": "code",
   "execution_count": 306,
   "id": "d16b5a12-dac0-4464-bab5-b97e8e3b27a0",
   "metadata": {},
   "outputs": [
    {
     "data": {
      "text/plain": [
       "0       1.0\n",
       "1    -999.0\n",
       "2       2.0\n",
       "3    -999.0\n",
       "4   -1000.0\n",
       "5       3.0\n",
       "dtype: float64"
      ]
     },
     "execution_count": 306,
     "metadata": {},
     "output_type": "execute_result"
    }
   ],
   "source": [
    "In [64]: data = pd.Series([1., -999., 2., -999., -1000., 3.])\n",
    "\n",
    "In [65]: data"
   ]
  },
  {
   "cell_type": "code",
   "execution_count": 307,
   "id": "10bba678-ba02-48f6-a804-8172fe6161da",
   "metadata": {},
   "outputs": [
    {
     "data": {
      "text/plain": [
       "0       1.0\n",
       "1       NaN\n",
       "2       2.0\n",
       "3       NaN\n",
       "4   -1000.0\n",
       "5       3.0\n",
       "dtype: float64"
      ]
     },
     "execution_count": 307,
     "metadata": {},
     "output_type": "execute_result"
    }
   ],
   "source": [
    "In [66]: data.replace(-999, np.nan)"
   ]
  },
  {
   "cell_type": "code",
   "execution_count": 308,
   "id": "9b8f7a07-47d0-44ee-bb9b-139a305b2a03",
   "metadata": {},
   "outputs": [
    {
     "data": {
      "text/plain": [
       "0    1.0\n",
       "1    NaN\n",
       "2    2.0\n",
       "3    NaN\n",
       "4    NaN\n",
       "5    3.0\n",
       "dtype: float64"
      ]
     },
     "execution_count": 308,
     "metadata": {},
     "output_type": "execute_result"
    }
   ],
   "source": [
    "In [67]: data.replace([-999, -1000], np.nan)"
   ]
  },
  {
   "cell_type": "code",
   "execution_count": 309,
   "id": "513243e2-f0a8-447e-a667-ea56b1229152",
   "metadata": {},
   "outputs": [
    {
     "data": {
      "text/plain": [
       "0    1.0\n",
       "1    NaN\n",
       "2    2.0\n",
       "3    NaN\n",
       "4    0.0\n",
       "5    3.0\n",
       "dtype: float64"
      ]
     },
     "execution_count": 309,
     "metadata": {},
     "output_type": "execute_result"
    }
   ],
   "source": [
    "In [68]: data.replace([-999, -1000], [np.nan, 0])"
   ]
  },
  {
   "cell_type": "code",
   "execution_count": 310,
   "id": "dd1d8c5b-d2f6-4368-9d38-36fdec082697",
   "metadata": {},
   "outputs": [
    {
     "data": {
      "text/plain": [
       "0    1.0\n",
       "1    NaN\n",
       "2    2.0\n",
       "3    NaN\n",
       "4    0.0\n",
       "5    3.0\n",
       "dtype: float64"
      ]
     },
     "execution_count": 310,
     "metadata": {},
     "output_type": "execute_result"
    }
   ],
   "source": [
    "In [69]: data.replace({-999: np.nan, -1000: 0})"
   ]
  },
  {
   "cell_type": "code",
   "execution_count": 311,
   "id": "7147f26a-2db4-479e-900a-c830915c3f4f",
   "metadata": {},
   "outputs": [],
   "source": [
    "In [70]: data = pd.DataFrame(np.arange(12).reshape((3, 4)),\n",
    "   ....:                     index=[\"Ohio\", \"Colorado\", \"New York\"],\n",
    "   ....:                     columns=[\"one\", \"two\", \"three\", \"four\"])"
   ]
  },
  {
   "cell_type": "code",
   "execution_count": 312,
   "id": "4c33aaa6-3064-41a6-8950-3001ad9c7a06",
   "metadata": {},
   "outputs": [
    {
     "data": {
      "text/plain": [
       "Index(['OHIO', 'COLO', 'NEW '], dtype='object')"
      ]
     },
     "execution_count": 312,
     "metadata": {},
     "output_type": "execute_result"
    }
   ],
   "source": [
    "In [71]: def transform(x):\n",
    "   ....:     return x[:4].upper()\n",
    "\n",
    "In [72]: data.index.map(transform)"
   ]
  },
  {
   "cell_type": "code",
   "execution_count": 313,
   "id": "707c4bd9-c768-4fbc-945a-135c0b5fc42a",
   "metadata": {},
   "outputs": [
    {
     "data": {
      "text/html": [
       "<div>\n",
       "<style scoped>\n",
       "    .dataframe tbody tr th:only-of-type {\n",
       "        vertical-align: middle;\n",
       "    }\n",
       "\n",
       "    .dataframe tbody tr th {\n",
       "        vertical-align: top;\n",
       "    }\n",
       "\n",
       "    .dataframe thead th {\n",
       "        text-align: right;\n",
       "    }\n",
       "</style>\n",
       "<table border=\"1\" class=\"dataframe\">\n",
       "  <thead>\n",
       "    <tr style=\"text-align: right;\">\n",
       "      <th></th>\n",
       "      <th>one</th>\n",
       "      <th>two</th>\n",
       "      <th>three</th>\n",
       "      <th>four</th>\n",
       "    </tr>\n",
       "  </thead>\n",
       "  <tbody>\n",
       "    <tr>\n",
       "      <th>OHIO</th>\n",
       "      <td>0</td>\n",
       "      <td>1</td>\n",
       "      <td>2</td>\n",
       "      <td>3</td>\n",
       "    </tr>\n",
       "    <tr>\n",
       "      <th>COLO</th>\n",
       "      <td>4</td>\n",
       "      <td>5</td>\n",
       "      <td>6</td>\n",
       "      <td>7</td>\n",
       "    </tr>\n",
       "    <tr>\n",
       "      <th>NEW</th>\n",
       "      <td>8</td>\n",
       "      <td>9</td>\n",
       "      <td>10</td>\n",
       "      <td>11</td>\n",
       "    </tr>\n",
       "  </tbody>\n",
       "</table>\n",
       "</div>"
      ],
      "text/plain": [
       "      one  two  three  four\n",
       "OHIO    0    1      2     3\n",
       "COLO    4    5      6     7\n",
       "NEW     8    9     10    11"
      ]
     },
     "execution_count": 313,
     "metadata": {},
     "output_type": "execute_result"
    }
   ],
   "source": [
    "In [73]: data.index = data.index.map(transform)\n",
    "\n",
    "In [74]: data"
   ]
  },
  {
   "cell_type": "code",
   "execution_count": 314,
   "id": "e720efc0-f03a-4ef1-a9e1-82f1c328c373",
   "metadata": {},
   "outputs": [
    {
     "data": {
      "text/html": [
       "<div>\n",
       "<style scoped>\n",
       "    .dataframe tbody tr th:only-of-type {\n",
       "        vertical-align: middle;\n",
       "    }\n",
       "\n",
       "    .dataframe tbody tr th {\n",
       "        vertical-align: top;\n",
       "    }\n",
       "\n",
       "    .dataframe thead th {\n",
       "        text-align: right;\n",
       "    }\n",
       "</style>\n",
       "<table border=\"1\" class=\"dataframe\">\n",
       "  <thead>\n",
       "    <tr style=\"text-align: right;\">\n",
       "      <th></th>\n",
       "      <th>ONE</th>\n",
       "      <th>TWO</th>\n",
       "      <th>THREE</th>\n",
       "      <th>FOUR</th>\n",
       "    </tr>\n",
       "  </thead>\n",
       "  <tbody>\n",
       "    <tr>\n",
       "      <th>Ohio</th>\n",
       "      <td>0</td>\n",
       "      <td>1</td>\n",
       "      <td>2</td>\n",
       "      <td>3</td>\n",
       "    </tr>\n",
       "    <tr>\n",
       "      <th>Colo</th>\n",
       "      <td>4</td>\n",
       "      <td>5</td>\n",
       "      <td>6</td>\n",
       "      <td>7</td>\n",
       "    </tr>\n",
       "    <tr>\n",
       "      <th>New</th>\n",
       "      <td>8</td>\n",
       "      <td>9</td>\n",
       "      <td>10</td>\n",
       "      <td>11</td>\n",
       "    </tr>\n",
       "  </tbody>\n",
       "</table>\n",
       "</div>"
      ],
      "text/plain": [
       "      ONE  TWO  THREE  FOUR\n",
       "Ohio    0    1      2     3\n",
       "Colo    4    5      6     7\n",
       "New     8    9     10    11"
      ]
     },
     "execution_count": 314,
     "metadata": {},
     "output_type": "execute_result"
    }
   ],
   "source": [
    "In [75]: data.rename(index=str.title, columns=str.upper)"
   ]
  },
  {
   "cell_type": "code",
   "execution_count": 315,
   "id": "c5978693-a8f8-4948-973b-997c1cc78839",
   "metadata": {},
   "outputs": [
    {
     "data": {
      "text/html": [
       "<div>\n",
       "<style scoped>\n",
       "    .dataframe tbody tr th:only-of-type {\n",
       "        vertical-align: middle;\n",
       "    }\n",
       "\n",
       "    .dataframe tbody tr th {\n",
       "        vertical-align: top;\n",
       "    }\n",
       "\n",
       "    .dataframe thead th {\n",
       "        text-align: right;\n",
       "    }\n",
       "</style>\n",
       "<table border=\"1\" class=\"dataframe\">\n",
       "  <thead>\n",
       "    <tr style=\"text-align: right;\">\n",
       "      <th></th>\n",
       "      <th>one</th>\n",
       "      <th>two</th>\n",
       "      <th>peekaboo</th>\n",
       "      <th>four</th>\n",
       "    </tr>\n",
       "  </thead>\n",
       "  <tbody>\n",
       "    <tr>\n",
       "      <th>INDIANA</th>\n",
       "      <td>0</td>\n",
       "      <td>1</td>\n",
       "      <td>2</td>\n",
       "      <td>3</td>\n",
       "    </tr>\n",
       "    <tr>\n",
       "      <th>COLO</th>\n",
       "      <td>4</td>\n",
       "      <td>5</td>\n",
       "      <td>6</td>\n",
       "      <td>7</td>\n",
       "    </tr>\n",
       "    <tr>\n",
       "      <th>NEW</th>\n",
       "      <td>8</td>\n",
       "      <td>9</td>\n",
       "      <td>10</td>\n",
       "      <td>11</td>\n",
       "    </tr>\n",
       "  </tbody>\n",
       "</table>\n",
       "</div>"
      ],
      "text/plain": [
       "         one  two  peekaboo  four\n",
       "INDIANA    0    1         2     3\n",
       "COLO       4    5         6     7\n",
       "NEW        8    9        10    11"
      ]
     },
     "execution_count": 315,
     "metadata": {},
     "output_type": "execute_result"
    }
   ],
   "source": [
    "In [76]: data.rename(index={\"OHIO\": \"INDIANA\"},\n",
    "   ....:             columns={\"three\": \"peekaboo\"})"
   ]
  },
  {
   "cell_type": "code",
   "execution_count": 316,
   "id": "bbf92a5a-3640-48bb-bea9-8c925ddac6cb",
   "metadata": {},
   "outputs": [],
   "source": [
    "In [77]: ages = [20, 22, 25, 27, 21, 23, 37, 31, 61, 45, 41, 32]"
   ]
  },
  {
   "cell_type": "code",
   "execution_count": 317,
   "id": "de39e862-b24d-4cdd-9f68-d66f3fe701e7",
   "metadata": {},
   "outputs": [
    {
     "data": {
      "text/plain": [
       "[(18, 25], (18, 25], (18, 25], (25, 35], (18, 25], ..., (25, 35], (60, 100], (35, 60], (35, 60], (25, 35]]\n",
       "Length: 12\n",
       "Categories (4, interval[int64, right]): [(18, 25] < (25, 35] < (35, 60] < (60, 100]]"
      ]
     },
     "execution_count": 317,
     "metadata": {},
     "output_type": "execute_result"
    }
   ],
   "source": [
    "In [78]: bins = [18, 25, 35, 60, 100]\n",
    "\n",
    "In [79]: age_categories = pd.cut(ages, bins)\n",
    "\n",
    "In [80]: age_categories"
   ]
  },
  {
   "cell_type": "code",
   "execution_count": 318,
   "id": "f68a1ce0-107f-44f2-8c94-5f8bf55666b2",
   "metadata": {},
   "outputs": [
    {
     "data": {
      "text/plain": [
       "array([0, 0, 0, 1, 0, 0, 2, 1, 3, 2, 2, 1], dtype=int8)"
      ]
     },
     "execution_count": 318,
     "metadata": {},
     "output_type": "execute_result"
    }
   ],
   "source": [
    "In [81]: age_categories.codes"
   ]
  },
  {
   "cell_type": "code",
   "execution_count": 319,
   "id": "a45adb23-5bcd-4f1c-a9ac-99b36df71126",
   "metadata": {},
   "outputs": [
    {
     "data": {
      "text/plain": [
       "IntervalIndex([(18, 25], (25, 35], (35, 60], (60, 100]], dtype='interval[int64, right]')"
      ]
     },
     "execution_count": 319,
     "metadata": {},
     "output_type": "execute_result"
    }
   ],
   "source": [
    "In [82]: age_categories.categories"
   ]
  },
  {
   "cell_type": "code",
   "execution_count": 320,
   "id": "3c7584a4-5372-4c0c-b3ba-2c19e06a8a85",
   "metadata": {},
   "outputs": [
    {
     "data": {
      "text/plain": [
       "Interval(18, 25, closed='right')"
      ]
     },
     "execution_count": 320,
     "metadata": {},
     "output_type": "execute_result"
    }
   ],
   "source": [
    "In [83]: age_categories.categories[0]"
   ]
  },
  {
   "cell_type": "code",
   "execution_count": 321,
   "id": "dd902dd0-1512-45e9-8ad4-996c3a9c63d7",
   "metadata": {},
   "outputs": [
    {
     "name": "stderr",
     "output_type": "stream",
     "text": [
      "/var/folders/nf/zm9hb0654b163bnmw_ts6bwh0000gp/T/ipykernel_98992/918818084.py:1: FutureWarning: pandas.value_counts is deprecated and will be removed in a future version. Use pd.Series(obj).value_counts() instead.\n",
      "  pd.value_counts(age_categories)\n"
     ]
    },
    {
     "data": {
      "text/plain": [
       "(18, 25]     5\n",
       "(25, 35]     3\n",
       "(35, 60]     3\n",
       "(60, 100]    1\n",
       "Name: count, dtype: int64"
      ]
     },
     "execution_count": 321,
     "metadata": {},
     "output_type": "execute_result"
    }
   ],
   "source": [
    "In [84]: pd.value_counts(age_categories)"
   ]
  },
  {
   "cell_type": "code",
   "execution_count": 322,
   "id": "ad244c5a-4a39-4142-a560-095a3dbcffb1",
   "metadata": {},
   "outputs": [
    {
     "data": {
      "text/plain": [
       "[[18, 25), [18, 25), [25, 35), [25, 35), [18, 25), ..., [25, 35), [60, 100), [35, 60), [35, 60), [25, 35)]\n",
       "Length: 12\n",
       "Categories (4, interval[int64, left]): [[18, 25) < [25, 35) < [35, 60) < [60, 100)]"
      ]
     },
     "execution_count": 322,
     "metadata": {},
     "output_type": "execute_result"
    }
   ],
   "source": [
    "In [85]: pd.cut(ages, bins, right=False)"
   ]
  },
  {
   "cell_type": "code",
   "execution_count": 323,
   "id": "59833461-6d54-42be-a72c-388ed502eda4",
   "metadata": {},
   "outputs": [
    {
     "data": {
      "text/plain": [
       "['Youth', 'Youth', 'Youth', 'YoungAdult', 'Youth', ..., 'YoungAdult', 'Senior', 'MiddleAged', 'MiddleAged', 'YoungAdult']\n",
       "Length: 12\n",
       "Categories (4, object): ['Youth' < 'YoungAdult' < 'MiddleAged' < 'Senior']"
      ]
     },
     "execution_count": 323,
     "metadata": {},
     "output_type": "execute_result"
    }
   ],
   "source": [
    "In [86]: group_names = [\"Youth\", \"YoungAdult\", \"MiddleAged\", \"Senior\"]\n",
    "\n",
    "In [87]: pd.cut(ages, bins, labels=group_names)"
   ]
  },
  {
   "cell_type": "code",
   "execution_count": 324,
   "id": "67fa4ad3-38f6-4e5b-a625-bc6f69e3605b",
   "metadata": {},
   "outputs": [
    {
     "data": {
      "text/plain": [
       "[(0.046, 0.27], (0.5, 0.72], (0.5, 0.72], (0.5, 0.72], (0.5, 0.72], ..., (0.046, 0.27], (0.046, 0.27], (0.046, 0.27], (0.5, 0.72], (0.5, 0.72]]\n",
       "Length: 20\n",
       "Categories (4, interval[float64, right]): [(0.046, 0.27] < (0.27, 0.5] < (0.5, 0.72] < (0.72, 0.95]]"
      ]
     },
     "execution_count": 324,
     "metadata": {},
     "output_type": "execute_result"
    }
   ],
   "source": [
    "In [88]: data = np.random.uniform(size=20)\n",
    "\n",
    "In [89]: pd.cut(data, 4, precision=2)"
   ]
  },
  {
   "cell_type": "code",
   "execution_count": 325,
   "id": "782a1671-6a61-40e1-a6ba-5fe0f2060a1c",
   "metadata": {},
   "outputs": [
    {
     "data": {
      "text/plain": [
       "[(0.69, 3.48], (-0.68, -0.028], (-3.4299999999999997, -0.68], (0.69, 3.48], (-0.028, 0.69], ..., (-3.4299999999999997, -0.68], (-0.68, -0.028], (-0.68, -0.028], (-0.68, -0.028], (-0.68, -0.028]]\n",
       "Length: 1000\n",
       "Categories (4, interval[float64, right]): [(-3.4299999999999997, -0.68] < (-0.68, -0.028] < (-0.028, 0.69] < (0.69, 3.48]]"
      ]
     },
     "execution_count": 325,
     "metadata": {},
     "output_type": "execute_result"
    }
   ],
   "source": [
    "In [90]: data = np.random.standard_normal(1000)\n",
    "\n",
    "In [91]: quartiles = pd.qcut(data, 4, precision=2)\n",
    "\n",
    "In [92]: quartiles"
   ]
  },
  {
   "cell_type": "code",
   "execution_count": 326,
   "id": "5942cf23-6a93-49f9-8b7b-95b588102333",
   "metadata": {},
   "outputs": [
    {
     "name": "stderr",
     "output_type": "stream",
     "text": [
      "/var/folders/nf/zm9hb0654b163bnmw_ts6bwh0000gp/T/ipykernel_98992/467165752.py:1: FutureWarning: pandas.value_counts is deprecated and will be removed in a future version. Use pd.Series(obj).value_counts() instead.\n",
      "  pd.value_counts(quartiles)\n"
     ]
    },
    {
     "data": {
      "text/plain": [
       "(-3.4299999999999997, -0.68]    250\n",
       "(-0.68, -0.028]                 250\n",
       "(-0.028, 0.69]                  250\n",
       "(0.69, 3.48]                    250\n",
       "Name: count, dtype: int64"
      ]
     },
     "execution_count": 326,
     "metadata": {},
     "output_type": "execute_result"
    }
   ],
   "source": [
    "In [93]: pd.value_counts(quartiles)"
   ]
  },
  {
   "cell_type": "code",
   "execution_count": 327,
   "id": "ca86684e-047f-4069-8620-fea16c66b66e",
   "metadata": {},
   "outputs": [
    {
     "data": {
      "text/plain": [
       "(-3.424, -1.302]     100\n",
       "(-1.302, -0.0282]    400\n",
       "(-0.0282, 1.325]     400\n",
       "(1.325, 3.481]       100\n",
       "Name: count, dtype: int64"
      ]
     },
     "execution_count": 327,
     "metadata": {},
     "output_type": "execute_result"
    }
   ],
   "source": [
    "In [94]: pd.qcut(data, [0, 0.1, 0.5, 0.9, 1.]).value_counts()"
   ]
  },
  {
   "cell_type": "code",
   "execution_count": 328,
   "id": "733fa7f3-22ce-4bdb-872d-cb3f0aabcb04",
   "metadata": {},
   "outputs": [
    {
     "data": {
      "text/html": [
       "<div>\n",
       "<style scoped>\n",
       "    .dataframe tbody tr th:only-of-type {\n",
       "        vertical-align: middle;\n",
       "    }\n",
       "\n",
       "    .dataframe tbody tr th {\n",
       "        vertical-align: top;\n",
       "    }\n",
       "\n",
       "    .dataframe thead th {\n",
       "        text-align: right;\n",
       "    }\n",
       "</style>\n",
       "<table border=\"1\" class=\"dataframe\">\n",
       "  <thead>\n",
       "    <tr style=\"text-align: right;\">\n",
       "      <th></th>\n",
       "      <th>0</th>\n",
       "      <th>1</th>\n",
       "      <th>2</th>\n",
       "      <th>3</th>\n",
       "    </tr>\n",
       "  </thead>\n",
       "  <tbody>\n",
       "    <tr>\n",
       "      <th>count</th>\n",
       "      <td>1000.000000</td>\n",
       "      <td>1000.000000</td>\n",
       "      <td>1000.000000</td>\n",
       "      <td>1000.000000</td>\n",
       "    </tr>\n",
       "    <tr>\n",
       "      <th>mean</th>\n",
       "      <td>-0.035016</td>\n",
       "      <td>-0.059670</td>\n",
       "      <td>-0.045356</td>\n",
       "      <td>-0.032493</td>\n",
       "    </tr>\n",
       "    <tr>\n",
       "      <th>std</th>\n",
       "      <td>0.992540</td>\n",
       "      <td>1.041457</td>\n",
       "      <td>1.047529</td>\n",
       "      <td>1.014335</td>\n",
       "    </tr>\n",
       "    <tr>\n",
       "      <th>min</th>\n",
       "      <td>-3.591325</td>\n",
       "      <td>-3.385656</td>\n",
       "      <td>-3.309309</td>\n",
       "      <td>-3.395676</td>\n",
       "    </tr>\n",
       "    <tr>\n",
       "      <th>25%</th>\n",
       "      <td>-0.677105</td>\n",
       "      <td>-0.791637</td>\n",
       "      <td>-0.752983</td>\n",
       "      <td>-0.714474</td>\n",
       "    </tr>\n",
       "    <tr>\n",
       "      <th>50%</th>\n",
       "      <td>-0.007232</td>\n",
       "      <td>-0.049198</td>\n",
       "      <td>-0.059422</td>\n",
       "      <td>-0.082671</td>\n",
       "    </tr>\n",
       "    <tr>\n",
       "      <th>75%</th>\n",
       "      <td>0.614972</td>\n",
       "      <td>0.698061</td>\n",
       "      <td>0.641009</td>\n",
       "      <td>0.635322</td>\n",
       "    </tr>\n",
       "    <tr>\n",
       "      <th>max</th>\n",
       "      <td>3.011629</td>\n",
       "      <td>3.339202</td>\n",
       "      <td>3.212670</td>\n",
       "      <td>3.283972</td>\n",
       "    </tr>\n",
       "  </tbody>\n",
       "</table>\n",
       "</div>"
      ],
      "text/plain": [
       "                 0            1            2            3\n",
       "count  1000.000000  1000.000000  1000.000000  1000.000000\n",
       "mean     -0.035016    -0.059670    -0.045356    -0.032493\n",
       "std       0.992540     1.041457     1.047529     1.014335\n",
       "min      -3.591325    -3.385656    -3.309309    -3.395676\n",
       "25%      -0.677105    -0.791637    -0.752983    -0.714474\n",
       "50%      -0.007232    -0.049198    -0.059422    -0.082671\n",
       "75%       0.614972     0.698061     0.641009     0.635322\n",
       "max       3.011629     3.339202     3.212670     3.283972"
      ]
     },
     "execution_count": 328,
     "metadata": {},
     "output_type": "execute_result"
    }
   ],
   "source": [
    "In [95]: data = pd.DataFrame(np.random.standard_normal((1000, 4)))\n",
    "\n",
    "In [96]: data.describe()"
   ]
  },
  {
   "cell_type": "code",
   "execution_count": 329,
   "id": "81a7b771-615e-49d3-af1c-14dc5ab851b5",
   "metadata": {},
   "outputs": [
    {
     "data": {
      "text/plain": [
       "323    3.212670\n",
       "767   -3.309309\n",
       "930   -3.233111\n",
       "Name: 2, dtype: float64"
      ]
     },
     "execution_count": 329,
     "metadata": {},
     "output_type": "execute_result"
    }
   ],
   "source": [
    "In [97]: col = data[2]\n",
    "\n",
    "In [98]: col[col.abs() > 3]"
   ]
  },
  {
   "cell_type": "code",
   "execution_count": 330,
   "id": "46eeeddb-69db-43e7-b459-3846c58b6d6e",
   "metadata": {},
   "outputs": [
    {
     "data": {
      "text/html": [
       "<div>\n",
       "<style scoped>\n",
       "    .dataframe tbody tr th:only-of-type {\n",
       "        vertical-align: middle;\n",
       "    }\n",
       "\n",
       "    .dataframe tbody tr th {\n",
       "        vertical-align: top;\n",
       "    }\n",
       "\n",
       "    .dataframe thead th {\n",
       "        text-align: right;\n",
       "    }\n",
       "</style>\n",
       "<table border=\"1\" class=\"dataframe\">\n",
       "  <thead>\n",
       "    <tr style=\"text-align: right;\">\n",
       "      <th></th>\n",
       "      <th>0</th>\n",
       "      <th>1</th>\n",
       "      <th>2</th>\n",
       "      <th>3</th>\n",
       "    </tr>\n",
       "  </thead>\n",
       "  <tbody>\n",
       "    <tr>\n",
       "      <th>93</th>\n",
       "      <td>0.187624</td>\n",
       "      <td>-3.385656</td>\n",
       "      <td>-0.153334</td>\n",
       "      <td>1.441867</td>\n",
       "    </tr>\n",
       "    <tr>\n",
       "      <th>204</th>\n",
       "      <td>0.974201</td>\n",
       "      <td>-3.004615</td>\n",
       "      <td>-0.808825</td>\n",
       "      <td>-0.774215</td>\n",
       "    </tr>\n",
       "    <tr>\n",
       "      <th>262</th>\n",
       "      <td>-1.773957</td>\n",
       "      <td>-3.278041</td>\n",
       "      <td>0.562008</td>\n",
       "      <td>-0.697083</td>\n",
       "    </tr>\n",
       "    <tr>\n",
       "      <th>323</th>\n",
       "      <td>0.050475</td>\n",
       "      <td>-0.191964</td>\n",
       "      <td>3.212670</td>\n",
       "      <td>-0.710328</td>\n",
       "    </tr>\n",
       "    <tr>\n",
       "      <th>397</th>\n",
       "      <td>0.101344</td>\n",
       "      <td>1.278806</td>\n",
       "      <td>0.179501</td>\n",
       "      <td>-3.268808</td>\n",
       "    </tr>\n",
       "    <tr>\n",
       "      <th>413</th>\n",
       "      <td>-3.179304</td>\n",
       "      <td>0.077614</td>\n",
       "      <td>0.021104</td>\n",
       "      <td>-0.797876</td>\n",
       "    </tr>\n",
       "    <tr>\n",
       "      <th>515</th>\n",
       "      <td>-0.020157</td>\n",
       "      <td>-3.138697</td>\n",
       "      <td>-1.792564</td>\n",
       "      <td>0.665849</td>\n",
       "    </tr>\n",
       "    <tr>\n",
       "      <th>528</th>\n",
       "      <td>-0.664265</td>\n",
       "      <td>-0.054515</td>\n",
       "      <td>-0.268115</td>\n",
       "      <td>-3.395676</td>\n",
       "    </tr>\n",
       "    <tr>\n",
       "      <th>593</th>\n",
       "      <td>3.011629</td>\n",
       "      <td>0.507438</td>\n",
       "      <td>-0.958237</td>\n",
       "      <td>0.223540</td>\n",
       "    </tr>\n",
       "    <tr>\n",
       "      <th>640</th>\n",
       "      <td>-1.188134</td>\n",
       "      <td>-3.267235</td>\n",
       "      <td>-0.807252</td>\n",
       "      <td>0.760852</td>\n",
       "    </tr>\n",
       "    <tr>\n",
       "      <th>662</th>\n",
       "      <td>-0.444325</td>\n",
       "      <td>-0.581267</td>\n",
       "      <td>0.440830</td>\n",
       "      <td>-3.021446</td>\n",
       "    </tr>\n",
       "    <tr>\n",
       "      <th>767</th>\n",
       "      <td>0.947081</td>\n",
       "      <td>-0.500830</td>\n",
       "      <td>-3.309309</td>\n",
       "      <td>0.999841</td>\n",
       "    </tr>\n",
       "    <tr>\n",
       "      <th>842</th>\n",
       "      <td>0.368734</td>\n",
       "      <td>1.415239</td>\n",
       "      <td>0.863850</td>\n",
       "      <td>3.283972</td>\n",
       "    </tr>\n",
       "    <tr>\n",
       "      <th>877</th>\n",
       "      <td>0.452464</td>\n",
       "      <td>3.339202</td>\n",
       "      <td>-0.761501</td>\n",
       "      <td>-1.806486</td>\n",
       "    </tr>\n",
       "    <tr>\n",
       "      <th>923</th>\n",
       "      <td>-3.591325</td>\n",
       "      <td>0.880392</td>\n",
       "      <td>-0.645991</td>\n",
       "      <td>1.689765</td>\n",
       "    </tr>\n",
       "    <tr>\n",
       "      <th>930</th>\n",
       "      <td>0.899597</td>\n",
       "      <td>-0.851738</td>\n",
       "      <td>-3.233111</td>\n",
       "      <td>0.868715</td>\n",
       "    </tr>\n",
       "    <tr>\n",
       "      <th>987</th>\n",
       "      <td>-3.028426</td>\n",
       "      <td>-0.815113</td>\n",
       "      <td>-1.626644</td>\n",
       "      <td>-2.045101</td>\n",
       "    </tr>\n",
       "  </tbody>\n",
       "</table>\n",
       "</div>"
      ],
      "text/plain": [
       "            0         1         2         3\n",
       "93   0.187624 -3.385656 -0.153334  1.441867\n",
       "204  0.974201 -3.004615 -0.808825 -0.774215\n",
       "262 -1.773957 -3.278041  0.562008 -0.697083\n",
       "323  0.050475 -0.191964  3.212670 -0.710328\n",
       "397  0.101344  1.278806  0.179501 -3.268808\n",
       "413 -3.179304  0.077614  0.021104 -0.797876\n",
       "515 -0.020157 -3.138697 -1.792564  0.665849\n",
       "528 -0.664265 -0.054515 -0.268115 -3.395676\n",
       "593  3.011629  0.507438 -0.958237  0.223540\n",
       "640 -1.188134 -3.267235 -0.807252  0.760852\n",
       "662 -0.444325 -0.581267  0.440830 -3.021446\n",
       "767  0.947081 -0.500830 -3.309309  0.999841\n",
       "842  0.368734  1.415239  0.863850  3.283972\n",
       "877  0.452464  3.339202 -0.761501 -1.806486\n",
       "923 -3.591325  0.880392 -0.645991  1.689765\n",
       "930  0.899597 -0.851738 -3.233111  0.868715\n",
       "987 -3.028426 -0.815113 -1.626644 -2.045101"
      ]
     },
     "execution_count": 330,
     "metadata": {},
     "output_type": "execute_result"
    }
   ],
   "source": [
    "In [99]: data[(data.abs() > 3).any(axis=\"columns\")]"
   ]
  },
  {
   "cell_type": "code",
   "execution_count": 331,
   "id": "c6b29e8e-88e8-4570-98b1-270908e00e09",
   "metadata": {},
   "outputs": [
    {
     "data": {
      "text/html": [
       "<div>\n",
       "<style scoped>\n",
       "    .dataframe tbody tr th:only-of-type {\n",
       "        vertical-align: middle;\n",
       "    }\n",
       "\n",
       "    .dataframe tbody tr th {\n",
       "        vertical-align: top;\n",
       "    }\n",
       "\n",
       "    .dataframe thead th {\n",
       "        text-align: right;\n",
       "    }\n",
       "</style>\n",
       "<table border=\"1\" class=\"dataframe\">\n",
       "  <thead>\n",
       "    <tr style=\"text-align: right;\">\n",
       "      <th></th>\n",
       "      <th>0</th>\n",
       "      <th>1</th>\n",
       "      <th>2</th>\n",
       "      <th>3</th>\n",
       "    </tr>\n",
       "  </thead>\n",
       "  <tbody>\n",
       "    <tr>\n",
       "      <th>count</th>\n",
       "      <td>1000.000000</td>\n",
       "      <td>1000.000000</td>\n",
       "      <td>1000.000000</td>\n",
       "      <td>1000.000000</td>\n",
       "    </tr>\n",
       "    <tr>\n",
       "      <th>mean</th>\n",
       "      <td>-0.034228</td>\n",
       "      <td>-0.058935</td>\n",
       "      <td>-0.045026</td>\n",
       "      <td>-0.032091</td>\n",
       "    </tr>\n",
       "    <tr>\n",
       "      <th>std</th>\n",
       "      <td>0.989918</td>\n",
       "      <td>1.037207</td>\n",
       "      <td>1.045283</td>\n",
       "      <td>1.011319</td>\n",
       "    </tr>\n",
       "    <tr>\n",
       "      <th>min</th>\n",
       "      <td>-3.000000</td>\n",
       "      <td>-3.000000</td>\n",
       "      <td>-3.000000</td>\n",
       "      <td>-3.000000</td>\n",
       "    </tr>\n",
       "    <tr>\n",
       "      <th>25%</th>\n",
       "      <td>-0.677105</td>\n",
       "      <td>-0.791637</td>\n",
       "      <td>-0.752983</td>\n",
       "      <td>-0.714474</td>\n",
       "    </tr>\n",
       "    <tr>\n",
       "      <th>50%</th>\n",
       "      <td>-0.007232</td>\n",
       "      <td>-0.049198</td>\n",
       "      <td>-0.059422</td>\n",
       "      <td>-0.082671</td>\n",
       "    </tr>\n",
       "    <tr>\n",
       "      <th>75%</th>\n",
       "      <td>0.614972</td>\n",
       "      <td>0.698061</td>\n",
       "      <td>0.641009</td>\n",
       "      <td>0.635322</td>\n",
       "    </tr>\n",
       "    <tr>\n",
       "      <th>max</th>\n",
       "      <td>3.000000</td>\n",
       "      <td>3.000000</td>\n",
       "      <td>3.000000</td>\n",
       "      <td>3.000000</td>\n",
       "    </tr>\n",
       "  </tbody>\n",
       "</table>\n",
       "</div>"
      ],
      "text/plain": [
       "                 0            1            2            3\n",
       "count  1000.000000  1000.000000  1000.000000  1000.000000\n",
       "mean     -0.034228    -0.058935    -0.045026    -0.032091\n",
       "std       0.989918     1.037207     1.045283     1.011319\n",
       "min      -3.000000    -3.000000    -3.000000    -3.000000\n",
       "25%      -0.677105    -0.791637    -0.752983    -0.714474\n",
       "50%      -0.007232    -0.049198    -0.059422    -0.082671\n",
       "75%       0.614972     0.698061     0.641009     0.635322\n",
       "max       3.000000     3.000000     3.000000     3.000000"
      ]
     },
     "execution_count": 331,
     "metadata": {},
     "output_type": "execute_result"
    }
   ],
   "source": [
    "In [100]: data[data.abs() > 3] = np.sign(data) * 3\n",
    "\n",
    "In [101]: data.describe()"
   ]
  },
  {
   "cell_type": "code",
   "execution_count": 332,
   "id": "eaab9c34-ecc3-4f67-85c9-d32fe2eba722",
   "metadata": {},
   "outputs": [
    {
     "data": {
      "text/html": [
       "<div>\n",
       "<style scoped>\n",
       "    .dataframe tbody tr th:only-of-type {\n",
       "        vertical-align: middle;\n",
       "    }\n",
       "\n",
       "    .dataframe tbody tr th {\n",
       "        vertical-align: top;\n",
       "    }\n",
       "\n",
       "    .dataframe thead th {\n",
       "        text-align: right;\n",
       "    }\n",
       "</style>\n",
       "<table border=\"1\" class=\"dataframe\">\n",
       "  <thead>\n",
       "    <tr style=\"text-align: right;\">\n",
       "      <th></th>\n",
       "      <th>0</th>\n",
       "      <th>1</th>\n",
       "      <th>2</th>\n",
       "      <th>3</th>\n",
       "    </tr>\n",
       "  </thead>\n",
       "  <tbody>\n",
       "    <tr>\n",
       "      <th>0</th>\n",
       "      <td>-1.0</td>\n",
       "      <td>1.0</td>\n",
       "      <td>-1.0</td>\n",
       "      <td>-1.0</td>\n",
       "    </tr>\n",
       "    <tr>\n",
       "      <th>1</th>\n",
       "      <td>-1.0</td>\n",
       "      <td>1.0</td>\n",
       "      <td>-1.0</td>\n",
       "      <td>-1.0</td>\n",
       "    </tr>\n",
       "    <tr>\n",
       "      <th>2</th>\n",
       "      <td>1.0</td>\n",
       "      <td>-1.0</td>\n",
       "      <td>1.0</td>\n",
       "      <td>-1.0</td>\n",
       "    </tr>\n",
       "    <tr>\n",
       "      <th>3</th>\n",
       "      <td>-1.0</td>\n",
       "      <td>-1.0</td>\n",
       "      <td>1.0</td>\n",
       "      <td>-1.0</td>\n",
       "    </tr>\n",
       "    <tr>\n",
       "      <th>4</th>\n",
       "      <td>1.0</td>\n",
       "      <td>-1.0</td>\n",
       "      <td>1.0</td>\n",
       "      <td>1.0</td>\n",
       "    </tr>\n",
       "  </tbody>\n",
       "</table>\n",
       "</div>"
      ],
      "text/plain": [
       "     0    1    2    3\n",
       "0 -1.0  1.0 -1.0 -1.0\n",
       "1 -1.0  1.0 -1.0 -1.0\n",
       "2  1.0 -1.0  1.0 -1.0\n",
       "3 -1.0 -1.0  1.0 -1.0\n",
       "4  1.0 -1.0  1.0  1.0"
      ]
     },
     "execution_count": 332,
     "metadata": {},
     "output_type": "execute_result"
    }
   ],
   "source": [
    "In [102]: np.sign(data).head()"
   ]
  },
  {
   "cell_type": "code",
   "execution_count": 333,
   "id": "09b1b3db-2445-442a-b808-fa214a97ec28",
   "metadata": {},
   "outputs": [
    {
     "data": {
      "text/html": [
       "<div>\n",
       "<style scoped>\n",
       "    .dataframe tbody tr th:only-of-type {\n",
       "        vertical-align: middle;\n",
       "    }\n",
       "\n",
       "    .dataframe tbody tr th {\n",
       "        vertical-align: top;\n",
       "    }\n",
       "\n",
       "    .dataframe thead th {\n",
       "        text-align: right;\n",
       "    }\n",
       "</style>\n",
       "<table border=\"1\" class=\"dataframe\">\n",
       "  <thead>\n",
       "    <tr style=\"text-align: right;\">\n",
       "      <th></th>\n",
       "      <th>0</th>\n",
       "      <th>1</th>\n",
       "      <th>2</th>\n",
       "      <th>3</th>\n",
       "      <th>4</th>\n",
       "      <th>5</th>\n",
       "      <th>6</th>\n",
       "    </tr>\n",
       "  </thead>\n",
       "  <tbody>\n",
       "    <tr>\n",
       "      <th>0</th>\n",
       "      <td>0</td>\n",
       "      <td>1</td>\n",
       "      <td>2</td>\n",
       "      <td>3</td>\n",
       "      <td>4</td>\n",
       "      <td>5</td>\n",
       "      <td>6</td>\n",
       "    </tr>\n",
       "    <tr>\n",
       "      <th>1</th>\n",
       "      <td>7</td>\n",
       "      <td>8</td>\n",
       "      <td>9</td>\n",
       "      <td>10</td>\n",
       "      <td>11</td>\n",
       "      <td>12</td>\n",
       "      <td>13</td>\n",
       "    </tr>\n",
       "    <tr>\n",
       "      <th>2</th>\n",
       "      <td>14</td>\n",
       "      <td>15</td>\n",
       "      <td>16</td>\n",
       "      <td>17</td>\n",
       "      <td>18</td>\n",
       "      <td>19</td>\n",
       "      <td>20</td>\n",
       "    </tr>\n",
       "    <tr>\n",
       "      <th>3</th>\n",
       "      <td>21</td>\n",
       "      <td>22</td>\n",
       "      <td>23</td>\n",
       "      <td>24</td>\n",
       "      <td>25</td>\n",
       "      <td>26</td>\n",
       "      <td>27</td>\n",
       "    </tr>\n",
       "    <tr>\n",
       "      <th>4</th>\n",
       "      <td>28</td>\n",
       "      <td>29</td>\n",
       "      <td>30</td>\n",
       "      <td>31</td>\n",
       "      <td>32</td>\n",
       "      <td>33</td>\n",
       "      <td>34</td>\n",
       "    </tr>\n",
       "  </tbody>\n",
       "</table>\n",
       "</div>"
      ],
      "text/plain": [
       "    0   1   2   3   4   5   6\n",
       "0   0   1   2   3   4   5   6\n",
       "1   7   8   9  10  11  12  13\n",
       "2  14  15  16  17  18  19  20\n",
       "3  21  22  23  24  25  26  27\n",
       "4  28  29  30  31  32  33  34"
      ]
     },
     "execution_count": 333,
     "metadata": {},
     "output_type": "execute_result"
    }
   ],
   "source": [
    "In [103]: df = pd.DataFrame(np.arange(5 * 7).reshape((5, 7)))\n",
    "\n",
    "In [104]: df"
   ]
  },
  {
   "cell_type": "code",
   "execution_count": 334,
   "id": "13964dc0-e11e-43d8-bc74-b0f1e33f2f8d",
   "metadata": {},
   "outputs": [
    {
     "data": {
      "text/plain": [
       "array([1, 2, 3, 4, 0])"
      ]
     },
     "execution_count": 334,
     "metadata": {},
     "output_type": "execute_result"
    }
   ],
   "source": [
    "In [105]: sampler = np.random.permutation(5)\n",
    "\n",
    "In [106]: sampler"
   ]
  },
  {
   "cell_type": "code",
   "execution_count": 335,
   "id": "6fe2d7d0-3ca4-44e7-9249-d39608285985",
   "metadata": {},
   "outputs": [
    {
     "data": {
      "text/html": [
       "<div>\n",
       "<style scoped>\n",
       "    .dataframe tbody tr th:only-of-type {\n",
       "        vertical-align: middle;\n",
       "    }\n",
       "\n",
       "    .dataframe tbody tr th {\n",
       "        vertical-align: top;\n",
       "    }\n",
       "\n",
       "    .dataframe thead th {\n",
       "        text-align: right;\n",
       "    }\n",
       "</style>\n",
       "<table border=\"1\" class=\"dataframe\">\n",
       "  <thead>\n",
       "    <tr style=\"text-align: right;\">\n",
       "      <th></th>\n",
       "      <th>0</th>\n",
       "      <th>1</th>\n",
       "      <th>2</th>\n",
       "      <th>3</th>\n",
       "      <th>4</th>\n",
       "      <th>5</th>\n",
       "      <th>6</th>\n",
       "    </tr>\n",
       "  </thead>\n",
       "  <tbody>\n",
       "    <tr>\n",
       "      <th>1</th>\n",
       "      <td>7</td>\n",
       "      <td>8</td>\n",
       "      <td>9</td>\n",
       "      <td>10</td>\n",
       "      <td>11</td>\n",
       "      <td>12</td>\n",
       "      <td>13</td>\n",
       "    </tr>\n",
       "    <tr>\n",
       "      <th>2</th>\n",
       "      <td>14</td>\n",
       "      <td>15</td>\n",
       "      <td>16</td>\n",
       "      <td>17</td>\n",
       "      <td>18</td>\n",
       "      <td>19</td>\n",
       "      <td>20</td>\n",
       "    </tr>\n",
       "    <tr>\n",
       "      <th>3</th>\n",
       "      <td>21</td>\n",
       "      <td>22</td>\n",
       "      <td>23</td>\n",
       "      <td>24</td>\n",
       "      <td>25</td>\n",
       "      <td>26</td>\n",
       "      <td>27</td>\n",
       "    </tr>\n",
       "    <tr>\n",
       "      <th>4</th>\n",
       "      <td>28</td>\n",
       "      <td>29</td>\n",
       "      <td>30</td>\n",
       "      <td>31</td>\n",
       "      <td>32</td>\n",
       "      <td>33</td>\n",
       "      <td>34</td>\n",
       "    </tr>\n",
       "    <tr>\n",
       "      <th>0</th>\n",
       "      <td>0</td>\n",
       "      <td>1</td>\n",
       "      <td>2</td>\n",
       "      <td>3</td>\n",
       "      <td>4</td>\n",
       "      <td>5</td>\n",
       "      <td>6</td>\n",
       "    </tr>\n",
       "  </tbody>\n",
       "</table>\n",
       "</div>"
      ],
      "text/plain": [
       "    0   1   2   3   4   5   6\n",
       "1   7   8   9  10  11  12  13\n",
       "2  14  15  16  17  18  19  20\n",
       "3  21  22  23  24  25  26  27\n",
       "4  28  29  30  31  32  33  34\n",
       "0   0   1   2   3   4   5   6"
      ]
     },
     "execution_count": 335,
     "metadata": {},
     "output_type": "execute_result"
    }
   ],
   "source": [
    "In [107]: df.take(sampler)"
   ]
  },
  {
   "cell_type": "code",
   "execution_count": 336,
   "id": "4a30ec38-2c09-4496-89b9-de3295d644d8",
   "metadata": {},
   "outputs": [
    {
     "data": {
      "text/html": [
       "<div>\n",
       "<style scoped>\n",
       "    .dataframe tbody tr th:only-of-type {\n",
       "        vertical-align: middle;\n",
       "    }\n",
       "\n",
       "    .dataframe tbody tr th {\n",
       "        vertical-align: top;\n",
       "    }\n",
       "\n",
       "    .dataframe thead th {\n",
       "        text-align: right;\n",
       "    }\n",
       "</style>\n",
       "<table border=\"1\" class=\"dataframe\">\n",
       "  <thead>\n",
       "    <tr style=\"text-align: right;\">\n",
       "      <th></th>\n",
       "      <th>0</th>\n",
       "      <th>1</th>\n",
       "      <th>2</th>\n",
       "      <th>3</th>\n",
       "      <th>4</th>\n",
       "      <th>5</th>\n",
       "      <th>6</th>\n",
       "    </tr>\n",
       "  </thead>\n",
       "  <tbody>\n",
       "    <tr>\n",
       "      <th>1</th>\n",
       "      <td>7</td>\n",
       "      <td>8</td>\n",
       "      <td>9</td>\n",
       "      <td>10</td>\n",
       "      <td>11</td>\n",
       "      <td>12</td>\n",
       "      <td>13</td>\n",
       "    </tr>\n",
       "    <tr>\n",
       "      <th>2</th>\n",
       "      <td>14</td>\n",
       "      <td>15</td>\n",
       "      <td>16</td>\n",
       "      <td>17</td>\n",
       "      <td>18</td>\n",
       "      <td>19</td>\n",
       "      <td>20</td>\n",
       "    </tr>\n",
       "    <tr>\n",
       "      <th>3</th>\n",
       "      <td>21</td>\n",
       "      <td>22</td>\n",
       "      <td>23</td>\n",
       "      <td>24</td>\n",
       "      <td>25</td>\n",
       "      <td>26</td>\n",
       "      <td>27</td>\n",
       "    </tr>\n",
       "    <tr>\n",
       "      <th>4</th>\n",
       "      <td>28</td>\n",
       "      <td>29</td>\n",
       "      <td>30</td>\n",
       "      <td>31</td>\n",
       "      <td>32</td>\n",
       "      <td>33</td>\n",
       "      <td>34</td>\n",
       "    </tr>\n",
       "    <tr>\n",
       "      <th>0</th>\n",
       "      <td>0</td>\n",
       "      <td>1</td>\n",
       "      <td>2</td>\n",
       "      <td>3</td>\n",
       "      <td>4</td>\n",
       "      <td>5</td>\n",
       "      <td>6</td>\n",
       "    </tr>\n",
       "  </tbody>\n",
       "</table>\n",
       "</div>"
      ],
      "text/plain": [
       "    0   1   2   3   4   5   6\n",
       "1   7   8   9  10  11  12  13\n",
       "2  14  15  16  17  18  19  20\n",
       "3  21  22  23  24  25  26  27\n",
       "4  28  29  30  31  32  33  34\n",
       "0   0   1   2   3   4   5   6"
      ]
     },
     "execution_count": 336,
     "metadata": {},
     "output_type": "execute_result"
    }
   ],
   "source": [
    "In [108]: df.iloc[sampler]"
   ]
  },
  {
   "cell_type": "code",
   "execution_count": 337,
   "id": "722f7581-b54a-4389-ba9d-eccf98ed512c",
   "metadata": {},
   "outputs": [
    {
     "data": {
      "text/plain": [
       "array([5, 0, 4, 1, 3, 6, 2])"
      ]
     },
     "execution_count": 337,
     "metadata": {},
     "output_type": "execute_result"
    }
   ],
   "source": [
    "In [109]: column_sampler = np.random.permutation(7)\n",
    "\n",
    "In [110]: column_sampler"
   ]
  },
  {
   "cell_type": "code",
   "execution_count": 338,
   "id": "da606023-6a5e-46cb-8684-9a22639dbd56",
   "metadata": {},
   "outputs": [
    {
     "data": {
      "text/html": [
       "<div>\n",
       "<style scoped>\n",
       "    .dataframe tbody tr th:only-of-type {\n",
       "        vertical-align: middle;\n",
       "    }\n",
       "\n",
       "    .dataframe tbody tr th {\n",
       "        vertical-align: top;\n",
       "    }\n",
       "\n",
       "    .dataframe thead th {\n",
       "        text-align: right;\n",
       "    }\n",
       "</style>\n",
       "<table border=\"1\" class=\"dataframe\">\n",
       "  <thead>\n",
       "    <tr style=\"text-align: right;\">\n",
       "      <th></th>\n",
       "      <th>5</th>\n",
       "      <th>0</th>\n",
       "      <th>4</th>\n",
       "      <th>1</th>\n",
       "      <th>3</th>\n",
       "      <th>6</th>\n",
       "      <th>2</th>\n",
       "    </tr>\n",
       "  </thead>\n",
       "  <tbody>\n",
       "    <tr>\n",
       "      <th>0</th>\n",
       "      <td>5</td>\n",
       "      <td>0</td>\n",
       "      <td>4</td>\n",
       "      <td>1</td>\n",
       "      <td>3</td>\n",
       "      <td>6</td>\n",
       "      <td>2</td>\n",
       "    </tr>\n",
       "    <tr>\n",
       "      <th>1</th>\n",
       "      <td>12</td>\n",
       "      <td>7</td>\n",
       "      <td>11</td>\n",
       "      <td>8</td>\n",
       "      <td>10</td>\n",
       "      <td>13</td>\n",
       "      <td>9</td>\n",
       "    </tr>\n",
       "    <tr>\n",
       "      <th>2</th>\n",
       "      <td>19</td>\n",
       "      <td>14</td>\n",
       "      <td>18</td>\n",
       "      <td>15</td>\n",
       "      <td>17</td>\n",
       "      <td>20</td>\n",
       "      <td>16</td>\n",
       "    </tr>\n",
       "    <tr>\n",
       "      <th>3</th>\n",
       "      <td>26</td>\n",
       "      <td>21</td>\n",
       "      <td>25</td>\n",
       "      <td>22</td>\n",
       "      <td>24</td>\n",
       "      <td>27</td>\n",
       "      <td>23</td>\n",
       "    </tr>\n",
       "    <tr>\n",
       "      <th>4</th>\n",
       "      <td>33</td>\n",
       "      <td>28</td>\n",
       "      <td>32</td>\n",
       "      <td>29</td>\n",
       "      <td>31</td>\n",
       "      <td>34</td>\n",
       "      <td>30</td>\n",
       "    </tr>\n",
       "  </tbody>\n",
       "</table>\n",
       "</div>"
      ],
      "text/plain": [
       "    5   0   4   1   3   6   2\n",
       "0   5   0   4   1   3   6   2\n",
       "1  12   7  11   8  10  13   9\n",
       "2  19  14  18  15  17  20  16\n",
       "3  26  21  25  22  24  27  23\n",
       "4  33  28  32  29  31  34  30"
      ]
     },
     "execution_count": 338,
     "metadata": {},
     "output_type": "execute_result"
    }
   ],
   "source": [
    "In [111]: df.take(column_sampler, axis=\"columns\")"
   ]
  },
  {
   "cell_type": "code",
   "execution_count": 339,
   "id": "ca4ae95e-380f-40f9-8004-4a4a8ae860f8",
   "metadata": {},
   "outputs": [
    {
     "data": {
      "text/html": [
       "<div>\n",
       "<style scoped>\n",
       "    .dataframe tbody tr th:only-of-type {\n",
       "        vertical-align: middle;\n",
       "    }\n",
       "\n",
       "    .dataframe tbody tr th {\n",
       "        vertical-align: top;\n",
       "    }\n",
       "\n",
       "    .dataframe thead th {\n",
       "        text-align: right;\n",
       "    }\n",
       "</style>\n",
       "<table border=\"1\" class=\"dataframe\">\n",
       "  <thead>\n",
       "    <tr style=\"text-align: right;\">\n",
       "      <th></th>\n",
       "      <th>0</th>\n",
       "      <th>1</th>\n",
       "      <th>2</th>\n",
       "      <th>3</th>\n",
       "      <th>4</th>\n",
       "      <th>5</th>\n",
       "      <th>6</th>\n",
       "    </tr>\n",
       "  </thead>\n",
       "  <tbody>\n",
       "    <tr>\n",
       "      <th>0</th>\n",
       "      <td>0</td>\n",
       "      <td>1</td>\n",
       "      <td>2</td>\n",
       "      <td>3</td>\n",
       "      <td>4</td>\n",
       "      <td>5</td>\n",
       "      <td>6</td>\n",
       "    </tr>\n",
       "    <tr>\n",
       "      <th>2</th>\n",
       "      <td>14</td>\n",
       "      <td>15</td>\n",
       "      <td>16</td>\n",
       "      <td>17</td>\n",
       "      <td>18</td>\n",
       "      <td>19</td>\n",
       "      <td>20</td>\n",
       "    </tr>\n",
       "    <tr>\n",
       "      <th>1</th>\n",
       "      <td>7</td>\n",
       "      <td>8</td>\n",
       "      <td>9</td>\n",
       "      <td>10</td>\n",
       "      <td>11</td>\n",
       "      <td>12</td>\n",
       "      <td>13</td>\n",
       "    </tr>\n",
       "  </tbody>\n",
       "</table>\n",
       "</div>"
      ],
      "text/plain": [
       "    0   1   2   3   4   5   6\n",
       "0   0   1   2   3   4   5   6\n",
       "2  14  15  16  17  18  19  20\n",
       "1   7   8   9  10  11  12  13"
      ]
     },
     "execution_count": 339,
     "metadata": {},
     "output_type": "execute_result"
    }
   ],
   "source": [
    "In [112]: df.sample(n=3)"
   ]
  },
  {
   "cell_type": "code",
   "execution_count": 340,
   "id": "4a7a3d89-68e2-4298-b944-2abb11224577",
   "metadata": {},
   "outputs": [
    {
     "data": {
      "text/plain": [
       "3    6\n",
       "0    5\n",
       "4    4\n",
       "4    4\n",
       "2   -1\n",
       "3    6\n",
       "2   -1\n",
       "4    4\n",
       "1    7\n",
       "1    7\n",
       "dtype: int64"
      ]
     },
     "execution_count": 340,
     "metadata": {},
     "output_type": "execute_result"
    }
   ],
   "source": [
    "In [113]: choices = pd.Series([5, 7, -1, 6, 4])\n",
    "\n",
    "In [114]: choices.sample(n=10, replace=True)"
   ]
  },
  {
   "cell_type": "code",
   "execution_count": 341,
   "id": "197d5a57-e745-48cb-be98-9aa83ee46bad",
   "metadata": {},
   "outputs": [
    {
     "data": {
      "text/html": [
       "<div>\n",
       "<style scoped>\n",
       "    .dataframe tbody tr th:only-of-type {\n",
       "        vertical-align: middle;\n",
       "    }\n",
       "\n",
       "    .dataframe tbody tr th {\n",
       "        vertical-align: top;\n",
       "    }\n",
       "\n",
       "    .dataframe thead th {\n",
       "        text-align: right;\n",
       "    }\n",
       "</style>\n",
       "<table border=\"1\" class=\"dataframe\">\n",
       "  <thead>\n",
       "    <tr style=\"text-align: right;\">\n",
       "      <th></th>\n",
       "      <th>key</th>\n",
       "      <th>data1</th>\n",
       "    </tr>\n",
       "  </thead>\n",
       "  <tbody>\n",
       "    <tr>\n",
       "      <th>0</th>\n",
       "      <td>b</td>\n",
       "      <td>0</td>\n",
       "    </tr>\n",
       "    <tr>\n",
       "      <th>1</th>\n",
       "      <td>b</td>\n",
       "      <td>1</td>\n",
       "    </tr>\n",
       "    <tr>\n",
       "      <th>2</th>\n",
       "      <td>a</td>\n",
       "      <td>2</td>\n",
       "    </tr>\n",
       "    <tr>\n",
       "      <th>3</th>\n",
       "      <td>c</td>\n",
       "      <td>3</td>\n",
       "    </tr>\n",
       "    <tr>\n",
       "      <th>4</th>\n",
       "      <td>a</td>\n",
       "      <td>4</td>\n",
       "    </tr>\n",
       "    <tr>\n",
       "      <th>5</th>\n",
       "      <td>b</td>\n",
       "      <td>5</td>\n",
       "    </tr>\n",
       "  </tbody>\n",
       "</table>\n",
       "</div>"
      ],
      "text/plain": [
       "  key  data1\n",
       "0   b      0\n",
       "1   b      1\n",
       "2   a      2\n",
       "3   c      3\n",
       "4   a      4\n",
       "5   b      5"
      ]
     },
     "execution_count": 341,
     "metadata": {},
     "output_type": "execute_result"
    }
   ],
   "source": [
    "In [115]: df = pd.DataFrame({\"key\": [\"b\", \"b\", \"a\", \"c\", \"a\", \"b\"],\n",
    "   .....:                    \"data1\": range(6)})\n",
    "\n",
    "In [116]: df"
   ]
  },
  {
   "cell_type": "code",
   "execution_count": 342,
   "id": "2440f3f0-90f0-4859-9058-7c5e2c137b47",
   "metadata": {},
   "outputs": [
    {
     "data": {
      "text/html": [
       "<div>\n",
       "<style scoped>\n",
       "    .dataframe tbody tr th:only-of-type {\n",
       "        vertical-align: middle;\n",
       "    }\n",
       "\n",
       "    .dataframe tbody tr th {\n",
       "        vertical-align: top;\n",
       "    }\n",
       "\n",
       "    .dataframe thead th {\n",
       "        text-align: right;\n",
       "    }\n",
       "</style>\n",
       "<table border=\"1\" class=\"dataframe\">\n",
       "  <thead>\n",
       "    <tr style=\"text-align: right;\">\n",
       "      <th></th>\n",
       "      <th>a</th>\n",
       "      <th>b</th>\n",
       "      <th>c</th>\n",
       "    </tr>\n",
       "  </thead>\n",
       "  <tbody>\n",
       "    <tr>\n",
       "      <th>0</th>\n",
       "      <td>0.0</td>\n",
       "      <td>1.0</td>\n",
       "      <td>0.0</td>\n",
       "    </tr>\n",
       "    <tr>\n",
       "      <th>1</th>\n",
       "      <td>0.0</td>\n",
       "      <td>1.0</td>\n",
       "      <td>0.0</td>\n",
       "    </tr>\n",
       "    <tr>\n",
       "      <th>2</th>\n",
       "      <td>1.0</td>\n",
       "      <td>0.0</td>\n",
       "      <td>0.0</td>\n",
       "    </tr>\n",
       "    <tr>\n",
       "      <th>3</th>\n",
       "      <td>0.0</td>\n",
       "      <td>0.0</td>\n",
       "      <td>1.0</td>\n",
       "    </tr>\n",
       "    <tr>\n",
       "      <th>4</th>\n",
       "      <td>1.0</td>\n",
       "      <td>0.0</td>\n",
       "      <td>0.0</td>\n",
       "    </tr>\n",
       "    <tr>\n",
       "      <th>5</th>\n",
       "      <td>0.0</td>\n",
       "      <td>1.0</td>\n",
       "      <td>0.0</td>\n",
       "    </tr>\n",
       "  </tbody>\n",
       "</table>\n",
       "</div>"
      ],
      "text/plain": [
       "     a    b    c\n",
       "0  0.0  1.0  0.0\n",
       "1  0.0  1.0  0.0\n",
       "2  1.0  0.0  0.0\n",
       "3  0.0  0.0  1.0\n",
       "4  1.0  0.0  0.0\n",
       "5  0.0  1.0  0.0"
      ]
     },
     "execution_count": 342,
     "metadata": {},
     "output_type": "execute_result"
    }
   ],
   "source": [
    "In [117]: pd.get_dummies(df[\"key\"], dtype=float)"
   ]
  },
  {
   "cell_type": "code",
   "execution_count": 343,
   "id": "3da1dde8-83df-4841-89af-a6ed2bcce913",
   "metadata": {},
   "outputs": [
    {
     "data": {
      "text/html": [
       "<div>\n",
       "<style scoped>\n",
       "    .dataframe tbody tr th:only-of-type {\n",
       "        vertical-align: middle;\n",
       "    }\n",
       "\n",
       "    .dataframe tbody tr th {\n",
       "        vertical-align: top;\n",
       "    }\n",
       "\n",
       "    .dataframe thead th {\n",
       "        text-align: right;\n",
       "    }\n",
       "</style>\n",
       "<table border=\"1\" class=\"dataframe\">\n",
       "  <thead>\n",
       "    <tr style=\"text-align: right;\">\n",
       "      <th></th>\n",
       "      <th>data1</th>\n",
       "      <th>key_a</th>\n",
       "      <th>key_b</th>\n",
       "      <th>key_c</th>\n",
       "    </tr>\n",
       "  </thead>\n",
       "  <tbody>\n",
       "    <tr>\n",
       "      <th>0</th>\n",
       "      <td>0</td>\n",
       "      <td>0.0</td>\n",
       "      <td>1.0</td>\n",
       "      <td>0.0</td>\n",
       "    </tr>\n",
       "    <tr>\n",
       "      <th>1</th>\n",
       "      <td>1</td>\n",
       "      <td>0.0</td>\n",
       "      <td>1.0</td>\n",
       "      <td>0.0</td>\n",
       "    </tr>\n",
       "    <tr>\n",
       "      <th>2</th>\n",
       "      <td>2</td>\n",
       "      <td>1.0</td>\n",
       "      <td>0.0</td>\n",
       "      <td>0.0</td>\n",
       "    </tr>\n",
       "    <tr>\n",
       "      <th>3</th>\n",
       "      <td>3</td>\n",
       "      <td>0.0</td>\n",
       "      <td>0.0</td>\n",
       "      <td>1.0</td>\n",
       "    </tr>\n",
       "    <tr>\n",
       "      <th>4</th>\n",
       "      <td>4</td>\n",
       "      <td>1.0</td>\n",
       "      <td>0.0</td>\n",
       "      <td>0.0</td>\n",
       "    </tr>\n",
       "    <tr>\n",
       "      <th>5</th>\n",
       "      <td>5</td>\n",
       "      <td>0.0</td>\n",
       "      <td>1.0</td>\n",
       "      <td>0.0</td>\n",
       "    </tr>\n",
       "  </tbody>\n",
       "</table>\n",
       "</div>"
      ],
      "text/plain": [
       "   data1  key_a  key_b  key_c\n",
       "0      0    0.0    1.0    0.0\n",
       "1      1    0.0    1.0    0.0\n",
       "2      2    1.0    0.0    0.0\n",
       "3      3    0.0    0.0    1.0\n",
       "4      4    1.0    0.0    0.0\n",
       "5      5    0.0    1.0    0.0"
      ]
     },
     "execution_count": 343,
     "metadata": {},
     "output_type": "execute_result"
    }
   ],
   "source": [
    "In [118]: dummies = pd.get_dummies(df[\"key\"], prefix=\"key\", dtype=float)\n",
    "\n",
    "In [119]: df_with_dummy = df[[\"data1\"]].join(dummies)\n",
    "\n",
    "In [120]: df_with_dummy"
   ]
  },
  {
   "cell_type": "code",
   "execution_count": 4,
   "id": "a2733f42-7372-4865-bddc-9774f94f7318",
   "metadata": {},
   "outputs": [
    {
     "data": {
      "text/html": [
       "<div>\n",
       "<style scoped>\n",
       "    .dataframe tbody tr th:only-of-type {\n",
       "        vertical-align: middle;\n",
       "    }\n",
       "\n",
       "    .dataframe tbody tr th {\n",
       "        vertical-align: top;\n",
       "    }\n",
       "\n",
       "    .dataframe thead th {\n",
       "        text-align: right;\n",
       "    }\n",
       "</style>\n",
       "<table border=\"1\" class=\"dataframe\">\n",
       "  <thead>\n",
       "    <tr style=\"text-align: right;\">\n",
       "      <th></th>\n",
       "      <th>movie_id</th>\n",
       "      <th>title</th>\n",
       "      <th>genres</th>\n",
       "    </tr>\n",
       "  </thead>\n",
       "  <tbody>\n",
       "    <tr>\n",
       "      <th>0</th>\n",
       "      <td>1</td>\n",
       "      <td>Toy Story (1995)</td>\n",
       "      <td>Animation|Children's|Comedy</td>\n",
       "    </tr>\n",
       "    <tr>\n",
       "      <th>1</th>\n",
       "      <td>2</td>\n",
       "      <td>Jumanji (1995)</td>\n",
       "      <td>Adventure|Children's|Fantasy</td>\n",
       "    </tr>\n",
       "    <tr>\n",
       "      <th>2</th>\n",
       "      <td>3</td>\n",
       "      <td>Grumpier Old Men (1995)</td>\n",
       "      <td>Comedy|Romance</td>\n",
       "    </tr>\n",
       "    <tr>\n",
       "      <th>3</th>\n",
       "      <td>4</td>\n",
       "      <td>Waiting to Exhale (1995)</td>\n",
       "      <td>Comedy|Drama</td>\n",
       "    </tr>\n",
       "    <tr>\n",
       "      <th>4</th>\n",
       "      <td>5</td>\n",
       "      <td>Father of the Bride Part II (1995)</td>\n",
       "      <td>Comedy</td>\n",
       "    </tr>\n",
       "    <tr>\n",
       "      <th>5</th>\n",
       "      <td>6</td>\n",
       "      <td>Heat (1995)</td>\n",
       "      <td>Action|Crime|Thriller</td>\n",
       "    </tr>\n",
       "    <tr>\n",
       "      <th>6</th>\n",
       "      <td>7</td>\n",
       "      <td>Sabrina (1995)</td>\n",
       "      <td>Comedy|Romance</td>\n",
       "    </tr>\n",
       "    <tr>\n",
       "      <th>7</th>\n",
       "      <td>8</td>\n",
       "      <td>Tom and Huck (1995)</td>\n",
       "      <td>Adventure|Children's</td>\n",
       "    </tr>\n",
       "    <tr>\n",
       "      <th>8</th>\n",
       "      <td>9</td>\n",
       "      <td>Sudden Death (1995)</td>\n",
       "      <td>Action</td>\n",
       "    </tr>\n",
       "    <tr>\n",
       "      <th>9</th>\n",
       "      <td>10</td>\n",
       "      <td>GoldenEye (1995)</td>\n",
       "      <td>Action|Adventure|Thriller</td>\n",
       "    </tr>\n",
       "  </tbody>\n",
       "</table>\n",
       "</div>"
      ],
      "text/plain": [
       "   movie_id                               title                        genres\n",
       "0         1                    Toy Story (1995)   Animation|Children's|Comedy\n",
       "1         2                      Jumanji (1995)  Adventure|Children's|Fantasy\n",
       "2         3             Grumpier Old Men (1995)                Comedy|Romance\n",
       "3         4            Waiting to Exhale (1995)                  Comedy|Drama\n",
       "4         5  Father of the Bride Part II (1995)                        Comedy\n",
       "5         6                         Heat (1995)         Action|Crime|Thriller\n",
       "6         7                      Sabrina (1995)                Comedy|Romance\n",
       "7         8                 Tom and Huck (1995)          Adventure|Children's\n",
       "8         9                 Sudden Death (1995)                        Action\n",
       "9        10                    GoldenEye (1995)     Action|Adventure|Thriller"
      ]
     },
     "execution_count": 4,
     "metadata": {},
     "output_type": "execute_result"
    }
   ],
   "source": [
    "In [121]: mnames = [\"movie_id\", \"title\", \"genres\"]\n",
    "\n",
    "In [122]: movies = pd.read_table(\"examples/movies.dat\", sep=\"::\",\n",
    "   .....:                        header=None, names=mnames, engine=\"python\")\n",
    "\n",
    "In [123]: movies[:10]\n"
   ]
  },
  {
   "cell_type": "code",
   "execution_count": null,
   "id": "7a525d75-f8e9-4608-af31-f4871db730d0",
   "metadata": {},
   "outputs": [],
   "source": [
    "In [124]: dummies = movies[\"genres\"].str.get_dummies(\"|\")\n",
    "\n",
    "In [125]: dummies.iloc[:10, :6]"
   ]
  },
  {
   "cell_type": "code",
   "execution_count": null,
   "id": "377eeb8a-df94-4b9c-8595-64c9db040781",
   "metadata": {},
   "outputs": [],
   "source": [
    "In [126]: movies_windic = movies.join(dummies.add_prefix(\"Genre_\"))\n",
    "\n",
    "In [127]: movies_windic.iloc[0]"
   ]
  },
  {
   "cell_type": "code",
   "execution_count": null,
   "id": "4c2aeb21-c892-40fc-88e8-62b54415db48",
   "metadata": {},
   "outputs": [],
   "source": [
    "In [128]: np.random.seed(12345) # to make the example repeatable\n",
    "\n",
    "In [129]: values = np.random.uniform(size=10)\n",
    "\n",
    "In [130]: values"
   ]
  },
  {
   "cell_type": "code",
   "execution_count": null,
   "id": "ad670ce7-a4cb-467d-b173-f01699ea2062",
   "metadata": {},
   "outputs": [],
   "source": [
    "In [131]: bins = [0, 0.2, 0.4, 0.6, 0.8, 1]\n",
    "\n",
    "In [132]: pd.get_dummies(pd.cut(values, bins))"
   ]
  },
  {
   "cell_type": "code",
   "execution_count": null,
   "id": "2289ef20-490d-4f10-a106-9222078a7afd",
   "metadata": {},
   "outputs": [],
   "source": []
  },
  {
   "cell_type": "code",
   "execution_count": null,
   "id": "44355739-5034-4b13-bc6d-178c7a5954e8",
   "metadata": {},
   "outputs": [],
   "source": [
    "# 7.3 Extension Data Types"
   ]
  },
  {
   "cell_type": "code",
   "execution_count": null,
   "id": "d1fe5440-20f9-4e90-b78f-5b27527c8119",
   "metadata": {},
   "outputs": [],
   "source": [
    "In [133]: s = pd.Series([1, 2, 3, None])\n",
    "\n",
    "In [134]: s"
   ]
  },
  {
   "cell_type": "code",
   "execution_count": null,
   "id": "01520ada-f603-47be-9b51-3b0f0b07811b",
   "metadata": {},
   "outputs": [],
   "source": [
    "In [135]: s.dtype"
   ]
  },
  {
   "cell_type": "code",
   "execution_count": null,
   "id": "6bbab2d3-9dc8-4643-add8-1c596b313c16",
   "metadata": {},
   "outputs": [],
   "source": [
    "In [136]: s = pd.Series([1, 2, 3, None], dtype=pd.Int64Dtype())\n",
    "\n",
    "In [137]: s"
   ]
  },
  {
   "cell_type": "code",
   "execution_count": null,
   "id": "af6d9330-bf12-4fae-9a1b-0d0024ae7c07",
   "metadata": {},
   "outputs": [],
   "source": [
    "In [138]: s.isna()"
   ]
  },
  {
   "cell_type": "code",
   "execution_count": null,
   "id": "42259837-4eaf-4968-90fa-1780c28fff1f",
   "metadata": {},
   "outputs": [],
   "source": [
    "In [139]: s.dtype"
   ]
  },
  {
   "cell_type": "code",
   "execution_count": null,
   "id": "bed37d68-a917-42c2-bf0c-02b3e0207b25",
   "metadata": {},
   "outputs": [],
   "source": [
    "In [140]: s[3]"
   ]
  },
  {
   "cell_type": "code",
   "execution_count": null,
   "id": "b8ee347f-ea57-4577-bd49-4154f21d98a5",
   "metadata": {},
   "outputs": [],
   "source": [
    "In [141]: s[3] is pd.NA"
   ]
  },
  {
   "cell_type": "code",
   "execution_count": null,
   "id": "ea962d13-63c1-4e2e-8f7d-40f8f6ed82ab",
   "metadata": {},
   "outputs": [],
   "source": [
    "In [142]: s = pd.Series([1, 2, 3, None], dtype=\"Int64\")"
   ]
  },
  {
   "cell_type": "code",
   "execution_count": null,
   "id": "97da0b98-a576-4bee-9fa7-4ee6a8b83af9",
   "metadata": {},
   "outputs": [],
   "source": [
    "In [143]: s = pd.Series(['one', 'two', None, 'three'], dtype=pd.StringDtype())\n",
    "\n",
    "In [144]: s"
   ]
  },
  {
   "cell_type": "code",
   "execution_count": null,
   "id": "7807a8ed-0d17-4395-9c86-1a52348c6c3d",
   "metadata": {},
   "outputs": [],
   "source": [
    "In [145]: df = pd.DataFrame({\"A\": [1, 2, None, 4],\n",
    "   .....:                    \"B\": [\"one\", \"two\", \"three\", None],\n",
    "   .....:                    \"C\": [False, None, False, True]})\n",
    "\n",
    "In [146]: df"
   ]
  },
  {
   "cell_type": "code",
   "execution_count": null,
   "id": "012e79aa-7a15-479c-92fb-2c8b4fe1b1fb",
   "metadata": {},
   "outputs": [],
   "source": [
    "In [147]: df[\"A\"] = df[\"A\"].astype(\"Int64\")\n",
    "\n",
    "In [148]: df[\"B\"] = df[\"B\"].astype(\"string\")\n",
    "\n",
    "In [149]: df[\"C\"] = df[\"C\"].astype(\"boolean\")\n",
    "\n",
    "In [150]: df"
   ]
  },
  {
   "cell_type": "code",
   "execution_count": null,
   "id": "f153242e-d963-486c-a354-6b9b731b7b0f",
   "metadata": {},
   "outputs": [],
   "source": []
  },
  {
   "cell_type": "code",
   "execution_count": null,
   "id": "724ddc5a-04ea-4b75-8dc7-a197aad329b9",
   "metadata": {},
   "outputs": [],
   "source": [
    "# 7.4 String Manipulation"
   ]
  },
  {
   "cell_type": "code",
   "execution_count": null,
   "id": "1dff6e48-7a85-443d-96bc-05f89586b27c",
   "metadata": {},
   "outputs": [],
   "source": [
    "In [151]: val = \"a,b,  guido\"\n",
    "\n",
    "In [152]: val.split(\",\")"
   ]
  },
  {
   "cell_type": "code",
   "execution_count": null,
   "id": "3474947a-1b7e-4559-b21c-b329c78eaec3",
   "metadata": {},
   "outputs": [],
   "source": [
    "In [153]: pieces = [x.strip() for x in val.split(\",\")]\n",
    "\n",
    "In [154]: pieces"
   ]
  },
  {
   "cell_type": "code",
   "execution_count": null,
   "id": "41edee8a-bfaf-4913-9675-ef14e1678836",
   "metadata": {},
   "outputs": [],
   "source": [
    "In [155]: first, second, third = pieces\n",
    "\n",
    "In [156]: first + \"::\" + second + \"::\" + third"
   ]
  },
  {
   "cell_type": "code",
   "execution_count": null,
   "id": "071c3375-43ea-45f9-add6-ff53bdd45cc3",
   "metadata": {},
   "outputs": [],
   "source": [
    "In [157]: \"::\".join(pieces)"
   ]
  },
  {
   "cell_type": "code",
   "execution_count": null,
   "id": "a985d78a-7bb3-4d6a-8a21-4f0f409efd27",
   "metadata": {},
   "outputs": [],
   "source": [
    "In [158]: \"guido\" in val"
   ]
  },
  {
   "cell_type": "code",
   "execution_count": null,
   "id": "163ac3ec-edf9-45d9-868c-45773167f877",
   "metadata": {},
   "outputs": [],
   "source": [
    "In [159]: val.index(\",\")"
   ]
  },
  {
   "cell_type": "code",
   "execution_count": null,
   "id": "19202466-b40c-4740-9e84-2b62b19f515b",
   "metadata": {},
   "outputs": [],
   "source": [
    "In [160]: val.find(\":\")"
   ]
  },
  {
   "cell_type": "code",
   "execution_count": null,
   "id": "ad402b12-42fa-4f3f-93e9-8c5bc2d9003f",
   "metadata": {},
   "outputs": [],
   "source": [
    "In [161]: val.index(\":\")"
   ]
  },
  {
   "cell_type": "code",
   "execution_count": null,
   "id": "2afd7f67-ab28-4484-9923-53a2c9f72b60",
   "metadata": {},
   "outputs": [],
   "source": [
    "In [162]: val.count(\",\")"
   ]
  },
  {
   "cell_type": "code",
   "execution_count": null,
   "id": "072a30e6-0c9e-4d46-83c3-655850e80bd8",
   "metadata": {},
   "outputs": [],
   "source": [
    "In [163]: val.replace(\",\", \"::\")"
   ]
  },
  {
   "cell_type": "code",
   "execution_count": null,
   "id": "0e9927e9-ed30-4ba0-aebc-6573de5e57a8",
   "metadata": {},
   "outputs": [],
   "source": [
    "In [164]: val.replace(\",\", \"\")"
   ]
  },
  {
   "cell_type": "code",
   "execution_count": null,
   "id": "204c20e6-e653-48e7-8d4a-8773fe5c23d5",
   "metadata": {},
   "outputs": [],
   "source": [
    "In [165]: import re\n",
    "\n",
    "In [166]: text = \"foo    bar\\t baz  \\tqux\"\n",
    "\n",
    "In [167]: re.split(r\"\\s+\", text)"
   ]
  },
  {
   "cell_type": "code",
   "execution_count": null,
   "id": "e9befc1d-7315-46ff-91cb-6c16885e0581",
   "metadata": {},
   "outputs": [],
   "source": [
    "In [168]: regex = re.compile(r\"\\s+\")\n",
    "\n",
    "In [169]: regex.split(text)"
   ]
  },
  {
   "cell_type": "code",
   "execution_count": null,
   "id": "f10a809d-b51e-4a11-8fab-aa09365c713d",
   "metadata": {},
   "outputs": [],
   "source": [
    "In [170]: regex.findall(text)"
   ]
  },
  {
   "cell_type": "code",
   "execution_count": null,
   "id": "a583ab9d-9a75-4653-98a0-350817dd1ba9",
   "metadata": {},
   "outputs": [],
   "source": [
    "text = \"\"\"Dave dave@google.com\n",
    "Steve steve@gmail.com\n",
    "Rob rob@gmail.com\n",
    "Ryan ryan@yahoo.com\"\"\"\n",
    "pattern = r\"[A-Z0-9._%+-]+@[A-Z0-9.-]+\\.[A-Z]{2,4}\"\n",
    "\n",
    "# re.IGNORECASE makes the regex case insensitive\n",
    "regex = re.compile(pattern, flags=re.IGNORECASE)"
   ]
  },
  {
   "cell_type": "code",
   "execution_count": null,
   "id": "e7e4804d-643a-454a-a0e3-6118836b3417",
   "metadata": {},
   "outputs": [],
   "source": [
    "In [172]: regex.findall(text)"
   ]
  },
  {
   "cell_type": "code",
   "execution_count": null,
   "id": "afcb7277-421c-49c6-9a19-1a6a347aba75",
   "metadata": {},
   "outputs": [],
   "source": [
    "In [173]: m = regex.search(text)\n",
    "\n",
    "In [174]: m"
   ]
  },
  {
   "cell_type": "code",
   "execution_count": null,
   "id": "bf935be8-76f7-4fc3-a016-62239608ad38",
   "metadata": {},
   "outputs": [],
   "source": [
    "In [175]: text[m.start():m.end()]"
   ]
  },
  {
   "cell_type": "code",
   "execution_count": null,
   "id": "eedd09ce-b85e-4e00-9b09-bb16861ed2ac",
   "metadata": {},
   "outputs": [],
   "source": [
    "In [176]: print(regex.match(text))"
   ]
  },
  {
   "cell_type": "code",
   "execution_count": null,
   "id": "f253fedb-fa5d-47bf-8be6-968a510bab9c",
   "metadata": {},
   "outputs": [],
   "source": [
    "In [177]: print(regex.sub(\"REDACTED\", text))"
   ]
  },
  {
   "cell_type": "code",
   "execution_count": null,
   "id": "19986f8a-576c-40f3-934f-1878143a7378",
   "metadata": {},
   "outputs": [],
   "source": [
    "In [178]: pattern = r\"([A-Z0-9._%+-]+)@([A-Z0-9.-]+)\\.([A-Z]{2,4})\"\n",
    "\n",
    "In [179]: regex = re.compile(pattern, flags=re.IGNORECASE)"
   ]
  },
  {
   "cell_type": "code",
   "execution_count": null,
   "id": "f8342ab0-f8d4-41ad-b9db-9a47cff23c52",
   "metadata": {},
   "outputs": [],
   "source": [
    "In [180]: m = regex.match(\"wesm@bright.net\")\n",
    "\n",
    "In [181]: m.groups()"
   ]
  },
  {
   "cell_type": "code",
   "execution_count": null,
   "id": "350a6199-e073-4512-8551-51e8e5145968",
   "metadata": {},
   "outputs": [],
   "source": [
    "In [182]: regex.findall(text)"
   ]
  },
  {
   "cell_type": "code",
   "execution_count": null,
   "id": "31186e7b-a3c4-4d61-a6b2-e7e11d21fade",
   "metadata": {},
   "outputs": [],
   "source": [
    "In [183]: print(regex.sub(r\"Username: \\1, Domain: \\2, Suffix: \\3\", text))"
   ]
  },
  {
   "cell_type": "code",
   "execution_count": null,
   "id": "fff02779-9153-4618-9043-c34a7e9eef7f",
   "metadata": {},
   "outputs": [],
   "source": [
    "In [184]: data = {\"Dave\": \"dave@google.com\", \"Steve\": \"steve@gmail.com\",\n",
    "   .....:         \"Rob\": \"rob@gmail.com\", \"Wes\": np.nan}\n",
    "\n",
    "In [185]: data = pd.Series(data)\n",
    "\n",
    "In [186]: data"
   ]
  },
  {
   "cell_type": "code",
   "execution_count": null,
   "id": "ab23ec50-27bf-433e-8745-ac111b87f81a",
   "metadata": {},
   "outputs": [],
   "source": [
    "In [187]: data.isna()"
   ]
  },
  {
   "cell_type": "code",
   "execution_count": null,
   "id": "b8aa410e-ef9e-493f-b42a-9c27ab481ba7",
   "metadata": {},
   "outputs": [],
   "source": [
    "In [188]: data.str.contains(\"gmail\")"
   ]
  },
  {
   "cell_type": "code",
   "execution_count": null,
   "id": "4ee1de6c-b0dc-4d49-b563-7c9db31dd839",
   "metadata": {},
   "outputs": [],
   "source": [
    "In [189]: data_as_string_ext = data.astype('string')\n",
    "\n",
    "In [190]: data_as_string_ext"
   ]
  },
  {
   "cell_type": "code",
   "execution_count": null,
   "id": "5edd8544-3845-4122-b12d-9cf249c70cfc",
   "metadata": {},
   "outputs": [],
   "source": [
    "In [191]: data_as_string_ext.str.contains(\"gmail\")"
   ]
  },
  {
   "cell_type": "code",
   "execution_count": null,
   "id": "3212dcd3-bc6b-4d3f-b1f6-1770a557f260",
   "metadata": {},
   "outputs": [],
   "source": [
    "In [192]: pattern = r\"([A-Z0-9._%+-]+)@([A-Z0-9.-]+)\\.([A-Z]{2,4})\"\n",
    "\n",
    "In [193]: data.str.findall(pattern, flags=re.IGNORECASE)"
   ]
  },
  {
   "cell_type": "code",
   "execution_count": null,
   "id": "3e411678-e976-4c02-ba60-5e85aeaabd9f",
   "metadata": {},
   "outputs": [],
   "source": [
    "In [194]: matches = data.str.findall(pattern, flags=re.IGNORECASE).str[0]\n",
    "\n",
    "In [195]: matches"
   ]
  },
  {
   "cell_type": "code",
   "execution_count": null,
   "id": "f1764c74-eae2-49af-ad95-c9ec38b20e3e",
   "metadata": {},
   "outputs": [],
   "source": [
    "In [196]: matches.str.get(1)"
   ]
  },
  {
   "cell_type": "code",
   "execution_count": null,
   "id": "0d00faab-67a4-41e4-9fac-1200ef8c6eb8",
   "metadata": {},
   "outputs": [],
   "source": [
    "In [197]: data.str[:5]"
   ]
  },
  {
   "cell_type": "code",
   "execution_count": null,
   "id": "e6171759-876e-4a4c-8155-3cb9277b6248",
   "metadata": {},
   "outputs": [],
   "source": [
    "In [198]: data.str.extract(pattern, flags=re.IGNORECASE)"
   ]
  },
  {
   "cell_type": "code",
   "execution_count": null,
   "id": "1c9b419c-8747-4b7d-ba6e-21b2aa370d69",
   "metadata": {},
   "outputs": [],
   "source": []
  },
  {
   "cell_type": "code",
   "execution_count": null,
   "id": "91bbdd10-b25d-4437-8925-81504d0cee8a",
   "metadata": {},
   "outputs": [],
   "source": [
    "# 7.5 Categorical Data"
   ]
  },
  {
   "cell_type": "code",
   "execution_count": null,
   "id": "acaac5cf-5583-4808-925f-c6f0ccb705da",
   "metadata": {},
   "outputs": [],
   "source": [
    "In [199]: values = pd.Series(['apple', 'orange', 'apple',\n",
    "   .....:                     'apple'] * 2)\n",
    "\n",
    "In [200]: values"
   ]
  },
  {
   "cell_type": "code",
   "execution_count": null,
   "id": "21cc6fdd-aa43-487c-87d3-0877d6a87900",
   "metadata": {},
   "outputs": [],
   "source": [
    "In [201]: pd.unique(values)"
   ]
  },
  {
   "cell_type": "code",
   "execution_count": null,
   "id": "de172c56-bdb3-4e08-adee-0a0fedce1a44",
   "metadata": {},
   "outputs": [],
   "source": [
    "In [202]: pd.value_counts(values)"
   ]
  },
  {
   "cell_type": "code",
   "execution_count": null,
   "id": "e803d7f0-b387-4c05-b2a2-bd2a89823ad5",
   "metadata": {},
   "outputs": [],
   "source": [
    "In [203]: values = pd.Series([0, 1, 0, 0] * 2)\n",
    "\n",
    "In [204]: dim = pd.Series(['apple', 'orange'])\n",
    "\n",
    "In [205]: values"
   ]
  },
  {
   "cell_type": "code",
   "execution_count": null,
   "id": "e5c46756-c0a0-4495-8ee5-72260eab3c06",
   "metadata": {},
   "outputs": [],
   "source": [
    "In [206]: dim"
   ]
  },
  {
   "cell_type": "code",
   "execution_count": null,
   "id": "c15d26ba-eb95-4868-8807-fe03b37b3a48",
   "metadata": {},
   "outputs": [],
   "source": [
    "In [207]: dim.take(values)"
   ]
  },
  {
   "cell_type": "code",
   "execution_count": null,
   "id": "95bd3e86-469b-4c44-89c2-45ddd0649907",
   "metadata": {},
   "outputs": [],
   "source": [
    "In [208]: fruits = ['apple', 'orange', 'apple', 'apple'] * 2\n",
    "\n",
    "In [209]: N = len(fruits)\n",
    "\n",
    "In [210]: rng = np.random.default_rng(seed=12345)\n",
    "\n",
    "In [211]: df = pd.DataFrame({'fruit': fruits,\n",
    "   .....:                    'basket_id': np.arange(N),\n",
    "   .....:                    'count': rng.integers(3, 15, size=N),\n",
    "   .....:                    'weight': rng.uniform(0, 4, size=N)},\n",
    "   .....:                   columns=['basket_id', 'fruit', 'count', 'weight'])\n",
    "\n",
    "In [212]: df"
   ]
  },
  {
   "cell_type": "code",
   "execution_count": null,
   "id": "065f3c2f-3f66-4717-9dd2-e53ac8a2ef3a",
   "metadata": {},
   "outputs": [],
   "source": [
    "In [213]: fruit_cat = df['fruit'].astype('category')\n",
    "\n",
    "In [214]: fruit_cat"
   ]
  },
  {
   "cell_type": "code",
   "execution_count": null,
   "id": "4d22f29b-3c9e-423e-a37e-565ba80a9430",
   "metadata": {},
   "outputs": [],
   "source": [
    "In [215]: c = fruit_cat.array\n",
    "\n",
    "In [216]: type(c)"
   ]
  },
  {
   "cell_type": "code",
   "execution_count": null,
   "id": "78320f4a-2a2f-4efe-ad6d-95032157f283",
   "metadata": {},
   "outputs": [],
   "source": [
    "In [217]: c.categories"
   ]
  },
  {
   "cell_type": "code",
   "execution_count": null,
   "id": "3640a111-058e-45af-bcb6-7b5cc16732e3",
   "metadata": {},
   "outputs": [],
   "source": [
    "In [219]: dict(enumerate(c.categories))"
   ]
  },
  {
   "cell_type": "code",
   "execution_count": null,
   "id": "ef889d7e-d86c-46fe-b894-2095e4b90714",
   "metadata": {},
   "outputs": [],
   "source": [
    "In [220]: df['fruit'] = df['fruit'].astype('category')\n",
    "\n",
    "In [221]: df[\"fruit\"]"
   ]
  },
  {
   "cell_type": "code",
   "execution_count": null,
   "id": "59343572-78ef-430a-92eb-576cc61357bc",
   "metadata": {},
   "outputs": [],
   "source": [
    "In [222]: my_categories = pd.Categorical(['foo', 'bar', 'baz', 'foo', 'bar'])\n",
    "\n",
    "In [223]: my_categories"
   ]
  },
  {
   "cell_type": "code",
   "execution_count": null,
   "id": "e1c56eb7-dd90-4f30-9386-3a5bceadcdfb",
   "metadata": {},
   "outputs": [],
   "source": [
    "In [224]: categories = ['foo', 'bar', 'baz']\n",
    "\n",
    "In [225]: codes = [0, 1, 2, 0, 0, 1]\n",
    "\n",
    "In [226]: my_cats_2 = pd.Categorical.from_codes(codes, categories)\n",
    "\n",
    "In [227]: my_cats_2"
   ]
  },
  {
   "cell_type": "code",
   "execution_count": null,
   "id": "7f7dcbd5-82a5-402b-ac24-9fbb3b6923ff",
   "metadata": {},
   "outputs": [],
   "source": [
    "In [228]: ordered_cat = pd.Categorical.from_codes(codes, categories,\n",
    "   .....:                                         ordered=True)\n",
    "\n",
    "In [229]: ordered_cat"
   ]
  },
  {
   "cell_type": "code",
   "execution_count": null,
   "id": "dac33cd6-0fb6-4124-800c-03d6fb4f9adc",
   "metadata": {},
   "outputs": [],
   "source": [
    "In [230]: my_cats_2.as_ordered()"
   ]
  },
  {
   "cell_type": "code",
   "execution_count": null,
   "id": "3056fa81-e466-4dd3-8af9-c153d6d1363a",
   "metadata": {},
   "outputs": [],
   "source": [
    "In [231]: rng = np.random.default_rng(seed=12345)\n",
    "\n",
    "In [232]: draws = rng.standard_normal(1000)\n",
    "\n",
    "In [233]: draws[:5]"
   ]
  },
  {
   "cell_type": "code",
   "execution_count": null,
   "id": "63bc3ba1-5f49-46af-8158-650b1e08a871",
   "metadata": {},
   "outputs": [],
   "source": [
    "In [234]: bins = pd.qcut(draws, 4)\n",
    "\n",
    "In [235]: bins"
   ]
  },
  {
   "cell_type": "code",
   "execution_count": null,
   "id": "6b79423f-7755-40b0-9e54-44785b7fd19d",
   "metadata": {},
   "outputs": [],
   "source": [
    "In [236]: bins = pd.qcut(draws, 4, labels=['Q1', 'Q2', 'Q3', 'Q4'])\n",
    "\n",
    "In [237]: bins"
   ]
  },
  {
   "cell_type": "code",
   "execution_count": null,
   "id": "8313db15-deee-4943-b39f-62e90b19f087",
   "metadata": {},
   "outputs": [],
   "source": [
    "In [238]: bins.codes[:10]"
   ]
  },
  {
   "cell_type": "code",
   "execution_count": null,
   "id": "1bf52021-ab6e-4384-a136-53964814219b",
   "metadata": {},
   "outputs": [],
   "source": [
    "In [239]: bins = pd.Series(bins, name='quartile')\n",
    "\n",
    "In [240]: results = (pd.Series(draws)\n",
    "   .....:            .groupby(bins)\n",
    "   .....:            .agg(['count', 'min', 'max'])\n",
    "   .....:            .reset_index())\n",
    "\n",
    "In [241]: results"
   ]
  },
  {
   "cell_type": "code",
   "execution_count": null,
   "id": "d80437c1-b9d1-4882-a4d6-c0ff79b27bf3",
   "metadata": {},
   "outputs": [],
   "source": [
    "In [242]: results['quartile']"
   ]
  },
  {
   "cell_type": "code",
   "execution_count": null,
   "id": "6248a4d2-2b44-4468-ba37-081ea529bd23",
   "metadata": {},
   "outputs": [],
   "source": [
    "In [243]: N = 10_000_000\n",
    "\n",
    "In [244]: labels = pd.Series(['foo', 'bar', 'baz', 'qux'] * (N // 4))\n",
    "\n",
    "In [245]: categories = labels.astype('category')"
   ]
  },
  {
   "cell_type": "code",
   "execution_count": null,
   "id": "453fd6da-690a-4811-a58d-151bb689e1bb",
   "metadata": {},
   "outputs": [],
   "source": [
    "In [246]: labels.memory_usage(deep=True)"
   ]
  },
  {
   "cell_type": "code",
   "execution_count": null,
   "id": "2af69c01-31e4-4ec7-8d65-28ebae73c2ad",
   "metadata": {},
   "outputs": [],
   "source": [
    "In [247]: categories.memory_usage(deep=True)"
   ]
  },
  {
   "cell_type": "code",
   "execution_count": null,
   "id": "cce8a8a7-f0e6-46d6-8d61-8f0c62f34c84",
   "metadata": {},
   "outputs": [],
   "source": [
    "In [248]: %time _ = labels.astype('category')"
   ]
  },
  {
   "cell_type": "code",
   "execution_count": null,
   "id": "54492a6a-6af1-4601-89a9-714ea0b0af01",
   "metadata": {},
   "outputs": [],
   "source": [
    "In [249]: %timeit labels.value_counts()"
   ]
  },
  {
   "cell_type": "code",
   "execution_count": null,
   "id": "7c3d09ef-9f39-4b0a-857a-fde2ed4f6b7c",
   "metadata": {},
   "outputs": [],
   "source": [
    "In [250]: %timeit categories.value_counts()"
   ]
  },
  {
   "cell_type": "code",
   "execution_count": null,
   "id": "3f5020f8-e686-471d-9fc4-d2cd24c90a6a",
   "metadata": {},
   "outputs": [],
   "source": [
    "In [251]: s = pd.Series(['a', 'b', 'c', 'd'] * 2)\n",
    "\n",
    "In [252]: cat_s = s.astype('category')\n",
    "\n",
    "In [253]: cat_s"
   ]
  },
  {
   "cell_type": "code",
   "execution_count": null,
   "id": "74801269-27c8-4675-8ad1-69ce1c243fd5",
   "metadata": {},
   "outputs": [],
   "source": [
    "In [254]: cat_s.cat.codes"
   ]
  },
  {
   "cell_type": "code",
   "execution_count": null,
   "id": "8f283e0f-42f4-4b7e-a152-b09c1f3b0746",
   "metadata": {},
   "outputs": [],
   "source": [
    "In [255]: cat_s.cat.categories"
   ]
  },
  {
   "cell_type": "code",
   "execution_count": null,
   "id": "9cc5ca3d-7843-455c-808f-44a704f47e21",
   "metadata": {},
   "outputs": [],
   "source": [
    "In [256]: actual_categories = ['a', 'b', 'c', 'd', 'e']\n",
    "\n",
    "In [257]: cat_s2 = cat_s.cat.set_categories(actual_categories)\n",
    "\n",
    "In [258]: cat_s2"
   ]
  },
  {
   "cell_type": "code",
   "execution_count": null,
   "id": "01f33ed4-fd8f-42bb-b190-054485bd62f5",
   "metadata": {},
   "outputs": [],
   "source": [
    "In [259]: cat_s.value_counts()"
   ]
  },
  {
   "cell_type": "code",
   "execution_count": null,
   "id": "4f859165-ded9-4924-8afa-50c16dd03623",
   "metadata": {},
   "outputs": [],
   "source": [
    "In [260]: cat_s2.value_counts()"
   ]
  },
  {
   "cell_type": "code",
   "execution_count": null,
   "id": "f8ab4e83-f6a6-448b-a923-9a2a8b47cdb6",
   "metadata": {},
   "outputs": [],
   "source": [
    "In [261]: cat_s3 = cat_s[cat_s.isin(['a', 'b'])]\n",
    "\n",
    "In [262]: cat_s3"
   ]
  },
  {
   "cell_type": "code",
   "execution_count": null,
   "id": "43c4a422-026f-4ba4-afe4-549bb6d84d6a",
   "metadata": {},
   "outputs": [],
   "source": [
    "In [263]: cat_s3.cat.remove_unused_categories()"
   ]
  },
  {
   "cell_type": "code",
   "execution_count": null,
   "id": "6a68d497-4c1b-4131-ad0e-d62940308952",
   "metadata": {},
   "outputs": [],
   "source": [
    "In [264]: cat_s = pd.Series(['a', 'b', 'c', 'd'] * 2, dtype='category')"
   ]
  },
  {
   "cell_type": "code",
   "execution_count": null,
   "id": "4c4f0c85-a64a-4af0-a3bf-b14e2202f1a3",
   "metadata": {},
   "outputs": [],
   "source": [
    "In [265]: pd.get_dummies(cat_s, dtype=float)"
   ]
  },
  {
   "cell_type": "code",
   "execution_count": null,
   "id": "5c4e71c1-26de-435e-87db-6414caa3e1e7",
   "metadata": {},
   "outputs": [],
   "source": []
  },
  {
   "cell_type": "code",
   "execution_count": null,
   "id": "a9a2ce56-7eab-4e95-b169-5e60c825ee28",
   "metadata": {},
   "outputs": [],
   "source": []
  }
 ],
 "metadata": {
  "kernelspec": {
   "display_name": "Python 3 (ipykernel)",
   "language": "python",
   "name": "python3"
  },
  "language_info": {
   "codemirror_mode": {
    "name": "ipython",
    "version": 3
   },
   "file_extension": ".py",
   "mimetype": "text/x-python",
   "name": "python",
   "nbconvert_exporter": "python",
   "pygments_lexer": "ipython3",
   "version": "3.12.5"
  }
 },
 "nbformat": 4,
 "nbformat_minor": 5
}
