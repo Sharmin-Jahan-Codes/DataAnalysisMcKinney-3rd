{
 "cells": [
  {
   "cell_type": "code",
   "execution_count": 2,
   "id": "220890b3-5a99-4892-a955-4eb2f339ae34",
   "metadata": {},
   "outputs": [],
   "source": [
    "# 4.1 The NumPy ndarray: A Multidimensional Array Object\n"
   ]
  },
  {
   "cell_type": "code",
   "execution_count": null,
   "id": "58ee2dde-732a-49a8-8bae-0ad061b4fc93",
   "metadata": {},
   "outputs": [],
   "source": [
    "In [7]: import numpy as np"
   ]
  },
  {
   "cell_type": "code",
   "execution_count": 3,
   "id": "2ae6020a-c4b7-421e-ac47-4333c54a5263",
   "metadata": {},
   "outputs": [],
   "source": [
    "In [8]: my_arr = np.arange(1_000_000)"
   ]
  },
  {
   "cell_type": "code",
   "execution_count": 4,
   "id": "6ac56dc6-dbe7-4cf9-8ebc-e671bb5c2cb8",
   "metadata": {},
   "outputs": [],
   "source": [
    "In [9]: my_list = list(range(1_000_000))"
   ]
  },
  {
   "cell_type": "code",
   "execution_count": 7,
   "id": "6e17e94d-4bb7-4713-a9c9-90a8207be873",
   "metadata": {},
   "outputs": [
    {
     "name": "stdout",
     "output_type": "stream",
     "text": [
      "763 μs ± 14.2 μs per loop (mean ± std. dev. of 7 runs, 1,000 loops each)\n"
     ]
    }
   ],
   "source": [
    "In [10]: %timeit my_arr2 = my_arr * 2"
   ]
  },
  {
   "cell_type": "code",
   "execution_count": 8,
   "id": "70bed9c4-23c0-41bf-9baa-3ba6e3ff6fed",
   "metadata": {},
   "outputs": [
    {
     "name": "stdout",
     "output_type": "stream",
     "text": [
      "25.1 ms ± 616 μs per loop (mean ± std. dev. of 7 runs, 10 loops each)\n"
     ]
    }
   ],
   "source": [
    "In [11]: %timeit my_list2 = [x * 2 for x in my_list]"
   ]
  },
  {
   "cell_type": "code",
   "execution_count": 9,
   "id": "ec77a082-e8fe-48fe-af3f-f3a2a8c7cbdd",
   "metadata": {},
   "outputs": [],
   "source": [
    "In [12]: import numpy as np"
   ]
  },
  {
   "cell_type": "code",
   "execution_count": 10,
   "id": "117fd6f2-dcd9-424b-8931-2e635fb27417",
   "metadata": {},
   "outputs": [],
   "source": [
    "In [13]: data = np.array([[1.5, -0.1, 3], [0, -3, 6.5]])"
   ]
  },
  {
   "cell_type": "code",
   "execution_count": 11,
   "id": "5aa038a8-a136-44e2-ba55-6793bdaa31d5",
   "metadata": {},
   "outputs": [
    {
     "data": {
      "text/plain": [
       "array([[ 1.5, -0.1,  3. ],\n",
       "       [ 0. , -3. ,  6.5]])"
      ]
     },
     "execution_count": 11,
     "metadata": {},
     "output_type": "execute_result"
    }
   ],
   "source": [
    "In [14]: data"
   ]
  },
  {
   "cell_type": "code",
   "execution_count": 12,
   "id": "a926c08c-76b6-4f20-b5ac-ce97a319d974",
   "metadata": {},
   "outputs": [
    {
     "data": {
      "text/plain": [
       "array([[ 15.,  -1.,  30.],\n",
       "       [  0., -30.,  65.]])"
      ]
     },
     "execution_count": 12,
     "metadata": {},
     "output_type": "execute_result"
    }
   ],
   "source": [
    "In [15]: data * 10"
   ]
  },
  {
   "cell_type": "code",
   "execution_count": 13,
   "id": "07cf1c97-d89c-4205-98bb-e13ea43b6145",
   "metadata": {},
   "outputs": [
    {
     "data": {
      "text/plain": [
       "array([[ 3. , -0.2,  6. ],\n",
       "       [ 0. , -6. , 13. ]])"
      ]
     },
     "execution_count": 13,
     "metadata": {},
     "output_type": "execute_result"
    }
   ],
   "source": [
    "In [16]: data + data"
   ]
  },
  {
   "cell_type": "code",
   "execution_count": 14,
   "id": "d2dd6dbc-6b03-432d-b52b-5b1482769c2b",
   "metadata": {},
   "outputs": [
    {
     "data": {
      "text/plain": [
       "(2, 3)"
      ]
     },
     "execution_count": 14,
     "metadata": {},
     "output_type": "execute_result"
    }
   ],
   "source": [
    "In [17]: data.shape"
   ]
  },
  {
   "cell_type": "code",
   "execution_count": 15,
   "id": "ab5672d3-fe52-43fd-8b37-eee27159bb2e",
   "metadata": {},
   "outputs": [
    {
     "data": {
      "text/plain": [
       "dtype('float64')"
      ]
     },
     "execution_count": 15,
     "metadata": {},
     "output_type": "execute_result"
    }
   ],
   "source": [
    "In [18]: data.dtype"
   ]
  },
  {
   "cell_type": "code",
   "execution_count": 16,
   "id": "1135e960-1775-4939-90d4-a82a53b9b228",
   "metadata": {},
   "outputs": [],
   "source": [
    "In [19]: data1 = [6, 7.5, 8, 0, 1]"
   ]
  },
  {
   "cell_type": "code",
   "execution_count": 17,
   "id": "ba853c03-e874-402c-aafd-87385a1893fd",
   "metadata": {},
   "outputs": [],
   "source": [
    "In [20]: arr1 = np.array(data1)"
   ]
  },
  {
   "cell_type": "code",
   "execution_count": 18,
   "id": "20dc0f76-7f18-4b97-a584-cbd866ad6091",
   "metadata": {},
   "outputs": [
    {
     "data": {
      "text/plain": [
       "array([6. , 7.5, 8. , 0. , 1. ])"
      ]
     },
     "execution_count": 18,
     "metadata": {},
     "output_type": "execute_result"
    }
   ],
   "source": [
    "In [21]: arr1"
   ]
  },
  {
   "cell_type": "code",
   "execution_count": 19,
   "id": "bcaed08c-bbff-4128-98cf-e68107860abc",
   "metadata": {},
   "outputs": [],
   "source": [
    "In [22]: data2 = [[1, 2, 3, 4], [5, 6, 7, 8]]"
   ]
  },
  {
   "cell_type": "code",
   "execution_count": 20,
   "id": "e575efb3-f0dc-4648-9cbb-7b39af4e611f",
   "metadata": {},
   "outputs": [],
   "source": [
    "In [23]: arr2 = np.array(data2)"
   ]
  },
  {
   "cell_type": "code",
   "execution_count": 21,
   "id": "361eb3a8-baeb-40f0-8641-6e9f001ca94f",
   "metadata": {},
   "outputs": [
    {
     "data": {
      "text/plain": [
       "array([[1, 2, 3, 4],\n",
       "       [5, 6, 7, 8]])"
      ]
     },
     "execution_count": 21,
     "metadata": {},
     "output_type": "execute_result"
    }
   ],
   "source": [
    "In [24]: arr2"
   ]
  },
  {
   "cell_type": "code",
   "execution_count": 22,
   "id": "c0753cee-3348-4e03-a3bf-49932e926d92",
   "metadata": {},
   "outputs": [
    {
     "data": {
      "text/plain": [
       "2"
      ]
     },
     "execution_count": 22,
     "metadata": {},
     "output_type": "execute_result"
    }
   ],
   "source": [
    "In [25]: arr2.ndim"
   ]
  },
  {
   "cell_type": "code",
   "execution_count": 23,
   "id": "8813d467-812c-4530-8850-28e94405854d",
   "metadata": {},
   "outputs": [
    {
     "data": {
      "text/plain": [
       "(2, 4)"
      ]
     },
     "execution_count": 23,
     "metadata": {},
     "output_type": "execute_result"
    }
   ],
   "source": [
    "In [26]: arr2.shape"
   ]
  },
  {
   "cell_type": "code",
   "execution_count": 24,
   "id": "eedbcfc6-8d34-4566-8aad-c02de2d728d9",
   "metadata": {},
   "outputs": [
    {
     "data": {
      "text/plain": [
       "dtype('float64')"
      ]
     },
     "execution_count": 24,
     "metadata": {},
     "output_type": "execute_result"
    }
   ],
   "source": [
    "In [27]: arr1.dtype"
   ]
  },
  {
   "cell_type": "code",
   "execution_count": 25,
   "id": "b74f01b9-e8ed-4038-81d5-140196f139d4",
   "metadata": {},
   "outputs": [
    {
     "data": {
      "text/plain": [
       "dtype('int64')"
      ]
     },
     "execution_count": 25,
     "metadata": {},
     "output_type": "execute_result"
    }
   ],
   "source": [
    "In [28]: arr2.dtype"
   ]
  },
  {
   "cell_type": "code",
   "execution_count": 26,
   "id": "90b9d187-8f7f-409e-ba7e-88ed83ee4edf",
   "metadata": {},
   "outputs": [
    {
     "data": {
      "text/plain": [
       "array([0., 0., 0., 0., 0., 0., 0., 0., 0., 0.])"
      ]
     },
     "execution_count": 26,
     "metadata": {},
     "output_type": "execute_result"
    }
   ],
   "source": [
    "In [29]: np.zeros(10)"
   ]
  },
  {
   "cell_type": "code",
   "execution_count": 27,
   "id": "4db2e173-434b-4958-b95b-096f28f61bc5",
   "metadata": {},
   "outputs": [
    {
     "data": {
      "text/plain": [
       "array([[0., 0., 0., 0., 0., 0.],\n",
       "       [0., 0., 0., 0., 0., 0.],\n",
       "       [0., 0., 0., 0., 0., 0.]])"
      ]
     },
     "execution_count": 27,
     "metadata": {},
     "output_type": "execute_result"
    }
   ],
   "source": [
    "In [30]: np.zeros((3, 6))"
   ]
  },
  {
   "cell_type": "code",
   "execution_count": 28,
   "id": "e381ad52-871c-4cef-b706-16d663eb6b03",
   "metadata": {},
   "outputs": [
    {
     "data": {
      "text/plain": [
       "array([[[-3.10503618e+231, -1.44663096e-315],\n",
       "        [ 2.96439388e-323,  0.00000000e+000],\n",
       "        [ 0.00000000e+000,  4.47032019e-038]],\n",
       "\n",
       "       [[ 7.73184650e-091,  1.71696216e+185],\n",
       "        [ 1.28241139e+160,  5.55149409e+170],\n",
       "        [ 3.99910963e+252,  8.34402841e-309]]])"
      ]
     },
     "execution_count": 28,
     "metadata": {},
     "output_type": "execute_result"
    }
   ],
   "source": [
    "In [31]: np.empty((2, 3, 2))"
   ]
  },
  {
   "cell_type": "code",
   "execution_count": 29,
   "id": "36dfb379-83db-4ad7-9889-57b3f3d67f21",
   "metadata": {},
   "outputs": [
    {
     "data": {
      "text/plain": [
       "array([ 0,  1,  2,  3,  4,  5,  6,  7,  8,  9, 10, 11, 12, 13, 14])"
      ]
     },
     "execution_count": 29,
     "metadata": {},
     "output_type": "execute_result"
    }
   ],
   "source": [
    "In [32]: np.arange(15)"
   ]
  },
  {
   "cell_type": "code",
   "execution_count": 30,
   "id": "f9847496-118a-4fb8-8cb3-7a79e4a2a499",
   "metadata": {},
   "outputs": [],
   "source": [
    "In [33]: arr1 = np.array([1, 2, 3], dtype=np.float64)"
   ]
  },
  {
   "cell_type": "code",
   "execution_count": 31,
   "id": "068238d4-f58f-4d61-9e27-55b321e894d3",
   "metadata": {},
   "outputs": [],
   "source": [
    "In [34]: arr2 = np.array([1, 2, 3], dtype=np.int32)"
   ]
  },
  {
   "cell_type": "code",
   "execution_count": 32,
   "id": "17958e25-dc6c-4bf3-8cfb-d00e58f69127",
   "metadata": {},
   "outputs": [
    {
     "data": {
      "text/plain": [
       "dtype('float64')"
      ]
     },
     "execution_count": 32,
     "metadata": {},
     "output_type": "execute_result"
    }
   ],
   "source": [
    "In [35]: arr1.dtype"
   ]
  },
  {
   "cell_type": "code",
   "execution_count": 33,
   "id": "216e5cb6-38f9-45a8-9fd1-d95691a15caf",
   "metadata": {},
   "outputs": [
    {
     "data": {
      "text/plain": [
       "dtype('int32')"
      ]
     },
     "execution_count": 33,
     "metadata": {},
     "output_type": "execute_result"
    }
   ],
   "source": [
    "In [36]: arr2.dtype"
   ]
  },
  {
   "cell_type": "code",
   "execution_count": 34,
   "id": "a35d98fd-2765-41f3-b7d2-b86cfed28b9c",
   "metadata": {},
   "outputs": [],
   "source": [
    "In [37]: arr = np.array([1, 2, 3, 4, 5])"
   ]
  },
  {
   "cell_type": "code",
   "execution_count": 35,
   "id": "c318944b-f67e-45c1-8585-aef8096cecaa",
   "metadata": {},
   "outputs": [
    {
     "data": {
      "text/plain": [
       "dtype('int64')"
      ]
     },
     "execution_count": 35,
     "metadata": {},
     "output_type": "execute_result"
    }
   ],
   "source": [
    "In [38]: arr.dtype"
   ]
  },
  {
   "cell_type": "code",
   "execution_count": 36,
   "id": "f80bb2a9-0eae-4b31-9de4-40ed1ee86924",
   "metadata": {},
   "outputs": [],
   "source": [
    "In [39]: float_arr = arr.astype(np.float64)"
   ]
  },
  {
   "cell_type": "code",
   "execution_count": 37,
   "id": "3e405a1d-80f8-4c00-a236-f2845508c56e",
   "metadata": {},
   "outputs": [
    {
     "data": {
      "text/plain": [
       "array([1., 2., 3., 4., 5.])"
      ]
     },
     "execution_count": 37,
     "metadata": {},
     "output_type": "execute_result"
    }
   ],
   "source": [
    "In [40]: float_arr"
   ]
  },
  {
   "cell_type": "code",
   "execution_count": 38,
   "id": "958fd6ef-5c5c-4728-85a1-101ab248548a",
   "metadata": {},
   "outputs": [
    {
     "data": {
      "text/plain": [
       "dtype('float64')"
      ]
     },
     "execution_count": 38,
     "metadata": {},
     "output_type": "execute_result"
    }
   ],
   "source": [
    "In [41]: float_arr.dtype"
   ]
  },
  {
   "cell_type": "code",
   "execution_count": 39,
   "id": "2bf4f3d9-12fc-437e-bf4c-0a0141faf359",
   "metadata": {},
   "outputs": [],
   "source": [
    "In [42]: arr = np.array([3.7, -1.2, -2.6, 0.5, 12.9, 10.1])"
   ]
  },
  {
   "cell_type": "code",
   "execution_count": 40,
   "id": "e200a4d2-492e-4daf-9b6d-42c8c9f4990b",
   "metadata": {},
   "outputs": [
    {
     "data": {
      "text/plain": [
       "array([ 3.7, -1.2, -2.6,  0.5, 12.9, 10.1])"
      ]
     },
     "execution_count": 40,
     "metadata": {},
     "output_type": "execute_result"
    }
   ],
   "source": [
    "In [43]: arr"
   ]
  },
  {
   "cell_type": "code",
   "execution_count": 41,
   "id": "0d23689a-cffb-41d5-ace0-aa739a6b1ca8",
   "metadata": {},
   "outputs": [
    {
     "data": {
      "text/plain": [
       "array([ 3, -1, -2,  0, 12, 10], dtype=int32)"
      ]
     },
     "execution_count": 41,
     "metadata": {},
     "output_type": "execute_result"
    }
   ],
   "source": [
    "In [44]: arr.astype(np.int32)"
   ]
  },
  {
   "cell_type": "code",
   "execution_count": 60,
   "id": "9fdee0db-a09a-4b14-90c7-600c13b3da76",
   "metadata": {},
   "outputs": [
    {
     "data": {
      "text/plain": [
       "array([ 1.25, -9.6 , 42.  ])"
      ]
     },
     "execution_count": 60,
     "metadata": {},
     "output_type": "execute_result"
    }
   ],
   "source": [
    "numeric_strings = np.array([\"1.25\", \"-9.6\", \"42\"], dtype=np.str_)\n",
    "numeric_strings.astype(float)"
   ]
  },
  {
   "cell_type": "code",
   "execution_count": 44,
   "id": "2ebc7b5e-306f-498c-a67b-0409d328b610",
   "metadata": {},
   "outputs": [],
   "source": [
    "In [47]: int_array = np.arange(10)"
   ]
  },
  {
   "cell_type": "code",
   "execution_count": 45,
   "id": "cc70496b-1e07-4809-99e9-09f7b8c58ea8",
   "metadata": {},
   "outputs": [],
   "source": [
    "In [48]: calibers = np.array([.22, .270, .357, .380, .44, .50], dtype=np.float64)"
   ]
  },
  {
   "cell_type": "code",
   "execution_count": 46,
   "id": "e647eba6-fbb2-4700-b605-69f029742b0c",
   "metadata": {},
   "outputs": [
    {
     "data": {
      "text/plain": [
       "array([0., 1., 2., 3., 4., 5., 6., 7., 8., 9.])"
      ]
     },
     "execution_count": 46,
     "metadata": {},
     "output_type": "execute_result"
    }
   ],
   "source": [
    "In [49]: int_array.astype(calibers.dtype)"
   ]
  },
  {
   "cell_type": "code",
   "execution_count": 47,
   "id": "13238af7-39f3-48b4-b4ff-1777d150962c",
   "metadata": {},
   "outputs": [],
   "source": [
    "In [50]: zeros_uint32 = np.zeros(8, dtype=\"u4\")"
   ]
  },
  {
   "cell_type": "code",
   "execution_count": 48,
   "id": "eeaaaf19-3ad6-43c8-997b-5d9e03997397",
   "metadata": {},
   "outputs": [
    {
     "data": {
      "text/plain": [
       "array([0, 0, 0, 0, 0, 0, 0, 0], dtype=uint32)"
      ]
     },
     "execution_count": 48,
     "metadata": {},
     "output_type": "execute_result"
    }
   ],
   "source": [
    "In [51]: zeros_uint32"
   ]
  },
  {
   "cell_type": "code",
   "execution_count": 49,
   "id": "b8d6faf3-e395-410e-9c5c-59fbd7a9d222",
   "metadata": {},
   "outputs": [],
   "source": [
    "In [52]: arr = np.array([[1., 2., 3.], [4., 5., 6.]])"
   ]
  },
  {
   "cell_type": "code",
   "execution_count": 50,
   "id": "29d19a8f-02ed-4882-8f27-30dca69bf786",
   "metadata": {},
   "outputs": [
    {
     "data": {
      "text/plain": [
       "array([[1., 2., 3.],\n",
       "       [4., 5., 6.]])"
      ]
     },
     "execution_count": 50,
     "metadata": {},
     "output_type": "execute_result"
    }
   ],
   "source": [
    "In [53]: arr"
   ]
  },
  {
   "cell_type": "code",
   "execution_count": 51,
   "id": "08b9f1c5-320a-4475-8500-318b3b7f75e0",
   "metadata": {},
   "outputs": [
    {
     "data": {
      "text/plain": [
       "array([[ 1.,  4.,  9.],\n",
       "       [16., 25., 36.]])"
      ]
     },
     "execution_count": 51,
     "metadata": {},
     "output_type": "execute_result"
    }
   ],
   "source": [
    "In [54]: arr * arr"
   ]
  },
  {
   "cell_type": "code",
   "execution_count": 52,
   "id": "56e94732-8b0e-41e6-8c69-41591f71a610",
   "metadata": {},
   "outputs": [
    {
     "data": {
      "text/plain": [
       "array([[0., 0., 0.],\n",
       "       [0., 0., 0.]])"
      ]
     },
     "execution_count": 52,
     "metadata": {},
     "output_type": "execute_result"
    }
   ],
   "source": [
    "In [55]: arr - arr"
   ]
  },
  {
   "cell_type": "code",
   "execution_count": 53,
   "id": "4cb13889-cf40-49d0-868b-1c1c4e626e6d",
   "metadata": {},
   "outputs": [
    {
     "data": {
      "text/plain": [
       "array([[1.        , 0.5       , 0.33333333],\n",
       "       [0.25      , 0.2       , 0.16666667]])"
      ]
     },
     "execution_count": 53,
     "metadata": {},
     "output_type": "execute_result"
    }
   ],
   "source": [
    "In [56]: 1 / arr"
   ]
  },
  {
   "cell_type": "code",
   "execution_count": 54,
   "id": "ab79d631-7cf0-4578-99fd-ae1928e91cec",
   "metadata": {},
   "outputs": [
    {
     "data": {
      "text/plain": [
       "array([[ 1.,  4.,  9.],\n",
       "       [16., 25., 36.]])"
      ]
     },
     "execution_count": 54,
     "metadata": {},
     "output_type": "execute_result"
    }
   ],
   "source": [
    "In [57]: arr ** 2"
   ]
  },
  {
   "cell_type": "code",
   "execution_count": 55,
   "id": "dc448476-2c62-4e55-ac8b-60fe57a36965",
   "metadata": {},
   "outputs": [],
   "source": [
    "In [58]: arr2 = np.array([[0., 4., 1.], [7., 2., 12.]])"
   ]
  },
  {
   "cell_type": "code",
   "execution_count": 56,
   "id": "d546472e-ce65-42f2-881f-ff127c19b5b5",
   "metadata": {},
   "outputs": [
    {
     "data": {
      "text/plain": [
       "array([[ 0.,  4.,  1.],\n",
       "       [ 7.,  2., 12.]])"
      ]
     },
     "execution_count": 56,
     "metadata": {},
     "output_type": "execute_result"
    }
   ],
   "source": [
    "In [59]: arr2"
   ]
  },
  {
   "cell_type": "code",
   "execution_count": 57,
   "id": "7f0f314d-c9c5-4b73-945b-1c88e2a98475",
   "metadata": {},
   "outputs": [
    {
     "data": {
      "text/plain": [
       "array([[False,  True, False],\n",
       "       [ True, False,  True]])"
      ]
     },
     "execution_count": 57,
     "metadata": {},
     "output_type": "execute_result"
    }
   ],
   "source": [
    "In [60]: arr2 > arr"
   ]
  },
  {
   "cell_type": "code",
   "execution_count": 58,
   "id": "b4559fb7-a8f4-466b-9595-15c44f027488",
   "metadata": {},
   "outputs": [],
   "source": [
    "In [61]: arr = np.arange(10)"
   ]
  },
  {
   "cell_type": "code",
   "execution_count": 59,
   "id": "a096c2b6-b72d-4181-b939-6ed2c3369a6a",
   "metadata": {},
   "outputs": [
    {
     "data": {
      "text/plain": [
       "array([0, 1, 2, 3, 4, 5, 6, 7, 8, 9])"
      ]
     },
     "execution_count": 59,
     "metadata": {},
     "output_type": "execute_result"
    }
   ],
   "source": [
    "In [62]: arr"
   ]
  },
  {
   "cell_type": "code",
   "execution_count": 61,
   "id": "c3e02e35-7527-46ad-bb0f-ae27140e48e9",
   "metadata": {},
   "outputs": [
    {
     "data": {
      "text/plain": [
       "np.int64(5)"
      ]
     },
     "execution_count": 61,
     "metadata": {},
     "output_type": "execute_result"
    }
   ],
   "source": [
    "In [63]: arr[5]"
   ]
  },
  {
   "cell_type": "code",
   "execution_count": 62,
   "id": "185e870a-0698-4e72-868e-bf5551a829b4",
   "metadata": {},
   "outputs": [
    {
     "data": {
      "text/plain": [
       "array([5, 6, 7])"
      ]
     },
     "execution_count": 62,
     "metadata": {},
     "output_type": "execute_result"
    }
   ],
   "source": [
    "In [64]: arr[5:8]"
   ]
  },
  {
   "cell_type": "code",
   "execution_count": 63,
   "id": "abcbfd86-b88e-4d7d-8d90-ae93b9b72848",
   "metadata": {},
   "outputs": [],
   "source": [
    "In [65]: arr[5:8] = 12"
   ]
  },
  {
   "cell_type": "code",
   "execution_count": 64,
   "id": "3439edc5-9a3d-4ab3-9a89-21043029eeab",
   "metadata": {},
   "outputs": [
    {
     "data": {
      "text/plain": [
       "array([ 0,  1,  2,  3,  4, 12, 12, 12,  8,  9])"
      ]
     },
     "execution_count": 64,
     "metadata": {},
     "output_type": "execute_result"
    }
   ],
   "source": [
    "In [66]: arr"
   ]
  },
  {
   "cell_type": "code",
   "execution_count": 65,
   "id": "8ae2f4a5-a1dc-465d-a6a2-e64b8a9e8b46",
   "metadata": {},
   "outputs": [],
   "source": [
    "In [67]: arr_slice = arr[5:8]"
   ]
  },
  {
   "cell_type": "code",
   "execution_count": 66,
   "id": "c79394c6-1fb3-4b75-9661-220759750ce3",
   "metadata": {},
   "outputs": [
    {
     "data": {
      "text/plain": [
       "array([12, 12, 12])"
      ]
     },
     "execution_count": 66,
     "metadata": {},
     "output_type": "execute_result"
    }
   ],
   "source": [
    "In [68]: arr_slice"
   ]
  },
  {
   "cell_type": "code",
   "execution_count": 67,
   "id": "653f37af-23c3-41e7-99c1-d47ed32f536e",
   "metadata": {},
   "outputs": [],
   "source": [
    "In [69]: arr_slice[1] = 12345"
   ]
  },
  {
   "cell_type": "code",
   "execution_count": 68,
   "id": "cd662bed-a361-4589-bd27-5b251aa8b26f",
   "metadata": {},
   "outputs": [
    {
     "data": {
      "text/plain": [
       "array([    0,     1,     2,     3,     4,    12, 12345,    12,     8,\n",
       "           9])"
      ]
     },
     "execution_count": 68,
     "metadata": {},
     "output_type": "execute_result"
    }
   ],
   "source": [
    "In [70]: arr"
   ]
  },
  {
   "cell_type": "code",
   "execution_count": 69,
   "id": "69195941-6030-4856-937d-7f801486ea80",
   "metadata": {},
   "outputs": [],
   "source": [
    "In [71]: arr_slice[:] = 64"
   ]
  },
  {
   "cell_type": "code",
   "execution_count": 70,
   "id": "e69baad8-1dbf-403a-9ac2-dfbca6bd948c",
   "metadata": {},
   "outputs": [
    {
     "data": {
      "text/plain": [
       "array([ 0,  1,  2,  3,  4, 64, 64, 64,  8,  9])"
      ]
     },
     "execution_count": 70,
     "metadata": {},
     "output_type": "execute_result"
    }
   ],
   "source": [
    "In [72]: arr"
   ]
  },
  {
   "cell_type": "code",
   "execution_count": 71,
   "id": "52645e33-7a56-4bea-95b3-7810e79b1c1c",
   "metadata": {},
   "outputs": [],
   "source": [
    "In [73]: arr2d = np.array([[1, 2, 3], [4, 5, 6], [7, 8, 9]])"
   ]
  },
  {
   "cell_type": "code",
   "execution_count": 72,
   "id": "45a58d27-961a-4d86-adf8-c2be7b004ad0",
   "metadata": {},
   "outputs": [
    {
     "data": {
      "text/plain": [
       "array([7, 8, 9])"
      ]
     },
     "execution_count": 72,
     "metadata": {},
     "output_type": "execute_result"
    }
   ],
   "source": [
    "In [74]: arr2d[2]"
   ]
  },
  {
   "cell_type": "code",
   "execution_count": 73,
   "id": "8b9325ce-36a4-46c3-9ef4-ab05f2680a42",
   "metadata": {},
   "outputs": [
    {
     "data": {
      "text/plain": [
       "np.int64(3)"
      ]
     },
     "execution_count": 73,
     "metadata": {},
     "output_type": "execute_result"
    }
   ],
   "source": [
    "In [75]: arr2d[0][2]"
   ]
  },
  {
   "cell_type": "code",
   "execution_count": 74,
   "id": "b0d4d93e-600a-49ec-8130-968f03f49c4f",
   "metadata": {},
   "outputs": [
    {
     "data": {
      "text/plain": [
       "np.int64(3)"
      ]
     },
     "execution_count": 74,
     "metadata": {},
     "output_type": "execute_result"
    }
   ],
   "source": [
    "In [76]: arr2d[0, 2]"
   ]
  },
  {
   "cell_type": "code",
   "execution_count": 75,
   "id": "f4a650c9-e1c6-4b73-8c21-f1a328df2203",
   "metadata": {},
   "outputs": [],
   "source": [
    "In [77]: arr3d = np.array([[[1, 2, 3], [4, 5, 6]], [[7, 8, 9], [10, 11, 12]]])"
   ]
  },
  {
   "cell_type": "code",
   "execution_count": 76,
   "id": "b9f9b284-e9a8-42b6-a2f6-018b1fe6ac55",
   "metadata": {},
   "outputs": [
    {
     "data": {
      "text/plain": [
       "array([[[ 1,  2,  3],\n",
       "        [ 4,  5,  6]],\n",
       "\n",
       "       [[ 7,  8,  9],\n",
       "        [10, 11, 12]]])"
      ]
     },
     "execution_count": 76,
     "metadata": {},
     "output_type": "execute_result"
    }
   ],
   "source": [
    "In [78]: arr3d"
   ]
  },
  {
   "cell_type": "code",
   "execution_count": 77,
   "id": "b63ffb2c-8a13-4e3d-9d51-efd673e7ce71",
   "metadata": {},
   "outputs": [
    {
     "data": {
      "text/plain": [
       "array([[1, 2, 3],\n",
       "       [4, 5, 6]])"
      ]
     },
     "execution_count": 77,
     "metadata": {},
     "output_type": "execute_result"
    }
   ],
   "source": [
    "In [79]: arr3d[0]"
   ]
  },
  {
   "cell_type": "code",
   "execution_count": 78,
   "id": "76b466d1-62ba-4690-a1e2-9c467ce83311",
   "metadata": {},
   "outputs": [],
   "source": [
    "In [80]: old_values = arr3d[0].copy()"
   ]
  },
  {
   "cell_type": "code",
   "execution_count": 79,
   "id": "8dae8f22-df2a-4644-902d-1029b1dd3fea",
   "metadata": {},
   "outputs": [],
   "source": [
    "In [81]: arr3d[0] = 42"
   ]
  },
  {
   "cell_type": "code",
   "execution_count": 80,
   "id": "8189b25c-6e95-4a20-b6ca-4ad694dd9469",
   "metadata": {},
   "outputs": [
    {
     "data": {
      "text/plain": [
       "array([[[42, 42, 42],\n",
       "        [42, 42, 42]],\n",
       "\n",
       "       [[ 7,  8,  9],\n",
       "        [10, 11, 12]]])"
      ]
     },
     "execution_count": 80,
     "metadata": {},
     "output_type": "execute_result"
    }
   ],
   "source": [
    "In [82]: arr3d"
   ]
  },
  {
   "cell_type": "code",
   "execution_count": 81,
   "id": "8cdcf7b8-e816-44b7-ad9b-82018020d8b9",
   "metadata": {},
   "outputs": [],
   "source": [
    "In [83]: arr3d[0] = old_values"
   ]
  },
  {
   "cell_type": "code",
   "execution_count": 82,
   "id": "4528fbd2-5c49-468e-83c5-332578c83dbb",
   "metadata": {},
   "outputs": [
    {
     "data": {
      "text/plain": [
       "array([[[ 1,  2,  3],\n",
       "        [ 4,  5,  6]],\n",
       "\n",
       "       [[ 7,  8,  9],\n",
       "        [10, 11, 12]]])"
      ]
     },
     "execution_count": 82,
     "metadata": {},
     "output_type": "execute_result"
    }
   ],
   "source": [
    "In [84]: arr3d"
   ]
  },
  {
   "cell_type": "code",
   "execution_count": 83,
   "id": "11b62309-e576-48f8-abd0-0edb0a09e20f",
   "metadata": {},
   "outputs": [
    {
     "data": {
      "text/plain": [
       "array([7, 8, 9])"
      ]
     },
     "execution_count": 83,
     "metadata": {},
     "output_type": "execute_result"
    }
   ],
   "source": [
    "In [85]: arr3d[1, 0]"
   ]
  },
  {
   "cell_type": "code",
   "execution_count": 84,
   "id": "51406733-f7e0-4a52-ac3b-6df095326939",
   "metadata": {},
   "outputs": [],
   "source": [
    "In [86]: x = arr3d[1]"
   ]
  },
  {
   "cell_type": "code",
   "execution_count": 85,
   "id": "3957daf7-5a2e-4932-a46d-cb2b651e353e",
   "metadata": {},
   "outputs": [
    {
     "data": {
      "text/plain": [
       "array([[ 7,  8,  9],\n",
       "       [10, 11, 12]])"
      ]
     },
     "execution_count": 85,
     "metadata": {},
     "output_type": "execute_result"
    }
   ],
   "source": [
    "In [87]: x"
   ]
  },
  {
   "cell_type": "code",
   "execution_count": 86,
   "id": "21b36759-67ba-46b6-a2f6-b761292b388f",
   "metadata": {},
   "outputs": [
    {
     "data": {
      "text/plain": [
       "array([7, 8, 9])"
      ]
     },
     "execution_count": 86,
     "metadata": {},
     "output_type": "execute_result"
    }
   ],
   "source": [
    "In [88]: x[0]"
   ]
  },
  {
   "cell_type": "code",
   "execution_count": 87,
   "id": "2e99662d-4fc2-4f8b-8bb3-2276c453a415",
   "metadata": {},
   "outputs": [
    {
     "data": {
      "text/plain": [
       "array([ 0,  1,  2,  3,  4, 64, 64, 64,  8,  9])"
      ]
     },
     "execution_count": 87,
     "metadata": {},
     "output_type": "execute_result"
    }
   ],
   "source": [
    "In [89]: arr"
   ]
  },
  {
   "cell_type": "code",
   "execution_count": 88,
   "id": "c1ddda80-e64b-4fbb-bae1-9e94e717040c",
   "metadata": {},
   "outputs": [
    {
     "data": {
      "text/plain": [
       "array([ 1,  2,  3,  4, 64])"
      ]
     },
     "execution_count": 88,
     "metadata": {},
     "output_type": "execute_result"
    }
   ],
   "source": [
    "In [90]: arr[1:6]"
   ]
  },
  {
   "cell_type": "code",
   "execution_count": 89,
   "id": "346c5218-3cba-461d-ab72-a64bad77e28f",
   "metadata": {},
   "outputs": [
    {
     "data": {
      "text/plain": [
       "array([[1, 2, 3],\n",
       "       [4, 5, 6],\n",
       "       [7, 8, 9]])"
      ]
     },
     "execution_count": 89,
     "metadata": {},
     "output_type": "execute_result"
    }
   ],
   "source": [
    "In [91]: arr2d"
   ]
  },
  {
   "cell_type": "code",
   "execution_count": 91,
   "id": "a6d0598c-f446-44ad-924e-64b368ac3fac",
   "metadata": {},
   "outputs": [
    {
     "data": {
      "text/plain": [
       "array([[1, 2, 3],\n",
       "       [4, 5, 6]])"
      ]
     },
     "execution_count": 91,
     "metadata": {},
     "output_type": "execute_result"
    }
   ],
   "source": [
    "In [92]: arr2d[:2]"
   ]
  },
  {
   "cell_type": "code",
   "execution_count": 92,
   "id": "2fc728a2-069e-46d4-a71c-a9beaa52cb1c",
   "metadata": {},
   "outputs": [
    {
     "data": {
      "text/plain": [
       "array([[2, 3],\n",
       "       [5, 6]])"
      ]
     },
     "execution_count": 92,
     "metadata": {},
     "output_type": "execute_result"
    }
   ],
   "source": [
    "In [93]: arr2d[:2, 1:]"
   ]
  },
  {
   "cell_type": "code",
   "execution_count": 93,
   "id": "249c932f-1f3e-44e6-9263-478718dfbd5a",
   "metadata": {},
   "outputs": [],
   "source": [
    "In [94]: lower_dim_slice = arr2d[1, :2]"
   ]
  },
  {
   "cell_type": "code",
   "execution_count": 94,
   "id": "943b5208-7063-4b4a-b954-79711582eec3",
   "metadata": {},
   "outputs": [
    {
     "data": {
      "text/plain": [
       "(2,)"
      ]
     },
     "execution_count": 94,
     "metadata": {},
     "output_type": "execute_result"
    }
   ],
   "source": [
    "In [95]: lower_dim_slice.shape"
   ]
  },
  {
   "cell_type": "code",
   "execution_count": 95,
   "id": "bbf67342-d9b4-42f1-8de2-448522e4c77a",
   "metadata": {},
   "outputs": [
    {
     "data": {
      "text/plain": [
       "(2,)"
      ]
     },
     "execution_count": 95,
     "metadata": {},
     "output_type": "execute_result"
    }
   ],
   "source": [
    "In [95]: lower_dim_slice.shape"
   ]
  },
  {
   "cell_type": "code",
   "execution_count": 96,
   "id": "90e56d12-c8cf-4f1c-aca4-51aadf1f5f0c",
   "metadata": {},
   "outputs": [
    {
     "data": {
      "text/plain": [
       "array([[1],\n",
       "       [4],\n",
       "       [7]])"
      ]
     },
     "execution_count": 96,
     "metadata": {},
     "output_type": "execute_result"
    }
   ],
   "source": [
    "In [97]: arr2d[:, :1]"
   ]
  },
  {
   "cell_type": "code",
   "execution_count": 97,
   "id": "b866f7fe-688c-48af-bbfb-acf984feb92b",
   "metadata": {},
   "outputs": [],
   "source": [
    "In [98]: arr2d[:2, 1:] = 0"
   ]
  },
  {
   "cell_type": "code",
   "execution_count": 98,
   "id": "a6bcb21c-9c55-4bb8-87e7-c0ed991ef364",
   "metadata": {},
   "outputs": [
    {
     "data": {
      "text/plain": [
       "array([[1, 0, 0],\n",
       "       [4, 0, 0],\n",
       "       [7, 8, 9]])"
      ]
     },
     "execution_count": 98,
     "metadata": {},
     "output_type": "execute_result"
    }
   ],
   "source": [
    "In [99]: arr2d"
   ]
  },
  {
   "cell_type": "code",
   "execution_count": 99,
   "id": "572eec73-b2dc-4a56-9413-c8618dfa2bbc",
   "metadata": {},
   "outputs": [],
   "source": [
    "In [100]: names = np.array([\"Bob\", \"Joe\", \"Will\", \"Bob\", \"Will\", \"Joe\", \"Joe\"])"
   ]
  },
  {
   "cell_type": "code",
   "execution_count": 100,
   "id": "87f79c55-49fc-4647-ab7d-301dbc22f562",
   "metadata": {},
   "outputs": [],
   "source": [
    "In [101]: data = np.array([[4, 7], [0, 2], [-5, 6], [0, 0], [1, 2],\n",
    "   .....:                  [-12, -4], [3, 4]])"
   ]
  },
  {
   "cell_type": "code",
   "execution_count": 101,
   "id": "826bfc8b-342c-4170-8b95-a1241e38992b",
   "metadata": {},
   "outputs": [
    {
     "data": {
      "text/plain": [
       "array(['Bob', 'Joe', 'Will', 'Bob', 'Will', 'Joe', 'Joe'], dtype='<U4')"
      ]
     },
     "execution_count": 101,
     "metadata": {},
     "output_type": "execute_result"
    }
   ],
   "source": [
    "In [102]: names"
   ]
  },
  {
   "cell_type": "code",
   "execution_count": 102,
   "id": "ac88e48f-efa1-4c38-b4bb-a681fb51e918",
   "metadata": {},
   "outputs": [
    {
     "data": {
      "text/plain": [
       "array([[  4,   7],\n",
       "       [  0,   2],\n",
       "       [ -5,   6],\n",
       "       [  0,   0],\n",
       "       [  1,   2],\n",
       "       [-12,  -4],\n",
       "       [  3,   4]])"
      ]
     },
     "execution_count": 102,
     "metadata": {},
     "output_type": "execute_result"
    }
   ],
   "source": [
    "In [103]: data"
   ]
  },
  {
   "cell_type": "code",
   "execution_count": 103,
   "id": "68ae5b32-9aef-483d-a2ca-06b4edc8326b",
   "metadata": {},
   "outputs": [
    {
     "data": {
      "text/plain": [
       "array([ True, False, False,  True, False, False, False])"
      ]
     },
     "execution_count": 103,
     "metadata": {},
     "output_type": "execute_result"
    }
   ],
   "source": [
    "In [104]: names == \"Bob\""
   ]
  },
  {
   "cell_type": "code",
   "execution_count": 104,
   "id": "39f273c9-5380-456e-9752-82fb9530127b",
   "metadata": {},
   "outputs": [
    {
     "data": {
      "text/plain": [
       "array([[4, 7],\n",
       "       [0, 0]])"
      ]
     },
     "execution_count": 104,
     "metadata": {},
     "output_type": "execute_result"
    }
   ],
   "source": [
    "In [105]: data[names == \"Bob\"]"
   ]
  },
  {
   "cell_type": "code",
   "execution_count": 105,
   "id": "9e70f270-1ebc-4e96-b82e-9d13416d01ae",
   "metadata": {},
   "outputs": [
    {
     "data": {
      "text/plain": [
       "array([[7],\n",
       "       [0]])"
      ]
     },
     "execution_count": 105,
     "metadata": {},
     "output_type": "execute_result"
    }
   ],
   "source": [
    "In [106]: data[names == \"Bob\", 1:]"
   ]
  },
  {
   "cell_type": "code",
   "execution_count": 106,
   "id": "4e5b0c6e-4bb3-4fd3-bc11-6545331c5b61",
   "metadata": {},
   "outputs": [
    {
     "data": {
      "text/plain": [
       "array([7, 0])"
      ]
     },
     "execution_count": 106,
     "metadata": {},
     "output_type": "execute_result"
    }
   ],
   "source": [
    "In [107]: data[names == \"Bob\", 1]"
   ]
  },
  {
   "cell_type": "code",
   "execution_count": 107,
   "id": "d674cef2-2458-4192-b0d6-7bcc4b5575d6",
   "metadata": {},
   "outputs": [
    {
     "data": {
      "text/plain": [
       "array([False,  True,  True, False,  True,  True,  True])"
      ]
     },
     "execution_count": 107,
     "metadata": {},
     "output_type": "execute_result"
    }
   ],
   "source": [
    "In [108]: names != \"Bob\""
   ]
  },
  {
   "cell_type": "code",
   "execution_count": 108,
   "id": "7116ca60-c522-40c9-9171-aca91a767ce4",
   "metadata": {},
   "outputs": [
    {
     "data": {
      "text/plain": [
       "array([False,  True,  True, False,  True,  True,  True])"
      ]
     },
     "execution_count": 108,
     "metadata": {},
     "output_type": "execute_result"
    }
   ],
   "source": [
    "In [109]: ~(names == \"Bob\")"
   ]
  },
  {
   "cell_type": "code",
   "execution_count": 109,
   "id": "21b5be9d-17a5-4970-916e-a96aa404ee24",
   "metadata": {},
   "outputs": [
    {
     "data": {
      "text/plain": [
       "array([[  0,   2],\n",
       "       [ -5,   6],\n",
       "       [  1,   2],\n",
       "       [-12,  -4],\n",
       "       [  3,   4]])"
      ]
     },
     "execution_count": 109,
     "metadata": {},
     "output_type": "execute_result"
    }
   ],
   "source": [
    "In [110]: data[~(names == \"Bob\")]"
   ]
  },
  {
   "cell_type": "code",
   "execution_count": 110,
   "id": "ac5f22b3-1e85-4a1f-bfaf-8e35515b79fa",
   "metadata": {},
   "outputs": [],
   "source": [
    "In [111]: cond = names == \"Bob\""
   ]
  },
  {
   "cell_type": "code",
   "execution_count": 111,
   "id": "7a083874-7bd8-41fa-878d-00d46c91204f",
   "metadata": {},
   "outputs": [
    {
     "data": {
      "text/plain": [
       "array([[  0,   2],\n",
       "       [ -5,   6],\n",
       "       [  1,   2],\n",
       "       [-12,  -4],\n",
       "       [  3,   4]])"
      ]
     },
     "execution_count": 111,
     "metadata": {},
     "output_type": "execute_result"
    }
   ],
   "source": [
    "In [112]: data[~cond]"
   ]
  },
  {
   "cell_type": "code",
   "execution_count": 112,
   "id": "24bc085c-e77b-4269-906b-a67d24604945",
   "metadata": {},
   "outputs": [],
   "source": [
    "In [113]: mask = (names == \"Bob\") | (names == \"Will\")"
   ]
  },
  {
   "cell_type": "code",
   "execution_count": 113,
   "id": "6f527801-c936-4cc0-8ce6-88a924dcbaf5",
   "metadata": {},
   "outputs": [
    {
     "data": {
      "text/plain": [
       "array([ True, False,  True,  True,  True, False, False])"
      ]
     },
     "execution_count": 113,
     "metadata": {},
     "output_type": "execute_result"
    }
   ],
   "source": [
    "In [114]: mask"
   ]
  },
  {
   "cell_type": "code",
   "execution_count": 114,
   "id": "1e7162e2-cc3f-4fbd-a9aa-5b3c1fde9358",
   "metadata": {},
   "outputs": [
    {
     "data": {
      "text/plain": [
       "array([[ 4,  7],\n",
       "       [-5,  6],\n",
       "       [ 0,  0],\n",
       "       [ 1,  2]])"
      ]
     },
     "execution_count": 114,
     "metadata": {},
     "output_type": "execute_result"
    }
   ],
   "source": [
    "In [115]: data[mask]"
   ]
  },
  {
   "cell_type": "code",
   "execution_count": 115,
   "id": "f4a4b611-1725-448e-bb39-8e8b59c50dbf",
   "metadata": {},
   "outputs": [],
   "source": [
    "In [116]: data[data < 0] = 0"
   ]
  },
  {
   "cell_type": "code",
   "execution_count": 116,
   "id": "65683473-886f-4927-9d52-daafaa328fba",
   "metadata": {},
   "outputs": [
    {
     "data": {
      "text/plain": [
       "array([[4, 7],\n",
       "       [0, 2],\n",
       "       [0, 6],\n",
       "       [0, 0],\n",
       "       [1, 2],\n",
       "       [0, 0],\n",
       "       [3, 4]])"
      ]
     },
     "execution_count": 116,
     "metadata": {},
     "output_type": "execute_result"
    }
   ],
   "source": [
    "In [117]: data"
   ]
  },
  {
   "cell_type": "code",
   "execution_count": 117,
   "id": "b57fc604-464e-49cb-ba78-60b5273b0201",
   "metadata": {},
   "outputs": [],
   "source": [
    "In [118]: data[names != \"Joe\"] = 7"
   ]
  },
  {
   "cell_type": "code",
   "execution_count": 118,
   "id": "16b66c64-37e9-4874-a0d6-8f7dcf8fa6a5",
   "metadata": {},
   "outputs": [
    {
     "data": {
      "text/plain": [
       "array([[7, 7],\n",
       "       [0, 2],\n",
       "       [7, 7],\n",
       "       [7, 7],\n",
       "       [7, 7],\n",
       "       [0, 0],\n",
       "       [3, 4]])"
      ]
     },
     "execution_count": 118,
     "metadata": {},
     "output_type": "execute_result"
    }
   ],
   "source": [
    "In [119]: data"
   ]
  },
  {
   "cell_type": "code",
   "execution_count": 119,
   "id": "bbce6444-a9c9-404a-ae2b-eb867546934c",
   "metadata": {},
   "outputs": [],
   "source": [
    "In [120]: arr = np.zeros((8, 4))"
   ]
  },
  {
   "cell_type": "code",
   "execution_count": 120,
   "id": "42a0a41c-790e-4eba-bb45-e861b0c034a8",
   "metadata": {},
   "outputs": [],
   "source": [
    "In [121]: for i in range(8):\n",
    "   .....:     arr[i] = i"
   ]
  },
  {
   "cell_type": "code",
   "execution_count": 121,
   "id": "5b4472b0-a47d-42bc-af51-6b20417d1e47",
   "metadata": {},
   "outputs": [
    {
     "data": {
      "text/plain": [
       "array([[0., 0., 0., 0.],\n",
       "       [1., 1., 1., 1.],\n",
       "       [2., 2., 2., 2.],\n",
       "       [3., 3., 3., 3.],\n",
       "       [4., 4., 4., 4.],\n",
       "       [5., 5., 5., 5.],\n",
       "       [6., 6., 6., 6.],\n",
       "       [7., 7., 7., 7.]])"
      ]
     },
     "execution_count": 121,
     "metadata": {},
     "output_type": "execute_result"
    }
   ],
   "source": [
    "In [122]: arr"
   ]
  },
  {
   "cell_type": "code",
   "execution_count": 122,
   "id": "20e4eb1a-ac6c-4cab-9c3b-5da1e16078c4",
   "metadata": {},
   "outputs": [
    {
     "data": {
      "text/plain": [
       "array([[4., 4., 4., 4.],\n",
       "       [3., 3., 3., 3.],\n",
       "       [0., 0., 0., 0.],\n",
       "       [6., 6., 6., 6.]])"
      ]
     },
     "execution_count": 122,
     "metadata": {},
     "output_type": "execute_result"
    }
   ],
   "source": [
    "In [123]: arr[[4, 3, 0, 6]]"
   ]
  },
  {
   "cell_type": "code",
   "execution_count": 123,
   "id": "75426a84-c9d1-4061-a660-f94f491085eb",
   "metadata": {},
   "outputs": [
    {
     "data": {
      "text/plain": [
       "array([[5., 5., 5., 5.],\n",
       "       [3., 3., 3., 3.],\n",
       "       [1., 1., 1., 1.]])"
      ]
     },
     "execution_count": 123,
     "metadata": {},
     "output_type": "execute_result"
    }
   ],
   "source": [
    "In [124]: arr[[-3, -5, -7]]"
   ]
  },
  {
   "cell_type": "code",
   "execution_count": 124,
   "id": "656356d4-39d2-4756-94ca-f9dbf2f48145",
   "metadata": {},
   "outputs": [],
   "source": [
    "In [125]: arr = np.arange(32).reshape((8, 4))"
   ]
  },
  {
   "cell_type": "code",
   "execution_count": 125,
   "id": "49b31aa6-3a05-40da-a077-4775e3c978bc",
   "metadata": {},
   "outputs": [
    {
     "data": {
      "text/plain": [
       "array([[ 0,  1,  2,  3],\n",
       "       [ 4,  5,  6,  7],\n",
       "       [ 8,  9, 10, 11],\n",
       "       [12, 13, 14, 15],\n",
       "       [16, 17, 18, 19],\n",
       "       [20, 21, 22, 23],\n",
       "       [24, 25, 26, 27],\n",
       "       [28, 29, 30, 31]])"
      ]
     },
     "execution_count": 125,
     "metadata": {},
     "output_type": "execute_result"
    }
   ],
   "source": [
    "In [126]: arr"
   ]
  },
  {
   "cell_type": "code",
   "execution_count": 126,
   "id": "60a3e115-b131-4876-b170-d2096044368d",
   "metadata": {},
   "outputs": [
    {
     "data": {
      "text/plain": [
       "array([ 4, 23, 29, 10])"
      ]
     },
     "execution_count": 126,
     "metadata": {},
     "output_type": "execute_result"
    }
   ],
   "source": [
    "In [127]: arr[[1, 5, 7, 2], [0, 3, 1, 2]]"
   ]
  },
  {
   "cell_type": "code",
   "execution_count": 127,
   "id": "9de423d8-6c3d-4a40-891d-cb6353ab1a26",
   "metadata": {},
   "outputs": [
    {
     "data": {
      "text/plain": [
       "array([[ 4,  7,  5,  6],\n",
       "       [20, 23, 21, 22],\n",
       "       [28, 31, 29, 30],\n",
       "       [ 8, 11,  9, 10]])"
      ]
     },
     "execution_count": 127,
     "metadata": {},
     "output_type": "execute_result"
    }
   ],
   "source": [
    "In [128]: arr[[1, 5, 7, 2]][:, [0, 3, 1, 2]]"
   ]
  },
  {
   "cell_type": "code",
   "execution_count": 128,
   "id": "03aa90e5-da86-436d-ad5d-05371315b88c",
   "metadata": {},
   "outputs": [
    {
     "data": {
      "text/plain": [
       "array([ 4, 23, 29, 10])"
      ]
     },
     "execution_count": 128,
     "metadata": {},
     "output_type": "execute_result"
    }
   ],
   "source": [
    "In [129]: arr[[1, 5, 7, 2], [0, 3, 1, 2]]"
   ]
  },
  {
   "cell_type": "code",
   "execution_count": 129,
   "id": "2d72646a-50b4-42d1-a03d-af162d56f5c4",
   "metadata": {},
   "outputs": [],
   "source": [
    "In [130]: arr[[1, 5, 7, 2], [0, 3, 1, 2]] = 0"
   ]
  },
  {
   "cell_type": "code",
   "execution_count": 130,
   "id": "82664052-1474-49bf-b4a7-60a142626fb7",
   "metadata": {},
   "outputs": [
    {
     "data": {
      "text/plain": [
       "array([[ 0,  1,  2,  3],\n",
       "       [ 0,  5,  6,  7],\n",
       "       [ 8,  9,  0, 11],\n",
       "       [12, 13, 14, 15],\n",
       "       [16, 17, 18, 19],\n",
       "       [20, 21, 22,  0],\n",
       "       [24, 25, 26, 27],\n",
       "       [28,  0, 30, 31]])"
      ]
     },
     "execution_count": 130,
     "metadata": {},
     "output_type": "execute_result"
    }
   ],
   "source": [
    "In [131]: arr"
   ]
  },
  {
   "cell_type": "code",
   "execution_count": 131,
   "id": "6c094e69-ff54-4fc8-ab77-a07dd146d545",
   "metadata": {},
   "outputs": [],
   "source": [
    "In [132]: arr = np.arange(15).reshape((3, 5))"
   ]
  },
  {
   "cell_type": "code",
   "execution_count": 132,
   "id": "40819f4a-8f3c-40ce-827d-0954f0b4feb0",
   "metadata": {},
   "outputs": [
    {
     "data": {
      "text/plain": [
       "array([[ 0,  5, 10],\n",
       "       [ 1,  6, 11],\n",
       "       [ 2,  7, 12],\n",
       "       [ 3,  8, 13],\n",
       "       [ 4,  9, 14]])"
      ]
     },
     "execution_count": 132,
     "metadata": {},
     "output_type": "execute_result"
    }
   ],
   "source": [
    "In [134]: arr.T"
   ]
  },
  {
   "cell_type": "code",
   "execution_count": 133,
   "id": "161052f0-fd08-4839-95bd-010450f6c3a8",
   "metadata": {},
   "outputs": [],
   "source": [
    "In [135]: arr = np.array([[0, 1, 0], [1, 2, -2], [6, 3, 2], [-1, 0, -1], [1, 0, 1\n",
    "]])"
   ]
  },
  {
   "cell_type": "code",
   "execution_count": 134,
   "id": "3497410e-04bd-432c-9ddd-92798a2c7aa1",
   "metadata": {},
   "outputs": [
    {
     "data": {
      "text/plain": [
       "array([[ 0,  1,  0],\n",
       "       [ 1,  2, -2],\n",
       "       [ 6,  3,  2],\n",
       "       [-1,  0, -1],\n",
       "       [ 1,  0,  1]])"
      ]
     },
     "execution_count": 134,
     "metadata": {},
     "output_type": "execute_result"
    }
   ],
   "source": [
    "In [136]: arr"
   ]
  },
  {
   "cell_type": "code",
   "execution_count": 135,
   "id": "4b09676d-bdc1-4841-9390-0fc6cc264814",
   "metadata": {},
   "outputs": [
    {
     "data": {
      "text/plain": [
       "array([[39, 20, 12],\n",
       "       [20, 14,  2],\n",
       "       [12,  2, 10]])"
      ]
     },
     "execution_count": 135,
     "metadata": {},
     "output_type": "execute_result"
    }
   ],
   "source": [
    "In [137]: np.dot(arr.T, arr)"
   ]
  },
  {
   "cell_type": "code",
   "execution_count": 136,
   "id": "e1ea4342-319c-4542-865c-9a0904d6a4d8",
   "metadata": {},
   "outputs": [
    {
     "data": {
      "text/plain": [
       "array([[39, 20, 12],\n",
       "       [20, 14,  2],\n",
       "       [12,  2, 10]])"
      ]
     },
     "execution_count": 136,
     "metadata": {},
     "output_type": "execute_result"
    }
   ],
   "source": [
    "In [138]: arr.T @ arr"
   ]
  },
  {
   "cell_type": "code",
   "execution_count": 137,
   "id": "2eb166e5-1368-4172-8be6-45d023fcc9ec",
   "metadata": {},
   "outputs": [
    {
     "data": {
      "text/plain": [
       "array([[ 0,  1,  0],\n",
       "       [ 1,  2, -2],\n",
       "       [ 6,  3,  2],\n",
       "       [-1,  0, -1],\n",
       "       [ 1,  0,  1]])"
      ]
     },
     "execution_count": 137,
     "metadata": {},
     "output_type": "execute_result"
    }
   ],
   "source": [
    "In [139]: arr"
   ]
  },
  {
   "cell_type": "code",
   "execution_count": 138,
   "id": "fd3790f4-046d-43ac-8f38-03eccd4e0995",
   "metadata": {},
   "outputs": [
    {
     "data": {
      "text/plain": [
       "array([[ 0,  1,  6, -1,  1],\n",
       "       [ 1,  2,  3,  0,  0],\n",
       "       [ 0, -2,  2, -1,  1]])"
      ]
     },
     "execution_count": 138,
     "metadata": {},
     "output_type": "execute_result"
    }
   ],
   "source": [
    "In [140]: arr.swapaxes(0, 1)"
   ]
  },
  {
   "cell_type": "code",
   "execution_count": null,
   "id": "69536799-60e1-4de4-9109-abc32f4fd92f",
   "metadata": {},
   "outputs": [],
   "source": []
  },
  {
   "cell_type": "code",
   "execution_count": null,
   "id": "c214aef2-7045-46b5-bf64-7826badbac63",
   "metadata": {},
   "outputs": [],
   "source": [
    "# 4.2 Pseudorandom Number Generation"
   ]
  },
  {
   "cell_type": "code",
   "execution_count": 139,
   "id": "93811b5b-bc48-4744-8de1-414787bf5eb0",
   "metadata": {},
   "outputs": [],
   "source": [
    "In [141]: samples = np.random.standard_normal(size=(4, 4))"
   ]
  },
  {
   "cell_type": "code",
   "execution_count": 140,
   "id": "d9ed437f-a267-4aae-ade8-2c946b4f95d0",
   "metadata": {},
   "outputs": [
    {
     "data": {
      "text/plain": [
       "array([[-1.42461059,  0.02966899, -1.12881681, -0.7051701 ],\n",
       "       [ 1.24390752, -1.78817036, -1.14990901, -1.96797726],\n",
       "       [-1.33498625, -0.28293145,  0.08761074, -0.85775958],\n",
       "       [ 0.66707168, -1.01655003,  0.59631691, -0.25038857]])"
      ]
     },
     "execution_count": 140,
     "metadata": {},
     "output_type": "execute_result"
    }
   ],
   "source": [
    "In [142]: samples"
   ]
  },
  {
   "cell_type": "code",
   "execution_count": 145,
   "id": "02467831-a40d-4328-9c3e-3f8e835c0818",
   "metadata": {},
   "outputs": [],
   "source": [
    "In [143]: from random import normalvariate"
   ]
  },
  {
   "cell_type": "code",
   "execution_count": 146,
   "id": "02c73f01-aab0-4c6c-9c0a-14f877d2d4c9",
   "metadata": {},
   "outputs": [],
   "source": [
    "In [144]: N = 1_000_000"
   ]
  },
  {
   "cell_type": "code",
   "execution_count": 147,
   "id": "49368724-7873-4ceb-a0c2-4731de0d1c3e",
   "metadata": {},
   "outputs": [
    {
     "name": "stdout",
     "output_type": "stream",
     "text": [
      "326 ms ± 616 μs per loop (mean ± std. dev. of 7 runs, 1 loop each)\n"
     ]
    }
   ],
   "source": [
    "In [145]: %timeit samples = [normalvariate(0, 1) for _ in range(N)]"
   ]
  },
  {
   "cell_type": "code",
   "execution_count": 148,
   "id": "85070841-c7eb-47c7-992b-ad8507a647af",
   "metadata": {},
   "outputs": [
    {
     "name": "stdout",
     "output_type": "stream",
     "text": [
      "15.2 ms ± 62 μs per loop (mean ± std. dev. of 7 runs, 100 loops each)\n"
     ]
    }
   ],
   "source": [
    "In [146]: %timeit np.random.standard_normal(N)"
   ]
  },
  {
   "cell_type": "code",
   "execution_count": 149,
   "id": "a6107b9c-4ca8-43c4-aa57-b76e6779dbaa",
   "metadata": {},
   "outputs": [],
   "source": [
    "In [147]: rng = np.random.default_rng(seed=12345)"
   ]
  },
  {
   "cell_type": "code",
   "execution_count": 150,
   "id": "263e4c8c-621b-433c-a34b-700dabcaec56",
   "metadata": {},
   "outputs": [],
   "source": [
    "In [148]: data = rng.standard_normal((2, 3))"
   ]
  },
  {
   "cell_type": "code",
   "execution_count": 151,
   "id": "d168b5f9-8298-4f8d-9dd2-5a7fc87067ff",
   "metadata": {},
   "outputs": [
    {
     "data": {
      "text/plain": [
       "numpy.random._generator.Generator"
      ]
     },
     "execution_count": 151,
     "metadata": {},
     "output_type": "execute_result"
    }
   ],
   "source": [
    "In [149]: type(rng)"
   ]
  },
  {
   "cell_type": "code",
   "execution_count": null,
   "id": "1281956d-421a-4ddb-9919-b02cb26bcd3d",
   "metadata": {},
   "outputs": [],
   "source": []
  },
  {
   "cell_type": "code",
   "execution_count": null,
   "id": "c6bb5b94-d65e-4fec-a693-f676643c6c3e",
   "metadata": {},
   "outputs": [],
   "source": [
    "# 4.3 Universal Functions: Fast Element-Wise Array Functions"
   ]
  },
  {
   "cell_type": "code",
   "execution_count": 152,
   "id": "239cdd18-0709-425d-bd34-268bbbd0a6e1",
   "metadata": {},
   "outputs": [],
   "source": [
    "In [150]: arr = np.arange(10)"
   ]
  },
  {
   "cell_type": "code",
   "execution_count": 153,
   "id": "71bc505c-90a0-4798-bb85-13dab2dfdd50",
   "metadata": {},
   "outputs": [
    {
     "data": {
      "text/plain": [
       "array([0, 1, 2, 3, 4, 5, 6, 7, 8, 9])"
      ]
     },
     "execution_count": 153,
     "metadata": {},
     "output_type": "execute_result"
    }
   ],
   "source": [
    "In [151]: arr"
   ]
  },
  {
   "cell_type": "code",
   "execution_count": 154,
   "id": "7ee149f7-86e2-499c-a13a-1fb858ff6abe",
   "metadata": {},
   "outputs": [
    {
     "data": {
      "text/plain": [
       "array([0.        , 1.        , 1.41421356, 1.73205081, 2.        ,\n",
       "       2.23606798, 2.44948974, 2.64575131, 2.82842712, 3.        ])"
      ]
     },
     "execution_count": 154,
     "metadata": {},
     "output_type": "execute_result"
    }
   ],
   "source": [
    "In [152]: np.sqrt(arr)"
   ]
  },
  {
   "cell_type": "code",
   "execution_count": 155,
   "id": "041478c6-c82d-402a-9ef8-9f7764e2e91c",
   "metadata": {},
   "outputs": [
    {
     "data": {
      "text/plain": [
       "array([1.00000000e+00, 2.71828183e+00, 7.38905610e+00, 2.00855369e+01,\n",
       "       5.45981500e+01, 1.48413159e+02, 4.03428793e+02, 1.09663316e+03,\n",
       "       2.98095799e+03, 8.10308393e+03])"
      ]
     },
     "execution_count": 155,
     "metadata": {},
     "output_type": "execute_result"
    }
   ],
   "source": [
    "In [153]: np.exp(arr)"
   ]
  },
  {
   "cell_type": "code",
   "execution_count": 156,
   "id": "563ffacd-3ead-40d2-b710-cf539aa10214",
   "metadata": {},
   "outputs": [],
   "source": [
    "In [154]: x = rng.standard_normal(8)"
   ]
  },
  {
   "cell_type": "code",
   "execution_count": 157,
   "id": "4b9f2260-ef7e-4f7b-852a-0da5e0977d6b",
   "metadata": {},
   "outputs": [],
   "source": [
    "In [155]: y = rng.standard_normal(8)"
   ]
  },
  {
   "cell_type": "code",
   "execution_count": 158,
   "id": "4604404a-cdb9-4767-bd60-5fc786d6e845",
   "metadata": {},
   "outputs": [
    {
     "data": {
      "text/plain": [
       "array([-1.3677927 ,  0.6488928 ,  0.36105811, -1.95286306,  2.34740965,\n",
       "        0.96849691, -0.75938718,  0.90219827])"
      ]
     },
     "execution_count": 158,
     "metadata": {},
     "output_type": "execute_result"
    }
   ],
   "source": [
    "In [156]: x"
   ]
  },
  {
   "cell_type": "code",
   "execution_count": 159,
   "id": "8e926d2c-6bdd-4d80-9da1-fb3d03b7e4f4",
   "metadata": {},
   "outputs": [
    {
     "data": {
      "text/plain": [
       "array([-0.46695317, -0.06068952,  0.78884434, -1.25666813,  0.57585751,\n",
       "        1.39897899,  1.32229806, -0.29969852])"
      ]
     },
     "execution_count": 159,
     "metadata": {},
     "output_type": "execute_result"
    }
   ],
   "source": [
    "In [157]: y"
   ]
  },
  {
   "cell_type": "code",
   "execution_count": 160,
   "id": "f448eab3-c301-4032-a949-0fa282b991a4",
   "metadata": {},
   "outputs": [
    {
     "data": {
      "text/plain": [
       "array([-0.46695317,  0.6488928 ,  0.78884434, -1.25666813,  2.34740965,\n",
       "        1.39897899,  1.32229806,  0.90219827])"
      ]
     },
     "execution_count": 160,
     "metadata": {},
     "output_type": "execute_result"
    }
   ],
   "source": [
    "In [158]: np.maximum(x, y)"
   ]
  },
  {
   "cell_type": "code",
   "execution_count": 161,
   "id": "97b8b56d-9a67-4b92-9b54-52aeb11fdc9f",
   "metadata": {},
   "outputs": [],
   "source": [
    "In [159]: arr = rng.standard_normal(7) * 5"
   ]
  },
  {
   "cell_type": "code",
   "execution_count": 162,
   "id": "93f72f99-1e2a-49ae-941e-5d03fe5668e8",
   "metadata": {},
   "outputs": [
    {
     "data": {
      "text/plain": [
       "array([ 4.51459671, -8.10791367, -0.7909463 ,  2.24741966, -6.71800536,\n",
       "       -0.40843795,  8.62369966])"
      ]
     },
     "execution_count": 162,
     "metadata": {},
     "output_type": "execute_result"
    }
   ],
   "source": [
    "In [160]: arr"
   ]
  },
  {
   "cell_type": "code",
   "execution_count": 163,
   "id": "1031aec2-466a-4eb5-b2c1-88c7bb497cdb",
   "metadata": {},
   "outputs": [],
   "source": [
    "In [161]: remainder, whole_part = np.modf(arr)"
   ]
  },
  {
   "cell_type": "code",
   "execution_count": 164,
   "id": "71ea21bf-651c-472d-87ad-4e4111106618",
   "metadata": {},
   "outputs": [
    {
     "data": {
      "text/plain": [
       "array([ 0.51459671, -0.10791367, -0.7909463 ,  0.24741966, -0.71800536,\n",
       "       -0.40843795,  0.62369966])"
      ]
     },
     "execution_count": 164,
     "metadata": {},
     "output_type": "execute_result"
    }
   ],
   "source": [
    "In [162]: remainder"
   ]
  },
  {
   "cell_type": "code",
   "execution_count": 165,
   "id": "3705322f-96b1-4411-9c8b-5bfa37ac5a11",
   "metadata": {},
   "outputs": [
    {
     "data": {
      "text/plain": [
       "array([ 4., -8., -0.,  2., -6., -0.,  8.])"
      ]
     },
     "execution_count": 165,
     "metadata": {},
     "output_type": "execute_result"
    }
   ],
   "source": [
    "In [163]: whole_part"
   ]
  },
  {
   "cell_type": "code",
   "execution_count": 166,
   "id": "69be9aac-562e-4383-8457-8deeb0273d43",
   "metadata": {},
   "outputs": [
    {
     "data": {
      "text/plain": [
       "array([ 4.51459671, -8.10791367, -0.7909463 ,  2.24741966, -6.71800536,\n",
       "       -0.40843795,  8.62369966])"
      ]
     },
     "execution_count": 166,
     "metadata": {},
     "output_type": "execute_result"
    }
   ],
   "source": [
    "In [164]: arr"
   ]
  },
  {
   "cell_type": "code",
   "execution_count": 167,
   "id": "4f05c673-4617-4b46-a2e8-6769cdd992ce",
   "metadata": {},
   "outputs": [],
   "source": [
    "In [165]: out = np.zeros_like(arr)"
   ]
  },
  {
   "cell_type": "code",
   "execution_count": 168,
   "id": "08dceeb0-a4a4-488b-bdfd-51b6c3a3e59d",
   "metadata": {},
   "outputs": [
    {
     "data": {
      "text/plain": [
       "array([ 5.51459671, -7.10791367,  0.2090537 ,  3.24741966, -5.71800536,\n",
       "        0.59156205,  9.62369966])"
      ]
     },
     "execution_count": 168,
     "metadata": {},
     "output_type": "execute_result"
    }
   ],
   "source": [
    "In [166]: np.add(arr, 1)"
   ]
  },
  {
   "cell_type": "code",
   "execution_count": 169,
   "id": "5924ed22-0abe-4cd2-a56b-54614bfd69b7",
   "metadata": {},
   "outputs": [
    {
     "data": {
      "text/plain": [
       "array([ 5.51459671, -7.10791367,  0.2090537 ,  3.24741966, -5.71800536,\n",
       "        0.59156205,  9.62369966])"
      ]
     },
     "execution_count": 169,
     "metadata": {},
     "output_type": "execute_result"
    }
   ],
   "source": [
    "In [167]: np.add(arr, 1, out=out)"
   ]
  },
  {
   "cell_type": "code",
   "execution_count": 170,
   "id": "34585796-58a3-49db-beb6-18b448899ba1",
   "metadata": {},
   "outputs": [
    {
     "data": {
      "text/plain": [
       "array([ 5.51459671, -7.10791367,  0.2090537 ,  3.24741966, -5.71800536,\n",
       "        0.59156205,  9.62369966])"
      ]
     },
     "execution_count": 170,
     "metadata": {},
     "output_type": "execute_result"
    }
   ],
   "source": [
    "In [168]: out"
   ]
  },
  {
   "cell_type": "code",
   "execution_count": null,
   "id": "d6e49021-0fb1-4301-9378-b5a83ab86997",
   "metadata": {},
   "outputs": [],
   "source": []
  },
  {
   "cell_type": "code",
   "execution_count": null,
   "id": "35898506-367b-4623-8a33-e1f2a1f9655c",
   "metadata": {},
   "outputs": [],
   "source": [
    "# 4.4 Array-Oriented Programming with Arrays"
   ]
  },
  {
   "cell_type": "code",
   "execution_count": 171,
   "id": "8d2c82ef-1b7c-4dea-b40a-090d088f8e0e",
   "metadata": {},
   "outputs": [],
   "source": [
    "In [169]: points = np.arange(-5, 5, 0.01) # 100 equally spaced points"
   ]
  },
  {
   "cell_type": "code",
   "execution_count": 172,
   "id": "34f00fe0-e575-4813-b51e-bb77faba079a",
   "metadata": {},
   "outputs": [],
   "source": [
    "In [170]: xs, ys = np.meshgrid(points, points)"
   ]
  },
  {
   "cell_type": "code",
   "execution_count": 173,
   "id": "35ecf6ad-1c66-418a-aa66-f5e61bf1043a",
   "metadata": {},
   "outputs": [
    {
     "data": {
      "text/plain": [
       "array([[-5.  , -5.  , -5.  , ..., -5.  , -5.  , -5.  ],\n",
       "       [-4.99, -4.99, -4.99, ..., -4.99, -4.99, -4.99],\n",
       "       [-4.98, -4.98, -4.98, ..., -4.98, -4.98, -4.98],\n",
       "       ...,\n",
       "       [ 4.97,  4.97,  4.97, ...,  4.97,  4.97,  4.97],\n",
       "       [ 4.98,  4.98,  4.98, ...,  4.98,  4.98,  4.98],\n",
       "       [ 4.99,  4.99,  4.99, ...,  4.99,  4.99,  4.99]])"
      ]
     },
     "execution_count": 173,
     "metadata": {},
     "output_type": "execute_result"
    }
   ],
   "source": [
    "In [171]: ys"
   ]
  },
  {
   "cell_type": "code",
   "execution_count": 174,
   "id": "02222d05-a022-4c9b-9de7-fa088f4f05e5",
   "metadata": {},
   "outputs": [],
   "source": [
    "In [172]: z = np.sqrt(xs ** 2 + ys ** 2)"
   ]
  },
  {
   "cell_type": "code",
   "execution_count": 175,
   "id": "3f763bdd-70b4-4a22-9c22-6434e5b5ade6",
   "metadata": {},
   "outputs": [
    {
     "data": {
      "text/plain": [
       "array([[7.07106781, 7.06400028, 7.05693985, ..., 7.04988652, 7.05693985,\n",
       "        7.06400028],\n",
       "       [7.06400028, 7.05692568, 7.04985815, ..., 7.04279774, 7.04985815,\n",
       "        7.05692568],\n",
       "       [7.05693985, 7.04985815, 7.04278354, ..., 7.03571603, 7.04278354,\n",
       "        7.04985815],\n",
       "       ...,\n",
       "       [7.04988652, 7.04279774, 7.03571603, ..., 7.0286414 , 7.03571603,\n",
       "        7.04279774],\n",
       "       [7.05693985, 7.04985815, 7.04278354, ..., 7.03571603, 7.04278354,\n",
       "        7.04985815],\n",
       "       [7.06400028, 7.05692568, 7.04985815, ..., 7.04279774, 7.04985815,\n",
       "        7.05692568]])"
      ]
     },
     "execution_count": 175,
     "metadata": {},
     "output_type": "execute_result"
    }
   ],
   "source": [
    "In [173]: z"
   ]
  },
  {
   "cell_type": "code",
   "execution_count": 186,
   "id": "c900b474-bdea-44c8-8ddb-ea03ed89b1c5",
   "metadata": {},
   "outputs": [
    {
     "data": {
      "text/plain": [
       "Text(0.5, 1.0, 'Image plot of $\\\\sqrt{x^2 + y^2}$ for a grid of values')"
      ]
     },
     "execution_count": 186,
     "metadata": {},
     "output_type": "execute_result"
    },
    {
     "data": {
      "image/png": "[encoded data removed]",
      "text/plain": [
       "<Figure size 640x480 with 2 Axes>"
      ]
     },
     "metadata": {},
     "output_type": "display_data"
    }
   ],
   "source": [
    "In [174]: import matplotlib.pyplot as plt\n",
    "In [175]: plt.imshow(z, cmap=plt.cm.gray, extent=[-5, 5, -5, 5])\n",
    "In [176]: plt.colorbar()\n",
    "In [177]: plt.title(\"Image plot of $\\\\sqrt{x^2 + y^2}$ for a grid of values\")"
   ]
  },
  {
   "cell_type": "code",
   "execution_count": 187,
   "id": "efdf07d9-91f2-49e1-b1e7-1733c6d2bb4f",
   "metadata": {},
   "outputs": [
    {
     "data": {
      "text/plain": [
       "<Figure size 640x480 with 0 Axes>"
      ]
     },
     "metadata": {},
     "output_type": "display_data"
    }
   ],
   "source": [
    "In [178]:plt.draw()"
   ]
  },
  {
   "cell_type": "code",
   "execution_count": 188,
   "id": "91974b18-26c4-4b46-b42f-8453a4d2103f",
   "metadata": {},
   "outputs": [],
   "source": [
    "In [179]: plt.close(\"all\")"
   ]
  },
  {
   "cell_type": "code",
   "execution_count": 190,
   "id": "30db894c-c1e3-42eb-aee1-e635bbe9d66d",
   "metadata": {},
   "outputs": [],
   "source": [
    "In [180]: xarr = np.array([1.1, 1.2, 1.3, 1.4, 1.5])\n",
    "\n",
    "In [181]: yarr = np.array([2.1, 2.2, 2.3, 2.4, 2.5])\n",
    "\n",
    "In [182]: cond = np.array([True, False, True, True, False])\n"
   ]
  },
  {
   "cell_type": "code",
   "execution_count": 191,
   "id": "ca523bd4-0507-4427-b85d-2fbee26c2a83",
   "metadata": {},
   "outputs": [
    {
     "data": {
      "text/plain": [
       "[np.float64(1.1),\n",
       " np.float64(2.2),\n",
       " np.float64(1.3),\n",
       " np.float64(1.4),\n",
       " np.float64(2.5)]"
      ]
     },
     "execution_count": 191,
     "metadata": {},
     "output_type": "execute_result"
    }
   ],
   "source": [
    "In [183]: result = [(x if c else y)\n",
    "   .....:           for x, y, c in zip(xarr, yarr, cond)]\n",
    "\n",
    "In [184]: result"
   ]
  },
  {
   "cell_type": "code",
   "execution_count": 194,
   "id": "6ad6392f-b269-4228-b798-6a90853b316f",
   "metadata": {},
   "outputs": [
    {
     "data": {
      "text/plain": [
       "array([1.1, 2.2, 1.3, 1.4, 2.5])"
      ]
     },
     "execution_count": 194,
     "metadata": {},
     "output_type": "execute_result"
    }
   ],
   "source": [
    "In [185]: result = np.where(cond, xarr, yarr)\n",
    "\n",
    "In [186]: result"
   ]
  },
  {
   "cell_type": "code",
   "execution_count": 195,
   "id": "e19fff52-2180-4625-a73a-9b3ed5286fa6",
   "metadata": {},
   "outputs": [],
   "source": [
    "In [187]: arr = rng.standard_normal((4, 4))"
   ]
  },
  {
   "cell_type": "code",
   "execution_count": 196,
   "id": "ab3b3ac5-fc3c-474c-a05c-2b5c970ff185",
   "metadata": {},
   "outputs": [
    {
     "data": {
      "text/plain": [
       "array([[ 2.61815943,  0.77736134,  0.8286332 , -0.95898831],\n",
       "       [-1.20938829, -1.41229201,  0.54154683,  0.7519394 ],\n",
       "       [-0.65876032, -1.22867499,  0.25755777,  0.31290292],\n",
       "       [-0.13081169,  1.26998312, -0.09296246, -0.06615089]])"
      ]
     },
     "execution_count": 196,
     "metadata": {},
     "output_type": "execute_result"
    }
   ],
   "source": [
    "In [188]: arr"
   ]
  },
  {
   "cell_type": "code",
   "execution_count": 197,
   "id": "39017d56-83ed-4aca-9b3a-2873ed22af55",
   "metadata": {},
   "outputs": [
    {
     "data": {
      "text/plain": [
       "array([[ True,  True,  True, False],\n",
       "       [False, False,  True,  True],\n",
       "       [False, False,  True,  True],\n",
       "       [False,  True, False, False]])"
      ]
     },
     "execution_count": 197,
     "metadata": {},
     "output_type": "execute_result"
    }
   ],
   "source": [
    "In [189]: arr > 0"
   ]
  },
  {
   "cell_type": "code",
   "execution_count": 198,
   "id": "d9b5ff4d-7efc-40fa-9072-e492c7779074",
   "metadata": {},
   "outputs": [
    {
     "data": {
      "text/plain": [
       "array([[ 2,  2,  2, -2],\n",
       "       [-2, -2,  2,  2],\n",
       "       [-2, -2,  2,  2],\n",
       "       [-2,  2, -2, -2]])"
      ]
     },
     "execution_count": 198,
     "metadata": {},
     "output_type": "execute_result"
    }
   ],
   "source": [
    "In [190]: np.where(arr > 0, 2, -2)"
   ]
  },
  {
   "cell_type": "code",
   "execution_count": 199,
   "id": "20af39a6-28e4-479c-b4b4-72a2ec055f8b",
   "metadata": {},
   "outputs": [
    {
     "data": {
      "text/plain": [
       "array([[ 2.        ,  2.        ,  2.        , -0.95898831],\n",
       "       [-1.20938829, -1.41229201,  2.        ,  2.        ],\n",
       "       [-0.65876032, -1.22867499,  2.        ,  2.        ],\n",
       "       [-0.13081169,  2.        , -0.09296246, -0.06615089]])"
      ]
     },
     "execution_count": 199,
     "metadata": {},
     "output_type": "execute_result"
    }
   ],
   "source": [
    "In [191]: np.where(arr > 0, 2, arr) # set only positive values to 2"
   ]
  },
  {
   "cell_type": "code",
   "execution_count": 200,
   "id": "a2ed3b6c-bb52-4526-bd8b-3316386939cb",
   "metadata": {},
   "outputs": [],
   "source": [
    "In [192]: arr = rng.standard_normal((5, 4))"
   ]
  },
  {
   "cell_type": "code",
   "execution_count": 201,
   "id": "3b1dc00d-0afe-42d0-b1d6-3a90b25bc3da",
   "metadata": {},
   "outputs": [
    {
     "data": {
      "text/plain": [
       "array([[-1.10821447,  0.13595685,  1.34707776,  0.06114402],\n",
       "       [ 0.0709146 ,  0.43365454,  0.27748366,  0.53025239],\n",
       "       [ 0.53672097,  0.61835001, -0.79501746,  0.30003095],\n",
       "       [-1.60270159,  0.26679883, -1.26162378, -0.07127081],\n",
       "       [ 0.47404973, -0.41485376,  0.0977165 , -1.64041784]])"
      ]
     },
     "execution_count": 201,
     "metadata": {},
     "output_type": "execute_result"
    }
   ],
   "source": [
    "In [193]: arr"
   ]
  },
  {
   "cell_type": "code",
   "execution_count": 202,
   "id": "e4a35387-6f6f-4aaf-ab7c-fb1c1c73ff89",
   "metadata": {},
   "outputs": [
    {
     "data": {
      "text/plain": [
       "np.float64(-0.08719744457434529)"
      ]
     },
     "execution_count": 202,
     "metadata": {},
     "output_type": "execute_result"
    }
   ],
   "source": [
    "In [194]: arr.mean()"
   ]
  },
  {
   "cell_type": "code",
   "execution_count": 203,
   "id": "1c1ef8be-1e0c-4dcf-b000-d0e7afd187a8",
   "metadata": {},
   "outputs": [
    {
     "data": {
      "text/plain": [
       "np.float64(-0.08719744457434529)"
      ]
     },
     "execution_count": 203,
     "metadata": {},
     "output_type": "execute_result"
    }
   ],
   "source": [
    "In [195]: np.mean(arr)"
   ]
  },
  {
   "cell_type": "code",
   "execution_count": 204,
   "id": "46451ecc-9339-47fd-8a25-ff10aae677cd",
   "metadata": {},
   "outputs": [
    {
     "data": {
      "text/plain": [
       "np.float64(-1.743948891486906)"
      ]
     },
     "execution_count": 204,
     "metadata": {},
     "output_type": "execute_result"
    }
   ],
   "source": [
    "In [196]: arr.sum()"
   ]
  },
  {
   "cell_type": "code",
   "execution_count": 205,
   "id": "28230b83-54ad-4b64-9fbc-61aa844e6e21",
   "metadata": {},
   "outputs": [
    {
     "data": {
      "text/plain": [
       "array([ 0.10899104,  0.3280763 ,  0.16502112, -0.66719934, -0.37087634])"
      ]
     },
     "execution_count": 205,
     "metadata": {},
     "output_type": "execute_result"
    }
   ],
   "source": [
    "In [197]: arr.mean(axis=1)"
   ]
  },
  {
   "cell_type": "code",
   "execution_count": 206,
   "id": "fd49c41d-f295-4ea8-8f48-ed387a3f3667",
   "metadata": {},
   "outputs": [
    {
     "data": {
      "text/plain": [
       "array([-1.62923076,  1.03990647, -0.33436331, -0.82026129])"
      ]
     },
     "execution_count": 206,
     "metadata": {},
     "output_type": "execute_result"
    }
   ],
   "source": [
    "In [198]: arr.sum(axis=0)"
   ]
  },
  {
   "cell_type": "code",
   "execution_count": 207,
   "id": "496d6328-ab61-4014-b11b-f09311a7f9b1",
   "metadata": {},
   "outputs": [
    {
     "data": {
      "text/plain": [
       "array([ 0,  1,  3,  6, 10, 15, 21, 28])"
      ]
     },
     "execution_count": 207,
     "metadata": {},
     "output_type": "execute_result"
    }
   ],
   "source": [
    "In [199]: arr = np.array([0, 1, 2, 3, 4, 5, 6, 7])\n",
    "\n",
    "In [200]: arr.cumsum()"
   ]
  },
  {
   "cell_type": "code",
   "execution_count": 208,
   "id": "601a8325-8761-47b2-af01-f5ecf05ad8d5",
   "metadata": {},
   "outputs": [
    {
     "data": {
      "text/plain": [
       "array([[0, 1, 2],\n",
       "       [3, 4, 5],\n",
       "       [6, 7, 8]])"
      ]
     },
     "execution_count": 208,
     "metadata": {},
     "output_type": "execute_result"
    }
   ],
   "source": [
    "In [201]: arr = np.array([[0, 1, 2], [3, 4, 5], [6, 7, 8]])\n",
    "\n",
    "In [202]: arr"
   ]
  },
  {
   "cell_type": "code",
   "execution_count": 209,
   "id": "a5c36bfc-2779-4c40-8ab8-4eca94d4bb81",
   "metadata": {},
   "outputs": [
    {
     "data": {
      "text/plain": [
       "array([[ 0,  1,  2],\n",
       "       [ 3,  5,  7],\n",
       "       [ 9, 12, 15]])"
      ]
     },
     "execution_count": 209,
     "metadata": {},
     "output_type": "execute_result"
    }
   ],
   "source": [
    "In [203]: arr.cumsum(axis=0)"
   ]
  },
  {
   "cell_type": "code",
   "execution_count": 210,
   "id": "6e5ee75a-b8ef-45dc-ae68-0af132aaeea8",
   "metadata": {},
   "outputs": [
    {
     "data": {
      "text/plain": [
       "array([[ 0,  1,  3],\n",
       "       [ 3,  7, 12],\n",
       "       [ 6, 13, 21]])"
      ]
     },
     "execution_count": 210,
     "metadata": {},
     "output_type": "execute_result"
    }
   ],
   "source": [
    "In [204]: arr.cumsum(axis=1)"
   ]
  },
  {
   "cell_type": "code",
   "execution_count": 211,
   "id": "93dfe14e-ab41-4fb7-bd90-a4a4d114d8fa",
   "metadata": {},
   "outputs": [
    {
     "data": {
      "text/plain": [
       "np.int64(48)"
      ]
     },
     "execution_count": 211,
     "metadata": {},
     "output_type": "execute_result"
    }
   ],
   "source": [
    "In [205]: arr = rng.standard_normal(100)\n",
    "\n",
    "In [206]: (arr > 0).sum() # Number of positive values"
   ]
  },
  {
   "cell_type": "code",
   "execution_count": 212,
   "id": "5fe79374-ce83-4897-9b89-284514acd0af",
   "metadata": {},
   "outputs": [
    {
     "data": {
      "text/plain": [
       "np.int64(52)"
      ]
     },
     "execution_count": 212,
     "metadata": {},
     "output_type": "execute_result"
    }
   ],
   "source": [
    "In [207]: (arr <= 0).sum() # Number of non-positive values"
   ]
  },
  {
   "cell_type": "code",
   "execution_count": 213,
   "id": "9b637045-96ec-4b79-82aa-cfb532ad68bb",
   "metadata": {},
   "outputs": [
    {
     "data": {
      "text/plain": [
       "np.True_"
      ]
     },
     "execution_count": 213,
     "metadata": {},
     "output_type": "execute_result"
    }
   ],
   "source": [
    "In [208]: bools = np.array([False, False, True, False])\n",
    "\n",
    "In [209]: bools.any()"
   ]
  },
  {
   "cell_type": "code",
   "execution_count": 214,
   "id": "56df6716-8e50-441d-8cfa-cb12347e60c0",
   "metadata": {},
   "outputs": [
    {
     "data": {
      "text/plain": [
       "np.False_"
      ]
     },
     "execution_count": 214,
     "metadata": {},
     "output_type": "execute_result"
    }
   ],
   "source": [
    "In [210]: bools.all()"
   ]
  },
  {
   "cell_type": "code",
   "execution_count": 216,
   "id": "a8549e8b-5d50-47e5-8f09-54290f0b85d9",
   "metadata": {},
   "outputs": [
    {
     "data": {
      "text/plain": [
       "array([ 0.9359865 ,  1.23853712,  1.27279553,  0.40589222, -0.05032522,\n",
       "        0.28931754])"
      ]
     },
     "execution_count": 216,
     "metadata": {},
     "output_type": "execute_result"
    }
   ],
   "source": [
    "In [211]: arr = rng.standard_normal(6)\n",
    "\n",
    "In [212]: arr"
   ]
  },
  {
   "cell_type": "code",
   "execution_count": 217,
   "id": "33d22478-08e5-4db3-bbd0-6d367ce6e1c3",
   "metadata": {},
   "outputs": [
    {
     "data": {
      "text/plain": [
       "array([-0.05032522,  0.28931754,  0.40589222,  0.9359865 ,  1.23853712,\n",
       "        1.27279553])"
      ]
     },
     "execution_count": 217,
     "metadata": {},
     "output_type": "execute_result"
    }
   ],
   "source": [
    "In [213]: arr.sort()\n",
    "\n",
    "In [214]: arr"
   ]
  },
  {
   "cell_type": "code",
   "execution_count": 218,
   "id": "de9b3d24-6b9d-4578-8483-68bb8895db34",
   "metadata": {},
   "outputs": [
    {
     "data": {
      "text/plain": [
       "array([[ 0.17930568,  1.39748056,  0.29204679],\n",
       "       [ 0.63840567, -0.02788771,  1.37105185],\n",
       "       [-2.05280763,  0.38050908,  0.75539067],\n",
       "       [-1.15912585,  2.15031011, -0.15027022],\n",
       "       [-0.16116428, -1.07944248,  0.87796618]])"
      ]
     },
     "execution_count": 218,
     "metadata": {},
     "output_type": "execute_result"
    }
   ],
   "source": [
    "In [215]: arr = rng.standard_normal((5, 3))\n",
    "\n",
    "In [216]: arr"
   ]
  },
  {
   "cell_type": "code",
   "execution_count": 219,
   "id": "fae4cfbf-d8b8-479f-be8c-d826f181d400",
   "metadata": {},
   "outputs": [
    {
     "data": {
      "text/plain": [
       "array([[-2.05280763, -1.07944248, -0.15027022],\n",
       "       [-1.15912585, -0.02788771,  0.29204679],\n",
       "       [-0.16116428,  0.38050908,  0.75539067],\n",
       "       [ 0.17930568,  1.39748056,  0.87796618],\n",
       "       [ 0.63840567,  2.15031011,  1.37105185]])"
      ]
     },
     "execution_count": 219,
     "metadata": {},
     "output_type": "execute_result"
    }
   ],
   "source": [
    "In [217]: arr.sort(axis=0)\n",
    "\n",
    "In [218]: arr"
   ]
  },
  {
   "cell_type": "code",
   "execution_count": 220,
   "id": "4137cfe4-e306-410d-9400-057a822fdbb1",
   "metadata": {},
   "outputs": [
    {
     "data": {
      "text/plain": [
       "array([[-2.05280763, -1.07944248, -0.15027022],\n",
       "       [-1.15912585, -0.02788771,  0.29204679],\n",
       "       [-0.16116428,  0.38050908,  0.75539067],\n",
       "       [ 0.17930568,  0.87796618,  1.39748056],\n",
       "       [ 0.63840567,  1.37105185,  2.15031011]])"
      ]
     },
     "execution_count": 220,
     "metadata": {},
     "output_type": "execute_result"
    }
   ],
   "source": [
    "In [219]: arr.sort(axis=1)\n",
    "\n",
    "In [220]: arr"
   ]
  },
  {
   "cell_type": "code",
   "execution_count": 221,
   "id": "a33a0385-58d3-4754-95bf-ba3420b094c5",
   "metadata": {},
   "outputs": [
    {
     "data": {
      "text/plain": [
       "array([-10,  -3,   0,   1,   5,   7])"
      ]
     },
     "execution_count": 221,
     "metadata": {},
     "output_type": "execute_result"
    }
   ],
   "source": [
    "In [221]: arr2 = np.array([5, -10, 7, 1, 0, -3])\n",
    "\n",
    "In [222]: sorted_arr2 = np.sort(arr2)\n",
    "\n",
    "In [223]: sorted_arr2"
   ]
  },
  {
   "cell_type": "code",
   "execution_count": 222,
   "id": "e25eb141-ab98-4210-960f-0f1dbae2bd1f",
   "metadata": {},
   "outputs": [
    {
     "data": {
      "text/plain": [
       "array(['Bob', 'Joe', 'Will'], dtype='<U4')"
      ]
     },
     "execution_count": 222,
     "metadata": {},
     "output_type": "execute_result"
    }
   ],
   "source": [
    "In [224]: names = np.array([\"Bob\", \"Will\", \"Joe\", \"Bob\", \"Will\", \"Joe\", \"Joe\"])\n",
    "\n",
    "In [225]: np.unique(names)"
   ]
  },
  {
   "cell_type": "code",
   "execution_count": 223,
   "id": "8cb529c4-a8e0-4b37-bfe2-23b28940dea0",
   "metadata": {},
   "outputs": [
    {
     "data": {
      "text/plain": [
       "array([1, 2, 3, 4])"
      ]
     },
     "execution_count": 223,
     "metadata": {},
     "output_type": "execute_result"
    }
   ],
   "source": [
    "In [226]: ints = np.array([3, 3, 3, 2, 2, 1, 1, 4, 4])\n",
    "\n",
    "In [227]: np.unique(ints)"
   ]
  },
  {
   "cell_type": "code",
   "execution_count": 224,
   "id": "bdb3b3db-b88e-45ad-a514-d6afbcb8a3e3",
   "metadata": {},
   "outputs": [
    {
     "data": {
      "text/plain": [
       "[np.str_('Bob'), np.str_('Joe'), np.str_('Will')]"
      ]
     },
     "execution_count": 224,
     "metadata": {},
     "output_type": "execute_result"
    }
   ],
   "source": [
    "In [228]: sorted(set(names))"
   ]
  },
  {
   "cell_type": "code",
   "execution_count": 228,
   "id": "79c6f5ec-7230-4674-a40b-9c189310b38a",
   "metadata": {},
   "outputs": [
    {
     "data": {
      "text/plain": [
       "array([ True, False, False,  True,  True, False,  True])"
      ]
     },
     "execution_count": 228,
     "metadata": {},
     "output_type": "execute_result"
    }
   ],
   "source": [
    "In [229]: values = np.array([6, 0, 0, 3, 2, 5, 6])\n",
    "\n",
    "In [230]: np.isin(values, [2, 3, 6])"
   ]
  },
  {
   "cell_type": "code",
   "execution_count": null,
   "id": "d1a4caef-3606-474c-83a5-85ef4bb4b19d",
   "metadata": {},
   "outputs": [],
   "source": []
  },
  {
   "cell_type": "code",
   "execution_count": null,
   "id": "e1cee289-919e-4d29-a2eb-dc835cfca9bb",
   "metadata": {},
   "outputs": [],
   "source": [
    "# 4.5 File Input and Output with Arrays"
   ]
  },
  {
   "cell_type": "code",
   "execution_count": 231,
   "id": "c2beec38-2591-41fd-acbb-9fcfdbc470c7",
   "metadata": {},
   "outputs": [],
   "source": [
    "In [231]: arr = np.arange(10)\n",
    "\n",
    "In [232]: np.save(\"some_array\", arr)                          "
   ]
  },
  {
   "cell_type": "code",
   "execution_count": 232,
   "id": "d837afd5-48f5-4a78-8e00-ff8c3b4ba9bc",
   "metadata": {},
   "outputs": [
    {
     "data": {
      "text/plain": [
       "array([0, 1, 2, 3, 4, 5, 6, 7, 8, 9])"
      ]
     },
     "execution_count": 232,
     "metadata": {},
     "output_type": "execute_result"
    }
   ],
   "source": [
    "In [233]: np.load(\"some_array.npy\")"
   ]
  },
  {
   "cell_type": "code",
   "execution_count": 233,
   "id": "a469bddb-03ca-4e95-a625-8431ba797388",
   "metadata": {},
   "outputs": [],
   "source": [
    "In [234]: np.savez(\"array_archive.npz\", a=arr, b=arr)"
   ]
  },
  {
   "cell_type": "code",
   "execution_count": 234,
   "id": "d22c9057-576a-4bc5-9fa0-3848e738431a",
   "metadata": {},
   "outputs": [
    {
     "data": {
      "text/plain": [
       "array([0, 1, 2, 3, 4, 5, 6, 7, 8, 9])"
      ]
     },
     "execution_count": 234,
     "metadata": {},
     "output_type": "execute_result"
    }
   ],
   "source": [
    "In [235]: arch = np.load(\"array_archive.npz\")\n",
    "\n",
    "In [236]: arch[\"b\"]"
   ]
  },
  {
   "cell_type": "code",
   "execution_count": 235,
   "id": "c7e79fb5-aa84-4a09-afda-7018ebbb797c",
   "metadata": {},
   "outputs": [],
   "source": [
    "In [237]: np.savez_compressed(\"arrays_compressed.npz\", a=arr, b=arr)"
   ]
  },
  {
   "cell_type": "code",
   "execution_count": null,
   "id": "47498615-687f-4db4-a3ae-921ce15c997b",
   "metadata": {},
   "outputs": [],
   "source": []
  },
  {
   "cell_type": "code",
   "execution_count": null,
   "id": "9ca25e29-29ba-401d-99a2-ac946c5c8464",
   "metadata": {},
   "outputs": [],
   "source": [
    "# 4.6 Linear Algebra"
   ]
  },
  {
   "cell_type": "code",
   "execution_count": 236,
   "id": "090c38b7-46aa-4f15-b421-df5df62dad3b",
   "metadata": {},
   "outputs": [
    {
     "data": {
      "text/plain": [
       "array([[1., 2., 3.],\n",
       "       [4., 5., 6.]])"
      ]
     },
     "execution_count": 236,
     "metadata": {},
     "output_type": "execute_result"
    }
   ],
   "source": [
    "In [241]: x = np.array([[1., 2., 3.], [4., 5., 6.]])\n",
    "\n",
    "In [242]: y = np.array([[6., 23.], [-1, 7], [8, 9]])\n",
    "\n",
    "In [243]: x"
   ]
  },
  {
   "cell_type": "code",
   "execution_count": 237,
   "id": "6d07a48e-04d3-4a1e-b25f-9b8c2a5458ef",
   "metadata": {},
   "outputs": [
    {
     "data": {
      "text/plain": [
       "array([[ 6., 23.],\n",
       "       [-1.,  7.],\n",
       "       [ 8.,  9.]])"
      ]
     },
     "execution_count": 237,
     "metadata": {},
     "output_type": "execute_result"
    }
   ],
   "source": [
    "In [244]: y"
   ]
  },
  {
   "cell_type": "code",
   "execution_count": 238,
   "id": "42036e75-4a6a-44a2-9d53-39c12607bf72",
   "metadata": {},
   "outputs": [
    {
     "data": {
      "text/plain": [
       "array([[ 28.,  64.],\n",
       "       [ 67., 181.]])"
      ]
     },
     "execution_count": 238,
     "metadata": {},
     "output_type": "execute_result"
    }
   ],
   "source": [
    "In [245]: x.dot(y)"
   ]
  },
  {
   "cell_type": "code",
   "execution_count": 239,
   "id": "a96fbe14-8c59-4201-ad33-a7f7ed085bd2",
   "metadata": {},
   "outputs": [
    {
     "data": {
      "text/plain": [
       "array([[ 28.,  64.],\n",
       "       [ 67., 181.]])"
      ]
     },
     "execution_count": 239,
     "metadata": {},
     "output_type": "execute_result"
    }
   ],
   "source": [
    "In [246]: np.dot(x, y)"
   ]
  },
  {
   "cell_type": "code",
   "execution_count": 240,
   "id": "fbf13430-4098-4907-82a6-18ac831ad269",
   "metadata": {},
   "outputs": [
    {
     "data": {
      "text/plain": [
       "array([ 6., 15.])"
      ]
     },
     "execution_count": 240,
     "metadata": {},
     "output_type": "execute_result"
    }
   ],
   "source": [
    "In [247]: x @ np.ones(3)"
   ]
  },
  {
   "cell_type": "code",
   "execution_count": 241,
   "id": "59c77427-c019-4e4f-97af-b1bbb4078131",
   "metadata": {},
   "outputs": [],
   "source": [
    "In [248]: from numpy.linalg import inv, qr"
   ]
  },
  {
   "cell_type": "code",
   "execution_count": 243,
   "id": "9380b872-3a1d-4839-9a7d-acba7918dc99",
   "metadata": {},
   "outputs": [
    {
     "data": {
      "text/plain": [
       "array([[ 1.60651354,  0.5741438 , -0.62687358,  0.4906876 ,  0.33186624],\n",
       "       [ 0.5741438 ,  4.09403372,  0.67255979, -2.17848759,  1.53261945],\n",
       "       [-0.62687358,  0.67255979,  0.57147096, -0.69744727,  0.18177234],\n",
       "       [ 0.4906876 , -2.17848759, -0.69744727,  1.89129983, -0.75967564],\n",
       "       [ 0.33186624,  1.53261945,  0.18177234, -0.75967564,  0.74009178]])"
      ]
     },
     "execution_count": 243,
     "metadata": {},
     "output_type": "execute_result"
    }
   ],
   "source": [
    "In [249]: X = rng.standard_normal((5, 5))\n",
    "\n",
    "In [250]: mat = X.T @ X\n",
    "\n",
    "In [251]: inv(mat)"
   ]
  },
  {
   "cell_type": "code",
   "execution_count": 244,
   "id": "4d319a49-9acb-4685-8c9b-b841c51272ef",
   "metadata": {},
   "outputs": [
    {
     "data": {
      "text/plain": [
       "array([[ 1.00000000e+00,  1.30697484e-16, -3.40423985e-16,\n",
       "         4.19718789e-16, -3.48472303e-16],\n",
       "       [-2.46154101e-16,  1.00000000e+00,  2.43635060e-16,\n",
       "         1.34487357e-16, -6.85503689e-16],\n",
       "       [-3.32254649e-16,  1.19264020e-16,  1.00000000e+00,\n",
       "         1.82988868e-16, -3.54408982e-16],\n",
       "       [-3.05096289e-16, -1.43106870e-16,  6.75738435e-16,\n",
       "         1.00000000e+00,  3.60124384e-16],\n",
       "       [ 1.48971649e-16, -6.02850869e-16, -2.24815493e-16,\n",
       "         6.42009920e-16,  1.00000000e+00]])"
      ]
     },
     "execution_count": 244,
     "metadata": {},
     "output_type": "execute_result"
    }
   ],
   "source": [
    "In [252]: mat @ inv(mat)"
   ]
  },
  {
   "cell_type": "code",
   "execution_count": null,
   "id": "b67e4568-6127-4b06-84b4-2a3cec31ede6",
   "metadata": {},
   "outputs": [],
   "source": []
  },
  {
   "cell_type": "code",
   "execution_count": null,
   "id": "6f9c2e4c-175d-4e7e-84c7-3d8dd2838111",
   "metadata": {},
   "outputs": [],
   "source": [
    "# 4.7 Example: Random Walks"
   ]
  },
  {
   "cell_type": "code",
   "execution_count": 246,
   "id": "71264828-fbee-4c6c-bf89-2c1a44f8a5ad",
   "metadata": {},
   "outputs": [],
   "source": [
    "#! blockstart\n",
    "import random\n",
    "position = 0\n",
    "walk = [position]\n",
    "nsteps = 1000\n",
    "for _ in range(nsteps):\n",
    "    step = 1 if random.randint(0, 1) else -1\n",
    "    position += step\n",
    "    walk.append(position)\n",
    "#! blockend"
   ]
  },
  {
   "cell_type": "code",
   "execution_count": 247,
   "id": "a3719f70-0513-4c9f-b1dc-92667afe8a9d",
   "metadata": {},
   "outputs": [
    {
     "data": {
      "text/plain": [
       "[<matplotlib.lines.Line2D at 0x12e0ae8d0>]"
      ]
     },
     "execution_count": 247,
     "metadata": {},
     "output_type": "execute_result"
    },
    {
     "data": {
      "image/png": "[encoded data removed]",
      "text/plain": [
       "<Figure size 640x480 with 1 Axes>"
      ]
     },
     "metadata": {},
     "output_type": "display_data"
    }
   ],
   "source": [
    "In [255]: plt.plot(walk[:100])"
   ]
  },
  {
   "cell_type": "code",
   "execution_count": 248,
   "id": "ebf37691-043c-4aaa-ab83-bfd5761726e5",
   "metadata": {},
   "outputs": [],
   "source": [
    "In [256]: nsteps = 1000\n",
    "\n",
    "In [257]: rng = np.random.default_rng(seed=12345)  # fresh random generator\n",
    "\n",
    "In [258]: draws = rng.integers(0, 2, size=nsteps)\n",
    "\n",
    "In [259]: steps = np.where(draws == 0, 1, -1)\n",
    "\n",
    "In [260]: walk = steps.cumsum()"
   ]
  },
  {
   "cell_type": "code",
   "execution_count": 249,
   "id": "aff84ce5-8cb9-4962-ac17-8c6b43de1470",
   "metadata": {},
   "outputs": [
    {
     "data": {
      "text/plain": [
       "np.int64(-8)"
      ]
     },
     "execution_count": 249,
     "metadata": {},
     "output_type": "execute_result"
    }
   ],
   "source": [
    "In [261]: walk.min()"
   ]
  },
  {
   "cell_type": "code",
   "execution_count": 250,
   "id": "e53a64a6-344b-4f0d-a61b-6b7709fad02b",
   "metadata": {},
   "outputs": [
    {
     "data": {
      "text/plain": [
       "np.int64(50)"
      ]
     },
     "execution_count": 250,
     "metadata": {},
     "output_type": "execute_result"
    }
   ],
   "source": [
    "In [262]: walk.max()"
   ]
  },
  {
   "cell_type": "code",
   "execution_count": 251,
   "id": "f2b530ec-a59f-41d8-b9b3-e7c8c1ca623f",
   "metadata": {},
   "outputs": [
    {
     "data": {
      "text/plain": [
       "np.int64(155)"
      ]
     },
     "execution_count": 251,
     "metadata": {},
     "output_type": "execute_result"
    }
   ],
   "source": [
    "In [263]: (np.abs(walk) >= 10).argmax()"
   ]
  },
  {
   "cell_type": "code",
   "execution_count": 252,
   "id": "068bfefe-e6c9-4039-aef6-941b2b148668",
   "metadata": {},
   "outputs": [
    {
     "data": {
      "text/plain": [
       "array([[  1,   2,   3, ...,  22,  23,  22],\n",
       "       [  1,   0,  -1, ..., -50, -49, -48],\n",
       "       [  1,   2,   3, ...,  50,  49,  48],\n",
       "       ...,\n",
       "       [ -1,  -2,  -1, ..., -10,  -9, -10],\n",
       "       [ -1,  -2,  -3, ...,   8,   9,   8],\n",
       "       [ -1,   0,   1, ...,  -4,  -3,  -2]])"
      ]
     },
     "execution_count": 252,
     "metadata": {},
     "output_type": "execute_result"
    }
   ],
   "source": [
    "In [264]: nwalks = 5000\n",
    "\n",
    "In [265]: nsteps = 1000\n",
    "\n",
    "In [266]: draws = rng.integers(0, 2, size=(nwalks, nsteps)) # 0 or 1\n",
    "\n",
    "In [267]: steps = np.where(draws > 0, 1, -1)\n",
    "\n",
    "In [268]: walks = steps.cumsum(axis=1)\n",
    "\n",
    "In [269]: walks"
   ]
  },
  {
   "cell_type": "code",
   "execution_count": 253,
   "id": "7a7a6f77-41e9-416e-b77d-bc828bea7f0e",
   "metadata": {},
   "outputs": [
    {
     "data": {
      "text/plain": [
       "np.int64(114)"
      ]
     },
     "execution_count": 253,
     "metadata": {},
     "output_type": "execute_result"
    }
   ],
   "source": [
    "In [270]: walks.max()"
   ]
  },
  {
   "cell_type": "code",
   "execution_count": 254,
   "id": "f247218b-3108-4e30-b41e-633eb92b9a59",
   "metadata": {},
   "outputs": [
    {
     "data": {
      "text/plain": [
       "np.int64(-120)"
      ]
     },
     "execution_count": 254,
     "metadata": {},
     "output_type": "execute_result"
    }
   ],
   "source": [
    "In [271]: walks.min()"
   ]
  },
  {
   "cell_type": "code",
   "execution_count": 255,
   "id": "07b80585-2403-4729-9929-62c562b70d17",
   "metadata": {},
   "outputs": [
    {
     "data": {
      "text/plain": [
       "array([False,  True,  True, ...,  True, False,  True])"
      ]
     },
     "execution_count": 255,
     "metadata": {},
     "output_type": "execute_result"
    }
   ],
   "source": [
    "In [272]: hits30 = (np.abs(walks) >= 30).any(axis=1)\n",
    "\n",
    "In [273]: hits30"
   ]
  },
  {
   "cell_type": "code",
   "execution_count": 256,
   "id": "7369ca87-c511-4774-b2a3-c067019a51c9",
   "metadata": {},
   "outputs": [
    {
     "data": {
      "text/plain": [
       "np.int64(3395)"
      ]
     },
     "execution_count": 256,
     "metadata": {},
     "output_type": "execute_result"
    }
   ],
   "source": [
    "In [274]: hits30.sum() # Number that hit 30 or -30"
   ]
  },
  {
   "cell_type": "code",
   "execution_count": 257,
   "id": "07c638a6-3bf5-4f13-bf8c-db45df36ff37",
   "metadata": {},
   "outputs": [
    {
     "data": {
      "text/plain": [
       "array([201, 491, 283, ..., 219, 259, 541])"
      ]
     },
     "execution_count": 257,
     "metadata": {},
     "output_type": "execute_result"
    }
   ],
   "source": [
    "In [275]: crossing_times = (np.abs(walks[hits30]) >= 30).argmax(axis=1)\n",
    "\n",
    "In [276]: crossing_times"
   ]
  },
  {
   "cell_type": "code",
   "execution_count": 258,
   "id": "8f475bcb-bedc-43c9-8ee7-834568325cd9",
   "metadata": {},
   "outputs": [
    {
     "data": {
      "text/plain": [
       "np.float64(500.5699558173785)"
      ]
     },
     "execution_count": 258,
     "metadata": {},
     "output_type": "execute_result"
    }
   ],
   "source": [
    "In [277]: crossing_times.mean()"
   ]
  },
  {
   "cell_type": "code",
   "execution_count": 259,
   "id": "4a3f8559-9b03-479c-86a4-ac86785badea",
   "metadata": {},
   "outputs": [],
   "source": [
    "In [278]: draws = 0.25 * rng.standard_normal((nwalks, nsteps))"
   ]
  },
  {
   "cell_type": "code",
   "execution_count": null,
   "id": "898b7940-e979-40d5-b482-717736149e54",
   "metadata": {},
   "outputs": [],
   "source": []
  }
 ],
 "metadata": {
  "kernelspec": {
   "display_name": "Python 3 (ipykernel)",
   "language": "python",
   "name": "python3"
  },
  "language_info": {
   "codemirror_mode": {
    "name": "ipython",
    "version": 3
   },
   "file_extension": ".py",
   "mimetype": "text/x-python",
   "name": "python",
   "nbconvert_exporter": "python",
   "pygments_lexer": "ipython3",
   "version": "3.12.5"
  }
 },
 "nbformat": 4,
 "nbformat_minor": 5
}
