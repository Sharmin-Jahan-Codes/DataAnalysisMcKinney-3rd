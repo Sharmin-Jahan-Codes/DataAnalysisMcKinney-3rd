{
 "cells": [
  {
   "cell_type": "code",
   "execution_count": 2,
   "id": "220890b3-5a99-4892-a955-4eb2f339ae34",
   "metadata": {},
   "outputs": [],
   "source": [
    "# 4.1 The NumPy ndarray: A Multidimensional Array Object\n"
   ]
  },
  {
   "cell_type": "code",
   "execution_count": null,
   "id": "58ee2dde-732a-49a8-8bae-0ad061b4fc93",
   "metadata": {},
   "outputs": [],
   "source": [
    "In [7]: import numpy as np"
   ]
  },
  {
   "cell_type": "code",
   "execution_count": 3,
   "id": "2ae6020a-c4b7-421e-ac47-4333c54a5263",
   "metadata": {},
   "outputs": [],
   "source": [
    "In [8]: my_arr = np.arange(1_000_000)"
   ]
  },
  {
   "cell_type": "code",
   "execution_count": 4,
   "id": "6ac56dc6-dbe7-4cf9-8ebc-e671bb5c2cb8",
   "metadata": {},
   "outputs": [],
   "source": [
    "In [9]: my_list = list(range(1_000_000))"
   ]
  },
  {
   "cell_type": "code",
   "execution_count": 7,
   "id": "6e17e94d-4bb7-4713-a9c9-90a8207be873",
   "metadata": {},
   "outputs": [
    {
     "name": "stdout",
     "output_type": "stream",
     "text": [
      "763 μs ± 14.2 μs per loop (mean ± std. dev. of 7 runs, 1,000 loops each)\n"
     ]
    }
   ],
   "source": [
    "In [10]: %timeit my_arr2 = my_arr * 2"
   ]
  },
  {
   "cell_type": "code",
   "execution_count": 8,
   "id": "70bed9c4-23c0-41bf-9baa-3ba6e3ff6fed",
   "metadata": {},
   "outputs": [
    {
     "name": "stdout",
     "output_type": "stream",
     "text": [
      "25.1 ms ± 616 μs per loop (mean ± std. dev. of 7 runs, 10 loops each)\n"
     ]
    }
   ],
   "source": [
    "In [11]: %timeit my_list2 = [x * 2 for x in my_list]"
   ]
  },
  {
   "cell_type": "code",
   "execution_count": 9,
   "id": "ec77a082-e8fe-48fe-af3f-f3a2a8c7cbdd",
   "metadata": {},
   "outputs": [],
   "source": [
    "In [12]: import numpy as np"
   ]
  },
  {
   "cell_type": "code",
   "execution_count": 10,
   "id": "117fd6f2-dcd9-424b-8931-2e635fb27417",
   "metadata": {},
   "outputs": [],
   "source": [
    "In [13]: data = np.array([[1.5, -0.1, 3], [0, -3, 6.5]])"
   ]
  },
  {
   "cell_type": "code",
   "execution_count": 11,
   "id": "5aa038a8-a136-44e2-ba55-6793bdaa31d5",
   "metadata": {},
   "outputs": [
    {
     "data": {
      "text/plain": [
       "array([[ 1.5, -0.1,  3. ],\n",
       "       [ 0. , -3. ,  6.5]])"
      ]
     },
     "execution_count": 11,
     "metadata": {},
     "output_type": "execute_result"
    }
   ],
   "source": [
    "In [14]: data"
   ]
  },
  {
   "cell_type": "code",
   "execution_count": 12,
   "id": "a926c08c-76b6-4f20-b5ac-ce97a319d974",
   "metadata": {},
   "outputs": [
    {
     "data": {
      "text/plain": [
       "array([[ 15.,  -1.,  30.],\n",
       "       [  0., -30.,  65.]])"
      ]
     },
     "execution_count": 12,
     "metadata": {},
     "output_type": "execute_result"
    }
   ],
   "source": [
    "In [15]: data * 10"
   ]
  },
  {
   "cell_type": "code",
   "execution_count": 13,
   "id": "07cf1c97-d89c-4205-98bb-e13ea43b6145",
   "metadata": {},
   "outputs": [
    {
     "data": {
      "text/plain": [
       "array([[ 3. , -0.2,  6. ],\n",
       "       [ 0. , -6. , 13. ]])"
      ]
     },
     "execution_count": 13,
     "metadata": {},
     "output_type": "execute_result"
    }
   ],
   "source": [
    "In [16]: data + data"
   ]
  },
  {
   "cell_type": "code",
   "execution_count": 14,
   "id": "d2dd6dbc-6b03-432d-b52b-5b1482769c2b",
   "metadata": {},
   "outputs": [
    {
     "data": {
      "text/plain": [
       "(2, 3)"
      ]
     },
     "execution_count": 14,
     "metadata": {},
     "output_type": "execute_result"
    }
   ],
   "source": [
    "In [17]: data.shape"
   ]
  },
  {
   "cell_type": "code",
   "execution_count": 15,
   "id": "ab5672d3-fe52-43fd-8b37-eee27159bb2e",
   "metadata": {},
   "outputs": [
    {
     "data": {
      "text/plain": [
       "dtype('float64')"
      ]
     },
     "execution_count": 15,
     "metadata": {},
     "output_type": "execute_result"
    }
   ],
   "source": [
    "In [18]: data.dtype"
   ]
  },
  {
   "cell_type": "code",
   "execution_count": 16,
   "id": "1135e960-1775-4939-90d4-a82a53b9b228",
   "metadata": {},
   "outputs": [],
   "source": [
    "In [19]: data1 = [6, 7.5, 8, 0, 1]"
   ]
  },
  {
   "cell_type": "code",
   "execution_count": 17,
   "id": "ba853c03-e874-402c-aafd-87385a1893fd",
   "metadata": {},
   "outputs": [],
   "source": [
    "In [20]: arr1 = np.array(data1)"
   ]
  },
  {
   "cell_type": "code",
   "execution_count": 18,
   "id": "20dc0f76-7f18-4b97-a584-cbd866ad6091",
   "metadata": {},
   "outputs": [
    {
     "data": {
      "text/plain": [
       "array([6. , 7.5, 8. , 0. , 1. ])"
      ]
     },
     "execution_count": 18,
     "metadata": {},
     "output_type": "execute_result"
    }
   ],
   "source": [
    "In [21]: arr1"
   ]
  },
  {
   "cell_type": "code",
   "execution_count": 19,
   "id": "bcaed08c-bbff-4128-98cf-e68107860abc",
   "metadata": {},
   "outputs": [],
   "source": [
    "In [22]: data2 = [[1, 2, 3, 4], [5, 6, 7, 8]]"
   ]
  },
  {
   "cell_type": "code",
   "execution_count": 20,
   "id": "e575efb3-f0dc-4648-9cbb-7b39af4e611f",
   "metadata": {},
   "outputs": [],
   "source": [
    "In [23]: arr2 = np.array(data2)"
   ]
  },
  {
   "cell_type": "code",
   "execution_count": 21,
   "id": "361eb3a8-baeb-40f0-8641-6e9f001ca94f",
   "metadata": {},
   "outputs": [
    {
     "data": {
      "text/plain": [
       "array([[1, 2, 3, 4],\n",
       "       [5, 6, 7, 8]])"
      ]
     },
     "execution_count": 21,
     "metadata": {},
     "output_type": "execute_result"
    }
   ],
   "source": [
    "In [24]: arr2"
   ]
  },
  {
   "cell_type": "code",
   "execution_count": 22,
   "id": "c0753cee-3348-4e03-a3bf-49932e926d92",
   "metadata": {},
   "outputs": [
    {
     "data": {
      "text/plain": [
       "2"
      ]
     },
     "execution_count": 22,
     "metadata": {},
     "output_type": "execute_result"
    }
   ],
   "source": [
    "In [25]: arr2.ndim"
   ]
  },
  {
   "cell_type": "code",
   "execution_count": 23,
   "id": "8813d467-812c-4530-8850-28e94405854d",
   "metadata": {},
   "outputs": [
    {
     "data": {
      "text/plain": [
       "(2, 4)"
      ]
     },
     "execution_count": 23,
     "metadata": {},
     "output_type": "execute_result"
    }
   ],
   "source": [
    "In [26]: arr2.shape"
   ]
  },
  {
   "cell_type": "code",
   "execution_count": 24,
   "id": "eedbcfc6-8d34-4566-8aad-c02de2d728d9",
   "metadata": {},
   "outputs": [
    {
     "data": {
      "text/plain": [
       "dtype('float64')"
      ]
     },
     "execution_count": 24,
     "metadata": {},
     "output_type": "execute_result"
    }
   ],
   "source": [
    "In [27]: arr1.dtype"
   ]
  },
  {
   "cell_type": "code",
   "execution_count": 25,
   "id": "b74f01b9-e8ed-4038-81d5-140196f139d4",
   "metadata": {},
   "outputs": [
    {
     "data": {
      "text/plain": [
       "dtype('int64')"
      ]
     },
     "execution_count": 25,
     "metadata": {},
     "output_type": "execute_result"
    }
   ],
   "source": [
    "In [28]: arr2.dtype"
   ]
  },
  {
   "cell_type": "code",
   "execution_count": 26,
   "id": "90b9d187-8f7f-409e-ba7e-88ed83ee4edf",
   "metadata": {},
   "outputs": [
    {
     "data": {
      "text/plain": [
       "array([0., 0., 0., 0., 0., 0., 0., 0., 0., 0.])"
      ]
     },
     "execution_count": 26,
     "metadata": {},
     "output_type": "execute_result"
    }
   ],
   "source": [
    "In [29]: np.zeros(10)"
   ]
  },
  {
   "cell_type": "code",
   "execution_count": 27,
   "id": "4db2e173-434b-4958-b95b-096f28f61bc5",
   "metadata": {},
   "outputs": [
    {
     "data": {
      "text/plain": [
       "array([[0., 0., 0., 0., 0., 0.],\n",
       "       [0., 0., 0., 0., 0., 0.],\n",
       "       [0., 0., 0., 0., 0., 0.]])"
      ]
     },
     "execution_count": 27,
     "metadata": {},
     "output_type": "execute_result"
    }
   ],
   "source": [
    "In [30]: np.zeros((3, 6))"
   ]
  },
  {
   "cell_type": "code",
   "execution_count": 28,
   "id": "e381ad52-871c-4cef-b706-16d663eb6b03",
   "metadata": {},
   "outputs": [
    {
     "data": {
      "text/plain": [
       "array([[[-3.10503618e+231, -1.44663096e-315],\n",
       "        [ 2.96439388e-323,  0.00000000e+000],\n",
       "        [ 0.00000000e+000,  4.47032019e-038]],\n",
       "\n",
       "       [[ 7.73184650e-091,  1.71696216e+185],\n",
       "        [ 1.28241139e+160,  5.55149409e+170],\n",
       "        [ 3.99910963e+252,  8.34402841e-309]]])"
      ]
     },
     "execution_count": 28,
     "metadata": {},
     "output_type": "execute_result"
    }
   ],
   "source": [
    "In [31]: np.empty((2, 3, 2))"
   ]
  },
  {
   "cell_type": "code",
   "execution_count": 29,
   "id": "36dfb379-83db-4ad7-9889-57b3f3d67f21",
   "metadata": {},
   "outputs": [
    {
     "data": {
      "text/plain": [
       "array([ 0,  1,  2,  3,  4,  5,  6,  7,  8,  9, 10, 11, 12, 13, 14])"
      ]
     },
     "execution_count": 29,
     "metadata": {},
     "output_type": "execute_result"
    }
   ],
   "source": [
    "In [32]: np.arange(15)"
   ]
  },
  {
   "cell_type": "code",
   "execution_count": 30,
   "id": "f9847496-118a-4fb8-8cb3-7a79e4a2a499",
   "metadata": {},
   "outputs": [],
   "source": [
    "In [33]: arr1 = np.array([1, 2, 3], dtype=np.float64)"
   ]
  },
  {
   "cell_type": "code",
   "execution_count": 31,
   "id": "068238d4-f58f-4d61-9e27-55b321e894d3",
   "metadata": {},
   "outputs": [],
   "source": [
    "In [34]: arr2 = np.array([1, 2, 3], dtype=np.int32)"
   ]
  },
  {
   "cell_type": "code",
   "execution_count": 32,
   "id": "17958e25-dc6c-4bf3-8cfb-d00e58f69127",
   "metadata": {},
   "outputs": [
    {
     "data": {
      "text/plain": [
       "dtype('float64')"
      ]
     },
     "execution_count": 32,
     "metadata": {},
     "output_type": "execute_result"
    }
   ],
   "source": [
    "In [35]: arr1.dtype"
   ]
  },
  {
   "cell_type": "code",
   "execution_count": 33,
   "id": "216e5cb6-38f9-45a8-9fd1-d95691a15caf",
   "metadata": {},
   "outputs": [
    {
     "data": {
      "text/plain": [
       "dtype('int32')"
      ]
     },
     "execution_count": 33,
     "metadata": {},
     "output_type": "execute_result"
    }
   ],
   "source": [
    "In [36]: arr2.dtype"
   ]
  },
  {
   "cell_type": "code",
   "execution_count": 34,
   "id": "a35d98fd-2765-41f3-b7d2-b86cfed28b9c",
   "metadata": {},
   "outputs": [],
   "source": [
    "In [37]: arr = np.array([1, 2, 3, 4, 5])"
   ]
  },
  {
   "cell_type": "code",
   "execution_count": 35,
   "id": "c318944b-f67e-45c1-8585-aef8096cecaa",
   "metadata": {},
   "outputs": [
    {
     "data": {
      "text/plain": [
       "dtype('int64')"
      ]
     },
     "execution_count": 35,
     "metadata": {},
     "output_type": "execute_result"
    }
   ],
   "source": [
    "In [38]: arr.dtype"
   ]
  },
  {
   "cell_type": "code",
   "execution_count": 36,
   "id": "f80bb2a9-0eae-4b31-9de4-40ed1ee86924",
   "metadata": {},
   "outputs": [],
   "source": [
    "In [39]: float_arr = arr.astype(np.float64)"
   ]
  },
  {
   "cell_type": "code",
   "execution_count": 37,
   "id": "3e405a1d-80f8-4c00-a236-f2845508c56e",
   "metadata": {},
   "outputs": [
    {
     "data": {
      "text/plain": [
       "array([1., 2., 3., 4., 5.])"
      ]
     },
     "execution_count": 37,
     "metadata": {},
     "output_type": "execute_result"
    }
   ],
   "source": [
    "In [40]: float_arr"
   ]
  },
  {
   "cell_type": "code",
   "execution_count": 38,
   "id": "958fd6ef-5c5c-4728-85a1-101ab248548a",
   "metadata": {},
   "outputs": [
    {
     "data": {
      "text/plain": [
       "dtype('float64')"
      ]
     },
     "execution_count": 38,
     "metadata": {},
     "output_type": "execute_result"
    }
   ],
   "source": [
    "In [41]: float_arr.dtype"
   ]
  },
  {
   "cell_type": "code",
   "execution_count": 39,
   "id": "2bf4f3d9-12fc-437e-bf4c-0a0141faf359",
   "metadata": {},
   "outputs": [],
   "source": [
    "In [42]: arr = np.array([3.7, -1.2, -2.6, 0.5, 12.9, 10.1])"
   ]
  },
  {
   "cell_type": "code",
   "execution_count": 40,
   "id": "e200a4d2-492e-4daf-9b6d-42c8c9f4990b",
   "metadata": {},
   "outputs": [
    {
     "data": {
      "text/plain": [
       "array([ 3.7, -1.2, -2.6,  0.5, 12.9, 10.1])"
      ]
     },
     "execution_count": 40,
     "metadata": {},
     "output_type": "execute_result"
    }
   ],
   "source": [
    "In [43]: arr"
   ]
  },
  {
   "cell_type": "code",
   "execution_count": 41,
   "id": "0d23689a-cffb-41d5-ace0-aa739a6b1ca8",
   "metadata": {},
   "outputs": [
    {
     "data": {
      "text/plain": [
       "array([ 3, -1, -2,  0, 12, 10], dtype=int32)"
      ]
     },
     "execution_count": 41,
     "metadata": {},
     "output_type": "execute_result"
    }
   ],
   "source": [
    "In [44]: arr.astype(np.int32)"
   ]
  },
  {
   "cell_type": "code",
   "execution_count": 60,
   "id": "9fdee0db-a09a-4b14-90c7-600c13b3da76",
   "metadata": {},
   "outputs": [
    {
     "data": {
      "text/plain": [
       "array([ 1.25, -9.6 , 42.  ])"
      ]
     },
     "execution_count": 60,
     "metadata": {},
     "output_type": "execute_result"
    }
   ],
   "source": [
    "numeric_strings = np.array([\"1.25\", \"-9.6\", \"42\"], dtype=np.str_)\n",
    "numeric_strings.astype(float)"
   ]
  },
  {
   "cell_type": "code",
   "execution_count": 44,
   "id": "2ebc7b5e-306f-498c-a67b-0409d328b610",
   "metadata": {},
   "outputs": [],
   "source": [
    "In [47]: int_array = np.arange(10)"
   ]
  },
  {
   "cell_type": "code",
   "execution_count": 45,
   "id": "cc70496b-1e07-4809-99e9-09f7b8c58ea8",
   "metadata": {},
   "outputs": [],
   "source": [
    "In [48]: calibers = np.array([.22, .270, .357, .380, .44, .50], dtype=np.float64)"
   ]
  },
  {
   "cell_type": "code",
   "execution_count": 46,
   "id": "e647eba6-fbb2-4700-b605-69f029742b0c",
   "metadata": {},
   "outputs": [
    {
     "data": {
      "text/plain": [
       "array([0., 1., 2., 3., 4., 5., 6., 7., 8., 9.])"
      ]
     },
     "execution_count": 46,
     "metadata": {},
     "output_type": "execute_result"
    }
   ],
   "source": [
    "In [49]: int_array.astype(calibers.dtype)"
   ]
  },
  {
   "cell_type": "code",
   "execution_count": 47,
   "id": "13238af7-39f3-48b4-b4ff-1777d150962c",
   "metadata": {},
   "outputs": [],
   "source": [
    "In [50]: zeros_uint32 = np.zeros(8, dtype=\"u4\")"
   ]
  },
  {
   "cell_type": "code",
   "execution_count": 48,
   "id": "eeaaaf19-3ad6-43c8-997b-5d9e03997397",
   "metadata": {},
   "outputs": [
    {
     "data": {
      "text/plain": [
       "array([0, 0, 0, 0, 0, 0, 0, 0], dtype=uint32)"
      ]
     },
     "execution_count": 48,
     "metadata": {},
     "output_type": "execute_result"
    }
   ],
   "source": [
    "In [51]: zeros_uint32"
   ]
  },
  {
   "cell_type": "code",
   "execution_count": 49,
   "id": "b8d6faf3-e395-410e-9c5c-59fbd7a9d222",
   "metadata": {},
   "outputs": [],
   "source": [
    "In [52]: arr = np.array([[1., 2., 3.], [4., 5., 6.]])"
   ]
  },
  {
   "cell_type": "code",
   "execution_count": 50,
   "id": "29d19a8f-02ed-4882-8f27-30dca69bf786",
   "metadata": {},
   "outputs": [
    {
     "data": {
      "text/plain": [
       "array([[1., 2., 3.],\n",
       "       [4., 5., 6.]])"
      ]
     },
     "execution_count": 50,
     "metadata": {},
     "output_type": "execute_result"
    }
   ],
   "source": [
    "In [53]: arr"
   ]
  },
  {
   "cell_type": "code",
   "execution_count": 51,
   "id": "08b9f1c5-320a-4475-8500-318b3b7f75e0",
   "metadata": {},
   "outputs": [
    {
     "data": {
      "text/plain": [
       "array([[ 1.,  4.,  9.],\n",
       "       [16., 25., 36.]])"
      ]
     },
     "execution_count": 51,
     "metadata": {},
     "output_type": "execute_result"
    }
   ],
   "source": [
    "In [54]: arr * arr"
   ]
  },
  {
   "cell_type": "code",
   "execution_count": 52,
   "id": "56e94732-8b0e-41e6-8c69-41591f71a610",
   "metadata": {},
   "outputs": [
    {
     "data": {
      "text/plain": [
       "array([[0., 0., 0.],\n",
       "       [0., 0., 0.]])"
      ]
     },
     "execution_count": 52,
     "metadata": {},
     "output_type": "execute_result"
    }
   ],
   "source": [
    "In [55]: arr - arr"
   ]
  },
  {
   "cell_type": "code",
   "execution_count": 53,
   "id": "4cb13889-cf40-49d0-868b-1c1c4e626e6d",
   "metadata": {},
   "outputs": [
    {
     "data": {
      "text/plain": [
       "array([[1.        , 0.5       , 0.33333333],\n",
       "       [0.25      , 0.2       , 0.16666667]])"
      ]
     },
     "execution_count": 53,
     "metadata": {},
     "output_type": "execute_result"
    }
   ],
   "source": [
    "In [56]: 1 / arr"
   ]
  },
  {
   "cell_type": "code",
   "execution_count": 54,
   "id": "ab79d631-7cf0-4578-99fd-ae1928e91cec",
   "metadata": {},
   "outputs": [
    {
     "data": {
      "text/plain": [
       "array([[ 1.,  4.,  9.],\n",
       "       [16., 25., 36.]])"
      ]
     },
     "execution_count": 54,
     "metadata": {},
     "output_type": "execute_result"
    }
   ],
   "source": [
    "In [57]: arr ** 2"
   ]
  },
  {
   "cell_type": "code",
   "execution_count": 55,
   "id": "dc448476-2c62-4e55-ac8b-60fe57a36965",
   "metadata": {},
   "outputs": [],
   "source": [
    "In [58]: arr2 = np.array([[0., 4., 1.], [7., 2., 12.]])"
   ]
  },
  {
   "cell_type": "code",
   "execution_count": 56,
   "id": "d546472e-ce65-42f2-881f-ff127c19b5b5",
   "metadata": {},
   "outputs": [
    {
     "data": {
      "text/plain": [
       "array([[ 0.,  4.,  1.],\n",
       "       [ 7.,  2., 12.]])"
      ]
     },
     "execution_count": 56,
     "metadata": {},
     "output_type": "execute_result"
    }
   ],
   "source": [
    "In [59]: arr2"
   ]
  },
  {
   "cell_type": "code",
   "execution_count": 57,
   "id": "7f0f314d-c9c5-4b73-945b-1c88e2a98475",
   "metadata": {},
   "outputs": [
    {
     "data": {
      "text/plain": [
       "array([[False,  True, False],\n",
       "       [ True, False,  True]])"
      ]
     },
     "execution_count": 57,
     "metadata": {},
     "output_type": "execute_result"
    }
   ],
   "source": [
    "In [60]: arr2 > arr"
   ]
  },
  {
   "cell_type": "code",
   "execution_count": 58,
   "id": "b4559fb7-a8f4-466b-9595-15c44f027488",
   "metadata": {},
   "outputs": [],
   "source": [
    "In [61]: arr = np.arange(10)"
   ]
  },
  {
   "cell_type": "code",
   "execution_count": 59,
   "id": "a096c2b6-b72d-4181-b939-6ed2c3369a6a",
   "metadata": {},
   "outputs": [
    {
     "data": {
      "text/plain": [
       "array([0, 1, 2, 3, 4, 5, 6, 7, 8, 9])"
      ]
     },
     "execution_count": 59,
     "metadata": {},
     "output_type": "execute_result"
    }
   ],
   "source": [
    "In [62]: arr"
   ]
  },
  {
   "cell_type": "code",
   "execution_count": 61,
   "id": "c3e02e35-7527-46ad-bb0f-ae27140e48e9",
   "metadata": {},
   "outputs": [
    {
     "data": {
      "text/plain": [
       "np.int64(5)"
      ]
     },
     "execution_count": 61,
     "metadata": {},
     "output_type": "execute_result"
    }
   ],
   "source": [
    "In [63]: arr[5]"
   ]
  },
  {
   "cell_type": "code",
   "execution_count": 62,
   "id": "185e870a-0698-4e72-868e-bf5551a829b4",
   "metadata": {},
   "outputs": [
    {
     "data": {
      "text/plain": [
       "array([5, 6, 7])"
      ]
     },
     "execution_count": 62,
     "metadata": {},
     "output_type": "execute_result"
    }
   ],
   "source": [
    "In [64]: arr[5:8]"
   ]
  },
  {
   "cell_type": "code",
   "execution_count": 63,
   "id": "abcbfd86-b88e-4d7d-8d90-ae93b9b72848",
   "metadata": {},
   "outputs": [],
   "source": [
    "In [65]: arr[5:8] = 12"
   ]
  },
  {
   "cell_type": "code",
   "execution_count": 64,
   "id": "3439edc5-9a3d-4ab3-9a89-21043029eeab",
   "metadata": {},
   "outputs": [
    {
     "data": {
      "text/plain": [
       "array([ 0,  1,  2,  3,  4, 12, 12, 12,  8,  9])"
      ]
     },
     "execution_count": 64,
     "metadata": {},
     "output_type": "execute_result"
    }
   ],
   "source": [
    "In [66]: arr"
   ]
  },
  {
   "cell_type": "code",
   "execution_count": 65,
   "id": "8ae2f4a5-a1dc-465d-a6a2-e64b8a9e8b46",
   "metadata": {},
   "outputs": [],
   "source": [
    "In [67]: arr_slice = arr[5:8]"
   ]
  },
  {
   "cell_type": "code",
   "execution_count": 66,
   "id": "c79394c6-1fb3-4b75-9661-220759750ce3",
   "metadata": {},
   "outputs": [
    {
     "data": {
      "text/plain": [
       "array([12, 12, 12])"
      ]
     },
     "execution_count": 66,
     "metadata": {},
     "output_type": "execute_result"
    }
   ],
   "source": [
    "In [68]: arr_slice"
   ]
  },
  {
   "cell_type": "code",
   "execution_count": 67,
   "id": "653f37af-23c3-41e7-99c1-d47ed32f536e",
   "metadata": {},
   "outputs": [],
   "source": [
    "In [69]: arr_slice[1] = 12345"
   ]
  },
  {
   "cell_type": "code",
   "execution_count": 68,
   "id": "cd662bed-a361-4589-bd27-5b251aa8b26f",
   "metadata": {},
   "outputs": [
    {
     "data": {
      "text/plain": [
       "array([    0,     1,     2,     3,     4,    12, 12345,    12,     8,\n",
       "           9])"
      ]
     },
     "execution_count": 68,
     "metadata": {},
     "output_type": "execute_result"
    }
   ],
   "source": [
    "In [70]: arr"
   ]
  },
  {
   "cell_type": "code",
   "execution_count": 69,
   "id": "69195941-6030-4856-937d-7f801486ea80",
   "metadata": {},
   "outputs": [],
   "source": [
    "In [71]: arr_slice[:] = 64"
   ]
  },
  {
   "cell_type": "code",
   "execution_count": 70,
   "id": "e69baad8-1dbf-403a-9ac2-dfbca6bd948c",
   "metadata": {},
   "outputs": [
    {
     "data": {
      "text/plain": [
       "array([ 0,  1,  2,  3,  4, 64, 64, 64,  8,  9])"
      ]
     },
     "execution_count": 70,
     "metadata": {},
     "output_type": "execute_result"
    }
   ],
   "source": [
    "In [72]: arr"
   ]
  },
  {
   "cell_type": "code",
   "execution_count": 71,
   "id": "52645e33-7a56-4bea-95b3-7810e79b1c1c",
   "metadata": {},
   "outputs": [],
   "source": [
    "In [73]: arr2d = np.array([[1, 2, 3], [4, 5, 6], [7, 8, 9]])"
   ]
  },
  {
   "cell_type": "code",
   "execution_count": 72,
   "id": "45a58d27-961a-4d86-adf8-c2be7b004ad0",
   "metadata": {},
   "outputs": [
    {
     "data": {
      "text/plain": [
       "array([7, 8, 9])"
      ]
     },
     "execution_count": 72,
     "metadata": {},
     "output_type": "execute_result"
    }
   ],
   "source": [
    "In [74]: arr2d[2]"
   ]
  },
  {
   "cell_type": "code",
   "execution_count": 73,
   "id": "8b9325ce-36a4-46c3-9ef4-ab05f2680a42",
   "metadata": {},
   "outputs": [
    {
     "data": {
      "text/plain": [
       "np.int64(3)"
      ]
     },
     "execution_count": 73,
     "metadata": {},
     "output_type": "execute_result"
    }
   ],
   "source": [
    "In [75]: arr2d[0][2]"
   ]
  },
  {
   "cell_type": "code",
   "execution_count": 74,
   "id": "b0d4d93e-600a-49ec-8130-968f03f49c4f",
   "metadata": {},
   "outputs": [
    {
     "data": {
      "text/plain": [
       "np.int64(3)"
      ]
     },
     "execution_count": 74,
     "metadata": {},
     "output_type": "execute_result"
    }
   ],
   "source": [
    "In [76]: arr2d[0, 2]"
   ]
  },
  {
   "cell_type": "code",
   "execution_count": 75,
   "id": "f4a650c9-e1c6-4b73-8c21-f1a328df2203",
   "metadata": {},
   "outputs": [],
   "source": [
    "In [77]: arr3d = np.array([[[1, 2, 3], [4, 5, 6]], [[7, 8, 9], [10, 11, 12]]])"
   ]
  },
  {
   "cell_type": "code",
   "execution_count": 76,
   "id": "b9f9b284-e9a8-42b6-a2f6-018b1fe6ac55",
   "metadata": {},
   "outputs": [
    {
     "data": {
      "text/plain": [
       "array([[[ 1,  2,  3],\n",
       "        [ 4,  5,  6]],\n",
       "\n",
       "       [[ 7,  8,  9],\n",
       "        [10, 11, 12]]])"
      ]
     },
     "execution_count": 76,
     "metadata": {},
     "output_type": "execute_result"
    }
   ],
   "source": [
    "In [78]: arr3d"
   ]
  },
  {
   "cell_type": "code",
   "execution_count": 77,
   "id": "b63ffb2c-8a13-4e3d-9d51-efd673e7ce71",
   "metadata": {},
   "outputs": [
    {
     "data": {
      "text/plain": [
       "array([[1, 2, 3],\n",
       "       [4, 5, 6]])"
      ]
     },
     "execution_count": 77,
     "metadata": {},
     "output_type": "execute_result"
    }
   ],
   "source": [
    "In [79]: arr3d[0]"
   ]
  },
  {
   "cell_type": "code",
   "execution_count": 78,
   "id": "76b466d1-62ba-4690-a1e2-9c467ce83311",
   "metadata": {},
   "outputs": [],
   "source": [
    "In [80]: old_values = arr3d[0].copy()"
   ]
  },
  {
   "cell_type": "code",
   "execution_count": 79,
   "id": "8dae8f22-df2a-4644-902d-1029b1dd3fea",
   "metadata": {},
   "outputs": [],
   "source": [
    "In [81]: arr3d[0] = 42"
   ]
  },
  {
   "cell_type": "code",
   "execution_count": 80,
   "id": "8189b25c-6e95-4a20-b6ca-4ad694dd9469",
   "metadata": {},
   "outputs": [
    {
     "data": {
      "text/plain": [
       "array([[[42, 42, 42],\n",
       "        [42, 42, 42]],\n",
       "\n",
       "       [[ 7,  8,  9],\n",
       "        [10, 11, 12]]])"
      ]
     },
     "execution_count": 80,
     "metadata": {},
     "output_type": "execute_result"
    }
   ],
   "source": [
    "In [82]: arr3d"
   ]
  },
  {
   "cell_type": "code",
   "execution_count": 81,
   "id": "8cdcf7b8-e816-44b7-ad9b-82018020d8b9",
   "metadata": {},
   "outputs": [],
   "source": [
    "In [83]: arr3d[0] = old_values"
   ]
  },
  {
   "cell_type": "code",
   "execution_count": 82,
   "id": "4528fbd2-5c49-468e-83c5-332578c83dbb",
   "metadata": {},
   "outputs": [
    {
     "data": {
      "text/plain": [
       "array([[[ 1,  2,  3],\n",
       "        [ 4,  5,  6]],\n",
       "\n",
       "       [[ 7,  8,  9],\n",
       "        [10, 11, 12]]])"
      ]
     },
     "execution_count": 82,
     "metadata": {},
     "output_type": "execute_result"
    }
   ],
   "source": [
    "In [84]: arr3d"
   ]
  },
  {
   "cell_type": "code",
   "execution_count": 83,
   "id": "11b62309-e576-48f8-abd0-0edb0a09e20f",
   "metadata": {},
   "outputs": [
    {
     "data": {
      "text/plain": [
       "array([7, 8, 9])"
      ]
     },
     "execution_count": 83,
     "metadata": {},
     "output_type": "execute_result"
    }
   ],
   "source": [
    "In [85]: arr3d[1, 0]"
   ]
  },
  {
   "cell_type": "code",
   "execution_count": 84,
   "id": "51406733-f7e0-4a52-ac3b-6df095326939",
   "metadata": {},
   "outputs": [],
   "source": [
    "In [86]: x = arr3d[1]"
   ]
  },
  {
   "cell_type": "code",
   "execution_count": 85,
   "id": "3957daf7-5a2e-4932-a46d-cb2b651e353e",
   "metadata": {},
   "outputs": [
    {
     "data": {
      "text/plain": [
       "array([[ 7,  8,  9],\n",
       "       [10, 11, 12]])"
      ]
     },
     "execution_count": 85,
     "metadata": {},
     "output_type": "execute_result"
    }
   ],
   "source": [
    "In [87]: x"
   ]
  },
  {
   "cell_type": "code",
   "execution_count": 86,
   "id": "21b36759-67ba-46b6-a2f6-b761292b388f",
   "metadata": {},
   "outputs": [
    {
     "data": {
      "text/plain": [
       "array([7, 8, 9])"
      ]
     },
     "execution_count": 86,
     "metadata": {},
     "output_type": "execute_result"
    }
   ],
   "source": [
    "In [88]: x[0]"
   ]
  },
  {
   "cell_type": "code",
   "execution_count": 87,
   "id": "2e99662d-4fc2-4f8b-8bb3-2276c453a415",
   "metadata": {},
   "outputs": [
    {
     "data": {
      "text/plain": [
       "array([ 0,  1,  2,  3,  4, 64, 64, 64,  8,  9])"
      ]
     },
     "execution_count": 87,
     "metadata": {},
     "output_type": "execute_result"
    }
   ],
   "source": [
    "In [89]: arr"
   ]
  },
  {
   "cell_type": "code",
   "execution_count": 88,
   "id": "c1ddda80-e64b-4fbb-bae1-9e94e717040c",
   "metadata": {},
   "outputs": [
    {
     "data": {
      "text/plain": [
       "array([ 1,  2,  3,  4, 64])"
      ]
     },
     "execution_count": 88,
     "metadata": {},
     "output_type": "execute_result"
    }
   ],
   "source": [
    "In [90]: arr[1:6]"
   ]
  },
  {
   "cell_type": "code",
   "execution_count": 89,
   "id": "346c5218-3cba-461d-ab72-a64bad77e28f",
   "metadata": {},
   "outputs": [
    {
     "data": {
      "text/plain": [
       "array([[1, 2, 3],\n",
       "       [4, 5, 6],\n",
       "       [7, 8, 9]])"
      ]
     },
     "execution_count": 89,
     "metadata": {},
     "output_type": "execute_result"
    }
   ],
   "source": [
    "In [91]: arr2d"
   ]
  },
  {
   "cell_type": "code",
   "execution_count": 91,
   "id": "a6d0598c-f446-44ad-924e-64b368ac3fac",
   "metadata": {},
   "outputs": [
    {
     "data": {
      "text/plain": [
       "array([[1, 2, 3],\n",
       "       [4, 5, 6]])"
      ]
     },
     "execution_count": 91,
     "metadata": {},
     "output_type": "execute_result"
    }
   ],
   "source": [
    "In [92]: arr2d[:2]"
   ]
  },
  {
   "cell_type": "code",
   "execution_count": 92,
   "id": "2fc728a2-069e-46d4-a71c-a9beaa52cb1c",
   "metadata": {},
   "outputs": [
    {
     "data": {
      "text/plain": [
       "array([[2, 3],\n",
       "       [5, 6]])"
      ]
     },
     "execution_count": 92,
     "metadata": {},
     "output_type": "execute_result"
    }
   ],
   "source": [
    "In [93]: arr2d[:2, 1:]"
   ]
  },
  {
   "cell_type": "code",
   "execution_count": 93,
   "id": "249c932f-1f3e-44e6-9263-478718dfbd5a",
   "metadata": {},
   "outputs": [],
   "source": [
    "In [94]: lower_dim_slice = arr2d[1, :2]"
   ]
  },
  {
   "cell_type": "code",
   "execution_count": 94,
   "id": "943b5208-7063-4b4a-b954-79711582eec3",
   "metadata": {},
   "outputs": [
    {
     "data": {
      "text/plain": [
       "(2,)"
      ]
     },
     "execution_count": 94,
     "metadata": {},
     "output_type": "execute_result"
    }
   ],
   "source": [
    "In [95]: lower_dim_slice.shape"
   ]
  },
  {
   "cell_type": "code",
   "execution_count": 95,
   "id": "bbf67342-d9b4-42f1-8de2-448522e4c77a",
   "metadata": {},
   "outputs": [
    {
     "data": {
      "text/plain": [
       "(2,)"
      ]
     },
     "execution_count": 95,
     "metadata": {},
     "output_type": "execute_result"
    }
   ],
   "source": [
    "In [95]: lower_dim_slice.shape"
   ]
  },
  {
   "cell_type": "code",
   "execution_count": 96,
   "id": "90e56d12-c8cf-4f1c-aca4-51aadf1f5f0c",
   "metadata": {},
   "outputs": [
    {
     "data": {
      "text/plain": [
       "array([[1],\n",
       "       [4],\n",
       "       [7]])"
      ]
     },
     "execution_count": 96,
     "metadata": {},
     "output_type": "execute_result"
    }
   ],
   "source": [
    "In [97]: arr2d[:, :1]"
   ]
  },
  {
   "cell_type": "code",
   "execution_count": 97,
   "id": "b866f7fe-688c-48af-bbfb-acf984feb92b",
   "metadata": {},
   "outputs": [],
   "source": [
    "In [98]: arr2d[:2, 1:] = 0"
   ]
  },
  {
   "cell_type": "code",
   "execution_count": 98,
   "id": "a6bcb21c-9c55-4bb8-87e7-c0ed991ef364",
   "metadata": {},
   "outputs": [
    {
     "data": {
      "text/plain": [
       "array([[1, 0, 0],\n",
       "       [4, 0, 0],\n",
       "       [7, 8, 9]])"
      ]
     },
     "execution_count": 98,
     "metadata": {},
     "output_type": "execute_result"
    }
   ],
   "source": [
    "In [99]: arr2d"
   ]
  },
  {
   "cell_type": "code",
   "execution_count": 99,
   "id": "572eec73-b2dc-4a56-9413-c8618dfa2bbc",
   "metadata": {},
   "outputs": [],
   "source": [
    "In [100]: names = np.array([\"Bob\", \"Joe\", \"Will\", \"Bob\", \"Will\", \"Joe\", \"Joe\"])"
   ]
  },
  {
   "cell_type": "code",
   "execution_count": 100,
   "id": "87f79c55-49fc-4647-ab7d-301dbc22f562",
   "metadata": {},
   "outputs": [],
   "source": [
    "In [101]: data = np.array([[4, 7], [0, 2], [-5, 6], [0, 0], [1, 2],\n",
    "   .....:                  [-12, -4], [3, 4]])"
   ]
  },
  {
   "cell_type": "code",
   "execution_count": 101,
   "id": "826bfc8b-342c-4170-8b95-a1241e38992b",
   "metadata": {},
   "outputs": [
    {
     "data": {
      "text/plain": [
       "array(['Bob', 'Joe', 'Will', 'Bob', 'Will', 'Joe', 'Joe'], dtype='<U4')"
      ]
     },
     "execution_count": 101,
     "metadata": {},
     "output_type": "execute_result"
    }
   ],
   "source": [
    "In [102]: names"
   ]
  },
  {
   "cell_type": "code",
   "execution_count": 102,
   "id": "ac88e48f-efa1-4c38-b4bb-a681fb51e918",
   "metadata": {},
   "outputs": [
    {
     "data": {
      "text/plain": [
       "array([[  4,   7],\n",
       "       [  0,   2],\n",
       "       [ -5,   6],\n",
       "       [  0,   0],\n",
       "       [  1,   2],\n",
       "       [-12,  -4],\n",
       "       [  3,   4]])"
      ]
     },
     "execution_count": 102,
     "metadata": {},
     "output_type": "execute_result"
    }
   ],
   "source": [
    "In [103]: data"
   ]
  },
  {
   "cell_type": "code",
   "execution_count": 103,
   "id": "68ae5b32-9aef-483d-a2ca-06b4edc8326b",
   "metadata": {},
   "outputs": [
    {
     "data": {
      "text/plain": [
       "array([ True, False, False,  True, False, False, False])"
      ]
     },
     "execution_count": 103,
     "metadata": {},
     "output_type": "execute_result"
    }
   ],
   "source": [
    "In [104]: names == \"Bob\""
   ]
  },
  {
   "cell_type": "code",
   "execution_count": 104,
   "id": "39f273c9-5380-456e-9752-82fb9530127b",
   "metadata": {},
   "outputs": [
    {
     "data": {
      "text/plain": [
       "array([[4, 7],\n",
       "       [0, 0]])"
      ]
     },
     "execution_count": 104,
     "metadata": {},
     "output_type": "execute_result"
    }
   ],
   "source": [
    "In [105]: data[names == \"Bob\"]"
   ]
  },
  {
   "cell_type": "code",
   "execution_count": 105,
   "id": "9e70f270-1ebc-4e96-b82e-9d13416d01ae",
   "metadata": {},
   "outputs": [
    {
     "data": {
      "text/plain": [
       "array([[7],\n",
       "       [0]])"
      ]
     },
     "execution_count": 105,
     "metadata": {},
     "output_type": "execute_result"
    }
   ],
   "source": [
    "In [106]: data[names == \"Bob\", 1:]"
   ]
  },
  {
   "cell_type": "code",
   "execution_count": 106,
   "id": "4e5b0c6e-4bb3-4fd3-bc11-6545331c5b61",
   "metadata": {},
   "outputs": [
    {
     "data": {
      "text/plain": [
       "array([7, 0])"
      ]
     },
     "execution_count": 106,
     "metadata": {},
     "output_type": "execute_result"
    }
   ],
   "source": [
    "In [107]: data[names == \"Bob\", 1]"
   ]
  },
  {
   "cell_type": "code",
   "execution_count": 107,
   "id": "d674cef2-2458-4192-b0d6-7bcc4b5575d6",
   "metadata": {},
   "outputs": [
    {
     "data": {
      "text/plain": [
       "array([False,  True,  True, False,  True,  True,  True])"
      ]
     },
     "execution_count": 107,
     "metadata": {},
     "output_type": "execute_result"
    }
   ],
   "source": [
    "In [108]: names != \"Bob\""
   ]
  },
  {
   "cell_type": "code",
   "execution_count": 108,
   "id": "7116ca60-c522-40c9-9171-aca91a767ce4",
   "metadata": {},
   "outputs": [
    {
     "data": {
      "text/plain": [
       "array([False,  True,  True, False,  True,  True,  True])"
      ]
     },
     "execution_count": 108,
     "metadata": {},
     "output_type": "execute_result"
    }
   ],
   "source": [
    "In [109]: ~(names == \"Bob\")"
   ]
  },
  {
   "cell_type": "code",
   "execution_count": 109,
   "id": "21b5be9d-17a5-4970-916e-a96aa404ee24",
   "metadata": {},
   "outputs": [
    {
     "data": {
      "text/plain": [
       "array([[  0,   2],\n",
       "       [ -5,   6],\n",
       "       [  1,   2],\n",
       "       [-12,  -4],\n",
       "       [  3,   4]])"
      ]
     },
     "execution_count": 109,
     "metadata": {},
     "output_type": "execute_result"
    }
   ],
   "source": [
    "In [110]: data[~(names == \"Bob\")]"
   ]
  },
  {
   "cell_type": "code",
   "execution_count": 110,
   "id": "ac5f22b3-1e85-4a1f-bfaf-8e35515b79fa",
   "metadata": {},
   "outputs": [],
   "source": [
    "In [111]: cond = names == \"Bob\""
   ]
  },
  {
   "cell_type": "code",
   "execution_count": 111,
   "id": "7a083874-7bd8-41fa-878d-00d46c91204f",
   "metadata": {},
   "outputs": [
    {
     "data": {
      "text/plain": [
       "array([[  0,   2],\n",
       "       [ -5,   6],\n",
       "       [  1,   2],\n",
       "       [-12,  -4],\n",
       "       [  3,   4]])"
      ]
     },
     "execution_count": 111,
     "metadata": {},
     "output_type": "execute_result"
    }
   ],
   "source": [
    "In [112]: data[~cond]"
   ]
  },
  {
   "cell_type": "code",
   "execution_count": 112,
   "id": "24bc085c-e77b-4269-906b-a67d24604945",
   "metadata": {},
   "outputs": [],
   "source": [
    "In [113]: mask = (names == \"Bob\") | (names == \"Will\")"
   ]
  },
  {
   "cell_type": "code",
   "execution_count": 113,
   "id": "6f527801-c936-4cc0-8ce6-88a924dcbaf5",
   "metadata": {},
   "outputs": [
    {
     "data": {
      "text/plain": [
       "array([ True, False,  True,  True,  True, False, False])"
      ]
     },
     "execution_count": 113,
     "metadata": {},
     "output_type": "execute_result"
    }
   ],
   "source": [
    "In [114]: mask"
   ]
  },
  {
   "cell_type": "code",
   "execution_count": 114,
   "id": "1e7162e2-cc3f-4fbd-a9aa-5b3c1fde9358",
   "metadata": {},
   "outputs": [
    {
     "data": {
      "text/plain": [
       "array([[ 4,  7],\n",
       "       [-5,  6],\n",
       "       [ 0,  0],\n",
       "       [ 1,  2]])"
      ]
     },
     "execution_count": 114,
     "metadata": {},
     "output_type": "execute_result"
    }
   ],
   "source": [
    "In [115]: data[mask]"
   ]
  },
  {
   "cell_type": "code",
   "execution_count": 115,
   "id": "f4a4b611-1725-448e-bb39-8e8b59c50dbf",
   "metadata": {},
   "outputs": [],
   "source": [
    "In [116]: data[data < 0] = 0"
   ]
  },
  {
   "cell_type": "code",
   "execution_count": 116,
   "id": "65683473-886f-4927-9d52-daafaa328fba",
   "metadata": {},
   "outputs": [
    {
     "data": {
      "text/plain": [
       "array([[4, 7],\n",
       "       [0, 2],\n",
       "       [0, 6],\n",
       "       [0, 0],\n",
       "       [1, 2],\n",
       "       [0, 0],\n",
       "       [3, 4]])"
      ]
     },
     "execution_count": 116,
     "metadata": {},
     "output_type": "execute_result"
    }
   ],
   "source": [
    "In [117]: data"
   ]
  },
  {
   "cell_type": "code",
   "execution_count": 117,
   "id": "b57fc604-464e-49cb-ba78-60b5273b0201",
   "metadata": {},
   "outputs": [],
   "source": [
    "In [118]: data[names != \"Joe\"] = 7"
   ]
  },
  {
   "cell_type": "code",
   "execution_count": 118,
   "id": "16b66c64-37e9-4874-a0d6-8f7dcf8fa6a5",
   "metadata": {},
   "outputs": [
    {
     "data": {
      "text/plain": [
       "array([[7, 7],\n",
       "       [0, 2],\n",
       "       [7, 7],\n",
       "       [7, 7],\n",
       "       [7, 7],\n",
       "       [0, 0],\n",
       "       [3, 4]])"
      ]
     },
     "execution_count": 118,
     "metadata": {},
     "output_type": "execute_result"
    }
   ],
   "source": [
    "In [119]: data"
   ]
  },
  {
   "cell_type": "code",
   "execution_count": 119,
   "id": "bbce6444-a9c9-404a-ae2b-eb867546934c",
   "metadata": {},
   "outputs": [],
   "source": [
    "In [120]: arr = np.zeros((8, 4))"
   ]
  },
  {
   "cell_type": "code",
   "execution_count": 120,
   "id": "42a0a41c-790e-4eba-bb45-e861b0c034a8",
   "metadata": {},
   "outputs": [],
   "source": [
    "In [121]: for i in range(8):\n",
    "   .....:     arr[i] = i"
   ]
  },
  {
   "cell_type": "code",
   "execution_count": 121,
   "id": "5b4472b0-a47d-42bc-af51-6b20417d1e47",
   "metadata": {},
   "outputs": [
    {
     "data": {
      "text/plain": [
       "array([[0., 0., 0., 0.],\n",
       "       [1., 1., 1., 1.],\n",
       "       [2., 2., 2., 2.],\n",
       "       [3., 3., 3., 3.],\n",
       "       [4., 4., 4., 4.],\n",
       "       [5., 5., 5., 5.],\n",
       "       [6., 6., 6., 6.],\n",
       "       [7., 7., 7., 7.]])"
      ]
     },
     "execution_count": 121,
     "metadata": {},
     "output_type": "execute_result"
    }
   ],
   "source": [
    "In [122]: arr"
   ]
  },
  {
   "cell_type": "code",
   "execution_count": 122,
   "id": "20e4eb1a-ac6c-4cab-9c3b-5da1e16078c4",
   "metadata": {},
   "outputs": [
    {
     "data": {
      "text/plain": [
       "array([[4., 4., 4., 4.],\n",
       "       [3., 3., 3., 3.],\n",
       "       [0., 0., 0., 0.],\n",
       "       [6., 6., 6., 6.]])"
      ]
     },
     "execution_count": 122,
     "metadata": {},
     "output_type": "execute_result"
    }
   ],
   "source": [
    "In [123]: arr[[4, 3, 0, 6]]"
   ]
  },
  {
   "cell_type": "code",
   "execution_count": 123,
   "id": "75426a84-c9d1-4061-a660-f94f491085eb",
   "metadata": {},
   "outputs": [
    {
     "data": {
      "text/plain": [
       "array([[5., 5., 5., 5.],\n",
       "       [3., 3., 3., 3.],\n",
       "       [1., 1., 1., 1.]])"
      ]
     },
     "execution_count": 123,
     "metadata": {},
     "output_type": "execute_result"
    }
   ],
   "source": [
    "In [124]: arr[[-3, -5, -7]]"
   ]
  },
  {
   "cell_type": "code",
   "execution_count": 124,
   "id": "656356d4-39d2-4756-94ca-f9dbf2f48145",
   "metadata": {},
   "outputs": [],
   "source": [
    "In [125]: arr = np.arange(32).reshape((8, 4))"
   ]
  },
  {
   "cell_type": "code",
   "execution_count": 125,
   "id": "49b31aa6-3a05-40da-a077-4775e3c978bc",
   "metadata": {},
   "outputs": [
    {
     "data": {
      "text/plain": [
       "array([[ 0,  1,  2,  3],\n",
       "       [ 4,  5,  6,  7],\n",
       "       [ 8,  9, 10, 11],\n",
       "       [12, 13, 14, 15],\n",
       "       [16, 17, 18, 19],\n",
       "       [20, 21, 22, 23],\n",
       "       [24, 25, 26, 27],\n",
       "       [28, 29, 30, 31]])"
      ]
     },
     "execution_count": 125,
     "metadata": {},
     "output_type": "execute_result"
    }
   ],
   "source": [
    "In [126]: arr"
   ]
  },
  {
   "cell_type": "code",
   "execution_count": 126,
   "id": "60a3e115-b131-4876-b170-d2096044368d",
   "metadata": {},
   "outputs": [
    {
     "data": {
      "text/plain": [
       "array([ 4, 23, 29, 10])"
      ]
     },
     "execution_count": 126,
     "metadata": {},
     "output_type": "execute_result"
    }
   ],
   "source": [
    "In [127]: arr[[1, 5, 7, 2], [0, 3, 1, 2]]"
   ]
  },
  {
   "cell_type": "code",
   "execution_count": 127,
   "id": "9de423d8-6c3d-4a40-891d-cb6353ab1a26",
   "metadata": {},
   "outputs": [
    {
     "data": {
      "text/plain": [
       "array([[ 4,  7,  5,  6],\n",
       "       [20, 23, 21, 22],\n",
       "       [28, 31, 29, 30],\n",
       "       [ 8, 11,  9, 10]])"
      ]
     },
     "execution_count": 127,
     "metadata": {},
     "output_type": "execute_result"
    }
   ],
   "source": [
    "In [128]: arr[[1, 5, 7, 2]][:, [0, 3, 1, 2]]"
   ]
  },
  {
   "cell_type": "code",
   "execution_count": 128,
   "id": "03aa90e5-da86-436d-ad5d-05371315b88c",
   "metadata": {},
   "outputs": [
    {
     "data": {
      "text/plain": [
       "array([ 4, 23, 29, 10])"
      ]
     },
     "execution_count": 128,
     "metadata": {},
     "output_type": "execute_result"
    }
   ],
   "source": [
    "In [129]: arr[[1, 5, 7, 2], [0, 3, 1, 2]]"
   ]
  },
  {
   "cell_type": "code",
   "execution_count": 129,
   "id": "2d72646a-50b4-42d1-a03d-af162d56f5c4",
   "metadata": {},
   "outputs": [],
   "source": [
    "In [130]: arr[[1, 5, 7, 2], [0, 3, 1, 2]] = 0"
   ]
  },
  {
   "cell_type": "code",
   "execution_count": 130,
   "id": "82664052-1474-49bf-b4a7-60a142626fb7",
   "metadata": {},
   "outputs": [
    {
     "data": {
      "text/plain": [
       "array([[ 0,  1,  2,  3],\n",
       "       [ 0,  5,  6,  7],\n",
       "       [ 8,  9,  0, 11],\n",
       "       [12, 13, 14, 15],\n",
       "       [16, 17, 18, 19],\n",
       "       [20, 21, 22,  0],\n",
       "       [24, 25, 26, 27],\n",
       "       [28,  0, 30, 31]])"
      ]
     },
     "execution_count": 130,
     "metadata": {},
     "output_type": "execute_result"
    }
   ],
   "source": [
    "In [131]: arr"
   ]
  },
  {
   "cell_type": "code",
   "execution_count": 131,
   "id": "6c094e69-ff54-4fc8-ab77-a07dd146d545",
   "metadata": {},
   "outputs": [],
   "source": [
    "In [132]: arr = np.arange(15).reshape((3, 5))"
   ]
  },
  {
   "cell_type": "code",
   "execution_count": 132,
   "id": "40819f4a-8f3c-40ce-827d-0954f0b4feb0",
   "metadata": {},
   "outputs": [
    {
     "data": {
      "text/plain": [
       "array([[ 0,  5, 10],\n",
       "       [ 1,  6, 11],\n",
       "       [ 2,  7, 12],\n",
       "       [ 3,  8, 13],\n",
       "       [ 4,  9, 14]])"
      ]
     },
     "execution_count": 132,
     "metadata": {},
     "output_type": "execute_result"
    }
   ],
   "source": [
    "In [134]: arr.T"
   ]
  },
  {
   "cell_type": "code",
   "execution_count": 133,
   "id": "161052f0-fd08-4839-95bd-010450f6c3a8",
   "metadata": {},
   "outputs": [],
   "source": [
    "In [135]: arr = np.array([[0, 1, 0], [1, 2, -2], [6, 3, 2], [-1, 0, -1], [1, 0, 1\n",
    "]])"
   ]
  },
  {
   "cell_type": "code",
   "execution_count": 134,
   "id": "3497410e-04bd-432c-9ddd-92798a2c7aa1",
   "metadata": {},
   "outputs": [
    {
     "data": {
      "text/plain": [
       "array([[ 0,  1,  0],\n",
       "       [ 1,  2, -2],\n",
       "       [ 6,  3,  2],\n",
       "       [-1,  0, -1],\n",
       "       [ 1,  0,  1]])"
      ]
     },
     "execution_count": 134,
     "metadata": {},
     "output_type": "execute_result"
    }
   ],
   "source": [
    "In [136]: arr"
   ]
  },
  {
   "cell_type": "code",
   "execution_count": 135,
   "id": "4b09676d-bdc1-4841-9390-0fc6cc264814",
   "metadata": {},
   "outputs": [
    {
     "data": {
      "text/plain": [
       "array([[39, 20, 12],\n",
       "       [20, 14,  2],\n",
       "       [12,  2, 10]])"
      ]
     },
     "execution_count": 135,
     "metadata": {},
     "output_type": "execute_result"
    }
   ],
   "source": [
    "In [137]: np.dot(arr.T, arr)"
   ]
  },
  {
   "cell_type": "code",
   "execution_count": 136,
   "id": "e1ea4342-319c-4542-865c-9a0904d6a4d8",
   "metadata": {},
   "outputs": [
    {
     "data": {
      "text/plain": [
       "array([[39, 20, 12],\n",
       "       [20, 14,  2],\n",
       "       [12,  2, 10]])"
      ]
     },
     "execution_count": 136,
     "metadata": {},
     "output_type": "execute_result"
    }
   ],
   "source": [
    "In [138]: arr.T @ arr"
   ]
  },
  {
   "cell_type": "code",
   "execution_count": 137,
   "id": "2eb166e5-1368-4172-8be6-45d023fcc9ec",
   "metadata": {},
   "outputs": [
    {
     "data": {
      "text/plain": [
       "array([[ 0,  1,  0],\n",
       "       [ 1,  2, -2],\n",
       "       [ 6,  3,  2],\n",
       "       [-1,  0, -1],\n",
       "       [ 1,  0,  1]])"
      ]
     },
     "execution_count": 137,
     "metadata": {},
     "output_type": "execute_result"
    }
   ],
   "source": [
    "In [139]: arr"
   ]
  },
  {
   "cell_type": "code",
   "execution_count": 138,
   "id": "fd3790f4-046d-43ac-8f38-03eccd4e0995",
   "metadata": {},
   "outputs": [
    {
     "data": {
      "text/plain": [
       "array([[ 0,  1,  6, -1,  1],\n",
       "       [ 1,  2,  3,  0,  0],\n",
       "       [ 0, -2,  2, -1,  1]])"
      ]
     },
     "execution_count": 138,
     "metadata": {},
     "output_type": "execute_result"
    }
   ],
   "source": [
    "In [140]: arr.swapaxes(0, 1)"
   ]
  },
  {
   "cell_type": "code",
   "execution_count": null,
   "id": "69536799-60e1-4de4-9109-abc32f4fd92f",
   "metadata": {},
   "outputs": [],
   "source": []
  },
  {
   "cell_type": "code",
   "execution_count": null,
   "id": "c214aef2-7045-46b5-bf64-7826badbac63",
   "metadata": {},
   "outputs": [],
   "source": []
  }
 ],
 "metadata": {
  "kernelspec": {
   "display_name": "Python 3 (ipykernel)",
   "language": "python",
   "name": "python3"
  },
  "language_info": {
   "codemirror_mode": {
    "name": "ipython",
    "version": 3
   },
   "file_extension": ".py",
   "mimetype": "text/x-python",
   "name": "python",
   "nbconvert_exporter": "python",
   "pygments_lexer": "ipython3",
   "version": "3.12.5"
  }
 },
 "nbformat": 4,
 "nbformat_minor": 5
}
