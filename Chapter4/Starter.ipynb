{
 "cells": [
  {
   "cell_type": "code",
   "execution_count": 2,
   "id": "220890b3-5a99-4892-a955-4eb2f339ae34",
   "metadata": {},
   "outputs": [],
   "source": [
    "In [7]: import numpy as np"
   ]
  },
  {
   "cell_type": "code",
   "execution_count": 3,
   "id": "2ae6020a-c4b7-421e-ac47-4333c54a5263",
   "metadata": {},
   "outputs": [],
   "source": [
    "In [8]: my_arr = np.arange(1_000_000)"
   ]
  },
  {
   "cell_type": "code",
   "execution_count": 4,
   "id": "6ac56dc6-dbe7-4cf9-8ebc-e671bb5c2cb8",
   "metadata": {},
   "outputs": [],
   "source": [
    "In [9]: my_list = list(range(1_000_000))"
   ]
  },
  {
   "cell_type": "code",
   "execution_count": 7,
   "id": "6e17e94d-4bb7-4713-a9c9-90a8207be873",
   "metadata": {},
   "outputs": [
    {
     "name": "stdout",
     "output_type": "stream",
     "text": [
      "763 μs ± 14.2 μs per loop (mean ± std. dev. of 7 runs, 1,000 loops each)\n"
     ]
    }
   ],
   "source": [
    "In [10]: %timeit my_arr2 = my_arr * 2"
   ]
  },
  {
   "cell_type": "code",
   "execution_count": 8,
   "id": "70bed9c4-23c0-41bf-9baa-3ba6e3ff6fed",
   "metadata": {},
   "outputs": [
    {
     "name": "stdout",
     "output_type": "stream",
     "text": [
      "25.1 ms ± 616 μs per loop (mean ± std. dev. of 7 runs, 10 loops each)\n"
     ]
    }
   ],
   "source": [
    "In [11]: %timeit my_list2 = [x * 2 for x in my_list]"
   ]
  },
  {
   "cell_type": "code",
   "execution_count": 9,
   "id": "ec77a082-e8fe-48fe-af3f-f3a2a8c7cbdd",
   "metadata": {},
   "outputs": [],
   "source": [
    "In [12]: import numpy as np"
   ]
  },
  {
   "cell_type": "code",
   "execution_count": 10,
   "id": "117fd6f2-dcd9-424b-8931-2e635fb27417",
   "metadata": {},
   "outputs": [],
   "source": [
    "In [13]: data = np.array([[1.5, -0.1, 3], [0, -3, 6.5]])"
   ]
  },
  {
   "cell_type": "code",
   "execution_count": 11,
   "id": "5aa038a8-a136-44e2-ba55-6793bdaa31d5",
   "metadata": {},
   "outputs": [
    {
     "data": {
      "text/plain": [
       "array([[ 1.5, -0.1,  3. ],\n",
       "       [ 0. , -3. ,  6.5]])"
      ]
     },
     "execution_count": 11,
     "metadata": {},
     "output_type": "execute_result"
    }
   ],
   "source": [
    "In [14]: data"
   ]
  },
  {
   "cell_type": "code",
   "execution_count": 12,
   "id": "a926c08c-76b6-4f20-b5ac-ce97a319d974",
   "metadata": {},
   "outputs": [
    {
     "data": {
      "text/plain": [
       "array([[ 15.,  -1.,  30.],\n",
       "       [  0., -30.,  65.]])"
      ]
     },
     "execution_count": 12,
     "metadata": {},
     "output_type": "execute_result"
    }
   ],
   "source": [
    "In [15]: data * 10"
   ]
  },
  {
   "cell_type": "code",
   "execution_count": 13,
   "id": "07cf1c97-d89c-4205-98bb-e13ea43b6145",
   "metadata": {},
   "outputs": [
    {
     "data": {
      "text/plain": [
       "array([[ 3. , -0.2,  6. ],\n",
       "       [ 0. , -6. , 13. ]])"
      ]
     },
     "execution_count": 13,
     "metadata": {},
     "output_type": "execute_result"
    }
   ],
   "source": [
    "In [16]: data + data"
   ]
  },
  {
   "cell_type": "code",
   "execution_count": 14,
   "id": "d2dd6dbc-6b03-432d-b52b-5b1482769c2b",
   "metadata": {},
   "outputs": [
    {
     "data": {
      "text/plain": [
       "(2, 3)"
      ]
     },
     "execution_count": 14,
     "metadata": {},
     "output_type": "execute_result"
    }
   ],
   "source": [
    "In [17]: data.shape"
   ]
  },
  {
   "cell_type": "code",
   "execution_count": 15,
   "id": "ab5672d3-fe52-43fd-8b37-eee27159bb2e",
   "metadata": {},
   "outputs": [
    {
     "data": {
      "text/plain": [
       "dtype('float64')"
      ]
     },
     "execution_count": 15,
     "metadata": {},
     "output_type": "execute_result"
    }
   ],
   "source": [
    "In [18]: data.dtype"
   ]
  },
  {
   "cell_type": "code",
   "execution_count": 16,
   "id": "1135e960-1775-4939-90d4-a82a53b9b228",
   "metadata": {},
   "outputs": [],
   "source": [
    "In [19]: data1 = [6, 7.5, 8, 0, 1]"
   ]
  },
  {
   "cell_type": "code",
   "execution_count": 17,
   "id": "ba853c03-e874-402c-aafd-87385a1893fd",
   "metadata": {},
   "outputs": [],
   "source": [
    "In [20]: arr1 = np.array(data1)"
   ]
  },
  {
   "cell_type": "code",
   "execution_count": 18,
   "id": "20dc0f76-7f18-4b97-a584-cbd866ad6091",
   "metadata": {},
   "outputs": [
    {
     "data": {
      "text/plain": [
       "array([6. , 7.5, 8. , 0. , 1. ])"
      ]
     },
     "execution_count": 18,
     "metadata": {},
     "output_type": "execute_result"
    }
   ],
   "source": [
    "In [21]: arr1"
   ]
  },
  {
   "cell_type": "code",
   "execution_count": 19,
   "id": "bcaed08c-bbff-4128-98cf-e68107860abc",
   "metadata": {},
   "outputs": [],
   "source": [
    "In [22]: data2 = [[1, 2, 3, 4], [5, 6, 7, 8]]"
   ]
  },
  {
   "cell_type": "code",
   "execution_count": 20,
   "id": "e575efb3-f0dc-4648-9cbb-7b39af4e611f",
   "metadata": {},
   "outputs": [],
   "source": [
    "In [23]: arr2 = np.array(data2)"
   ]
  },
  {
   "cell_type": "code",
   "execution_count": 21,
   "id": "361eb3a8-baeb-40f0-8641-6e9f001ca94f",
   "metadata": {},
   "outputs": [
    {
     "data": {
      "text/plain": [
       "array([[1, 2, 3, 4],\n",
       "       [5, 6, 7, 8]])"
      ]
     },
     "execution_count": 21,
     "metadata": {},
     "output_type": "execute_result"
    }
   ],
   "source": [
    "In [24]: arr2"
   ]
  },
  {
   "cell_type": "code",
   "execution_count": 22,
   "id": "c0753cee-3348-4e03-a3bf-49932e926d92",
   "metadata": {},
   "outputs": [
    {
     "data": {
      "text/plain": [
       "2"
      ]
     },
     "execution_count": 22,
     "metadata": {},
     "output_type": "execute_result"
    }
   ],
   "source": [
    "In [25]: arr2.ndim"
   ]
  },
  {
   "cell_type": "code",
   "execution_count": 23,
   "id": "8813d467-812c-4530-8850-28e94405854d",
   "metadata": {},
   "outputs": [
    {
     "data": {
      "text/plain": [
       "(2, 4)"
      ]
     },
     "execution_count": 23,
     "metadata": {},
     "output_type": "execute_result"
    }
   ],
   "source": [
    "In [26]: arr2.shape"
   ]
  },
  {
   "cell_type": "code",
   "execution_count": 24,
   "id": "eedbcfc6-8d34-4566-8aad-c02de2d728d9",
   "metadata": {},
   "outputs": [
    {
     "data": {
      "text/plain": [
       "dtype('float64')"
      ]
     },
     "execution_count": 24,
     "metadata": {},
     "output_type": "execute_result"
    }
   ],
   "source": [
    "In [27]: arr1.dtype"
   ]
  },
  {
   "cell_type": "code",
   "execution_count": 25,
   "id": "b74f01b9-e8ed-4038-81d5-140196f139d4",
   "metadata": {},
   "outputs": [
    {
     "data": {
      "text/plain": [
       "dtype('int64')"
      ]
     },
     "execution_count": 25,
     "metadata": {},
     "output_type": "execute_result"
    }
   ],
   "source": [
    "In [28]: arr2.dtype"
   ]
  },
  {
   "cell_type": "code",
   "execution_count": 26,
   "id": "90b9d187-8f7f-409e-ba7e-88ed83ee4edf",
   "metadata": {},
   "outputs": [
    {
     "data": {
      "text/plain": [
       "array([0., 0., 0., 0., 0., 0., 0., 0., 0., 0.])"
      ]
     },
     "execution_count": 26,
     "metadata": {},
     "output_type": "execute_result"
    }
   ],
   "source": [
    "In [29]: np.zeros(10)"
   ]
  },
  {
   "cell_type": "code",
   "execution_count": 27,
   "id": "4db2e173-434b-4958-b95b-096f28f61bc5",
   "metadata": {},
   "outputs": [
    {
     "data": {
      "text/plain": [
       "array([[0., 0., 0., 0., 0., 0.],\n",
       "       [0., 0., 0., 0., 0., 0.],\n",
       "       [0., 0., 0., 0., 0., 0.]])"
      ]
     },
     "execution_count": 27,
     "metadata": {},
     "output_type": "execute_result"
    }
   ],
   "source": [
    "In [30]: np.zeros((3, 6))"
   ]
  },
  {
   "cell_type": "code",
   "execution_count": 28,
   "id": "e381ad52-871c-4cef-b706-16d663eb6b03",
   "metadata": {},
   "outputs": [
    {
     "data": {
      "text/plain": [
       "array([[[-3.10503618e+231, -1.44663096e-315],\n",
       "        [ 2.96439388e-323,  0.00000000e+000],\n",
       "        [ 0.00000000e+000,  4.47032019e-038]],\n",
       "\n",
       "       [[ 7.73184650e-091,  1.71696216e+185],\n",
       "        [ 1.28241139e+160,  5.55149409e+170],\n",
       "        [ 3.99910963e+252,  8.34402841e-309]]])"
      ]
     },
     "execution_count": 28,
     "metadata": {},
     "output_type": "execute_result"
    }
   ],
   "source": [
    "In [31]: np.empty((2, 3, 2))"
   ]
  },
  {
   "cell_type": "code",
   "execution_count": 29,
   "id": "36dfb379-83db-4ad7-9889-57b3f3d67f21",
   "metadata": {},
   "outputs": [
    {
     "data": {
      "text/plain": [
       "array([ 0,  1,  2,  3,  4,  5,  6,  7,  8,  9, 10, 11, 12, 13, 14])"
      ]
     },
     "execution_count": 29,
     "metadata": {},
     "output_type": "execute_result"
    }
   ],
   "source": [
    "In [32]: np.arange(15)"
   ]
  },
  {
   "cell_type": "code",
   "execution_count": 30,
   "id": "f9847496-118a-4fb8-8cb3-7a79e4a2a499",
   "metadata": {},
   "outputs": [],
   "source": [
    "In [33]: arr1 = np.array([1, 2, 3], dtype=np.float64)"
   ]
  },
  {
   "cell_type": "code",
   "execution_count": 31,
   "id": "068238d4-f58f-4d61-9e27-55b321e894d3",
   "metadata": {},
   "outputs": [],
   "source": [
    "In [34]: arr2 = np.array([1, 2, 3], dtype=np.int32)"
   ]
  },
  {
   "cell_type": "code",
   "execution_count": 32,
   "id": "17958e25-dc6c-4bf3-8cfb-d00e58f69127",
   "metadata": {},
   "outputs": [
    {
     "data": {
      "text/plain": [
       "dtype('float64')"
      ]
     },
     "execution_count": 32,
     "metadata": {},
     "output_type": "execute_result"
    }
   ],
   "source": [
    "In [35]: arr1.dtype"
   ]
  },
  {
   "cell_type": "code",
   "execution_count": 33,
   "id": "216e5cb6-38f9-45a8-9fd1-d95691a15caf",
   "metadata": {},
   "outputs": [
    {
     "data": {
      "text/plain": [
       "dtype('int32')"
      ]
     },
     "execution_count": 33,
     "metadata": {},
     "output_type": "execute_result"
    }
   ],
   "source": [
    "In [36]: arr2.dtype"
   ]
  },
  {
   "cell_type": "code",
   "execution_count": 34,
   "id": "a35d98fd-2765-41f3-b7d2-b86cfed28b9c",
   "metadata": {},
   "outputs": [],
   "source": [
    "In [37]: arr = np.array([1, 2, 3, 4, 5])"
   ]
  },
  {
   "cell_type": "code",
   "execution_count": 35,
   "id": "c318944b-f67e-45c1-8585-aef8096cecaa",
   "metadata": {},
   "outputs": [
    {
     "data": {
      "text/plain": [
       "dtype('int64')"
      ]
     },
     "execution_count": 35,
     "metadata": {},
     "output_type": "execute_result"
    }
   ],
   "source": [
    "In [38]: arr.dtype"
   ]
  },
  {
   "cell_type": "code",
   "execution_count": 36,
   "id": "f80bb2a9-0eae-4b31-9de4-40ed1ee86924",
   "metadata": {},
   "outputs": [],
   "source": [
    "In [39]: float_arr = arr.astype(np.float64)"
   ]
  },
  {
   "cell_type": "code",
   "execution_count": 37,
   "id": "3e405a1d-80f8-4c00-a236-f2845508c56e",
   "metadata": {},
   "outputs": [
    {
     "data": {
      "text/plain": [
       "array([1., 2., 3., 4., 5.])"
      ]
     },
     "execution_count": 37,
     "metadata": {},
     "output_type": "execute_result"
    }
   ],
   "source": [
    "In [40]: float_arr"
   ]
  },
  {
   "cell_type": "code",
   "execution_count": 38,
   "id": "958fd6ef-5c5c-4728-85a1-101ab248548a",
   "metadata": {},
   "outputs": [
    {
     "data": {
      "text/plain": [
       "dtype('float64')"
      ]
     },
     "execution_count": 38,
     "metadata": {},
     "output_type": "execute_result"
    }
   ],
   "source": [
    "In [41]: float_arr.dtype"
   ]
  },
  {
   "cell_type": "code",
   "execution_count": 39,
   "id": "2bf4f3d9-12fc-437e-bf4c-0a0141faf359",
   "metadata": {},
   "outputs": [],
   "source": [
    "In [42]: arr = np.array([3.7, -1.2, -2.6, 0.5, 12.9, 10.1])"
   ]
  },
  {
   "cell_type": "code",
   "execution_count": 40,
   "id": "e200a4d2-492e-4daf-9b6d-42c8c9f4990b",
   "metadata": {},
   "outputs": [
    {
     "data": {
      "text/plain": [
       "array([ 3.7, -1.2, -2.6,  0.5, 12.9, 10.1])"
      ]
     },
     "execution_count": 40,
     "metadata": {},
     "output_type": "execute_result"
    }
   ],
   "source": [
    "In [43]: arr"
   ]
  },
  {
   "cell_type": "code",
   "execution_count": 41,
   "id": "0d23689a-cffb-41d5-ace0-aa739a6b1ca8",
   "metadata": {},
   "outputs": [
    {
     "data": {
      "text/plain": [
       "array([ 3, -1, -2,  0, 12, 10], dtype=int32)"
      ]
     },
     "execution_count": 41,
     "metadata": {},
     "output_type": "execute_result"
    }
   ],
   "source": [
    "In [44]: arr.astype(np.int32)"
   ]
  },
  {
   "cell_type": "code",
   "execution_count": 60,
   "id": "9fdee0db-a09a-4b14-90c7-600c13b3da76",
   "metadata": {},
   "outputs": [
    {
     "data": {
      "text/plain": [
       "array([ 1.25, -9.6 , 42.  ])"
      ]
     },
     "execution_count": 60,
     "metadata": {},
     "output_type": "execute_result"
    }
   ],
   "source": [
    "numeric_strings = np.array([\"1.25\", \"-9.6\", \"42\"], dtype=np.str_)\n",
    "numeric_strings.astype(float)"
   ]
  },
  {
   "cell_type": "code",
   "execution_count": 44,
   "id": "2ebc7b5e-306f-498c-a67b-0409d328b610",
   "metadata": {},
   "outputs": [],
   "source": [
    "In [47]: int_array = np.arange(10)"
   ]
  },
  {
   "cell_type": "code",
   "execution_count": 45,
   "id": "cc70496b-1e07-4809-99e9-09f7b8c58ea8",
   "metadata": {},
   "outputs": [],
   "source": [
    "In [48]: calibers = np.array([.22, .270, .357, .380, .44, .50], dtype=np.float64)"
   ]
  },
  {
   "cell_type": "code",
   "execution_count": 46,
   "id": "e647eba6-fbb2-4700-b605-69f029742b0c",
   "metadata": {},
   "outputs": [
    {
     "data": {
      "text/plain": [
       "array([0., 1., 2., 3., 4., 5., 6., 7., 8., 9.])"
      ]
     },
     "execution_count": 46,
     "metadata": {},
     "output_type": "execute_result"
    }
   ],
   "source": [
    "In [49]: int_array.astype(calibers.dtype)"
   ]
  },
  {
   "cell_type": "code",
   "execution_count": 47,
   "id": "13238af7-39f3-48b4-b4ff-1777d150962c",
   "metadata": {},
   "outputs": [],
   "source": [
    "In [50]: zeros_uint32 = np.zeros(8, dtype=\"u4\")"
   ]
  },
  {
   "cell_type": "code",
   "execution_count": 48,
   "id": "eeaaaf19-3ad6-43c8-997b-5d9e03997397",
   "metadata": {},
   "outputs": [
    {
     "data": {
      "text/plain": [
       "array([0, 0, 0, 0, 0, 0, 0, 0], dtype=uint32)"
      ]
     },
     "execution_count": 48,
     "metadata": {},
     "output_type": "execute_result"
    }
   ],
   "source": [
    "In [51]: zeros_uint32"
   ]
  },
  {
   "cell_type": "code",
   "execution_count": 49,
   "id": "b8d6faf3-e395-410e-9c5c-59fbd7a9d222",
   "metadata": {},
   "outputs": [],
   "source": [
    "In [52]: arr = np.array([[1., 2., 3.], [4., 5., 6.]])"
   ]
  },
  {
   "cell_type": "code",
   "execution_count": 50,
   "id": "29d19a8f-02ed-4882-8f27-30dca69bf786",
   "metadata": {},
   "outputs": [
    {
     "data": {
      "text/plain": [
       "array([[1., 2., 3.],\n",
       "       [4., 5., 6.]])"
      ]
     },
     "execution_count": 50,
     "metadata": {},
     "output_type": "execute_result"
    }
   ],
   "source": [
    "In [53]: arr"
   ]
  },
  {
   "cell_type": "code",
   "execution_count": 51,
   "id": "08b9f1c5-320a-4475-8500-318b3b7f75e0",
   "metadata": {},
   "outputs": [
    {
     "data": {
      "text/plain": [
       "array([[ 1.,  4.,  9.],\n",
       "       [16., 25., 36.]])"
      ]
     },
     "execution_count": 51,
     "metadata": {},
     "output_type": "execute_result"
    }
   ],
   "source": [
    "In [54]: arr * arr"
   ]
  },
  {
   "cell_type": "code",
   "execution_count": 52,
   "id": "56e94732-8b0e-41e6-8c69-41591f71a610",
   "metadata": {},
   "outputs": [
    {
     "data": {
      "text/plain": [
       "array([[0., 0., 0.],\n",
       "       [0., 0., 0.]])"
      ]
     },
     "execution_count": 52,
     "metadata": {},
     "output_type": "execute_result"
    }
   ],
   "source": [
    "In [55]: arr - arr"
   ]
  },
  {
   "cell_type": "code",
   "execution_count": 53,
   "id": "4cb13889-cf40-49d0-868b-1c1c4e626e6d",
   "metadata": {},
   "outputs": [
    {
     "data": {
      "text/plain": [
       "array([[1.        , 0.5       , 0.33333333],\n",
       "       [0.25      , 0.2       , 0.16666667]])"
      ]
     },
     "execution_count": 53,
     "metadata": {},
     "output_type": "execute_result"
    }
   ],
   "source": [
    "In [56]: 1 / arr"
   ]
  },
  {
   "cell_type": "code",
   "execution_count": 54,
   "id": "ab79d631-7cf0-4578-99fd-ae1928e91cec",
   "metadata": {},
   "outputs": [
    {
     "data": {
      "text/plain": [
       "array([[ 1.,  4.,  9.],\n",
       "       [16., 25., 36.]])"
      ]
     },
     "execution_count": 54,
     "metadata": {},
     "output_type": "execute_result"
    }
   ],
   "source": [
    "In [57]: arr ** 2"
   ]
  },
  {
   "cell_type": "code",
   "execution_count": 55,
   "id": "dc448476-2c62-4e55-ac8b-60fe57a36965",
   "metadata": {},
   "outputs": [],
   "source": [
    "In [58]: arr2 = np.array([[0., 4., 1.], [7., 2., 12.]])"
   ]
  },
  {
   "cell_type": "code",
   "execution_count": 56,
   "id": "d546472e-ce65-42f2-881f-ff127c19b5b5",
   "metadata": {},
   "outputs": [
    {
     "data": {
      "text/plain": [
       "array([[ 0.,  4.,  1.],\n",
       "       [ 7.,  2., 12.]])"
      ]
     },
     "execution_count": 56,
     "metadata": {},
     "output_type": "execute_result"
    }
   ],
   "source": [
    "In [59]: arr2"
   ]
  },
  {
   "cell_type": "code",
   "execution_count": 57,
   "id": "7f0f314d-c9c5-4b73-945b-1c88e2a98475",
   "metadata": {},
   "outputs": [
    {
     "data": {
      "text/plain": [
       "array([[False,  True, False],\n",
       "       [ True, False,  True]])"
      ]
     },
     "execution_count": 57,
     "metadata": {},
     "output_type": "execute_result"
    }
   ],
   "source": [
    "In [60]: arr2 > arr"
   ]
  },
  {
   "cell_type": "code",
   "execution_count": 58,
   "id": "b4559fb7-a8f4-466b-9595-15c44f027488",
   "metadata": {},
   "outputs": [],
   "source": [
    "In [61]: arr = np.arange(10)"
   ]
  },
  {
   "cell_type": "code",
   "execution_count": 59,
   "id": "a096c2b6-b72d-4181-b939-6ed2c3369a6a",
   "metadata": {},
   "outputs": [
    {
     "data": {
      "text/plain": [
       "array([0, 1, 2, 3, 4, 5, 6, 7, 8, 9])"
      ]
     },
     "execution_count": 59,
     "metadata": {},
     "output_type": "execute_result"
    }
   ],
   "source": [
    "In [62]: arr"
   ]
  },
  {
   "cell_type": "code",
   "execution_count": null,
   "id": "c3e02e35-7527-46ad-bb0f-ae27140e48e9",
   "metadata": {},
   "outputs": [],
   "source": []
  }
 ],
 "metadata": {
  "kernelspec": {
   "display_name": "Python 3 (ipykernel)",
   "language": "python",
   "name": "python3"
  },
  "language_info": {
   "codemirror_mode": {
    "name": "ipython",
    "version": 3
   },
   "file_extension": ".py",
   "mimetype": "text/x-python",
   "name": "python",
   "nbconvert_exporter": "python",
   "pygments_lexer": "ipython3",
   "version": "3.12.5"
  }
 },
 "nbformat": 4,
 "nbformat_minor": 5
}
